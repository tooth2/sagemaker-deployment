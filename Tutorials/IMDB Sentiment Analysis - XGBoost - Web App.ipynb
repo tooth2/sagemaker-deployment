{
 "cells": [
  {
   "cell_type": "markdown",
   "metadata": {},
   "source": [
    "# Sentiment Analysis Web App\n",
    "\n",
    "_Deep Learning Nanodegree Program | Deployment_\n",
    "\n",
    "---\n",
    "\n",
    "In this notebook we will use Amazon's SageMaker service to construct a random tree model to predict the sentiment of a movie review. In addition, we will deploy this model to an endpoint and construct a very simple web app which will interact with our model's deployed endpoint.\n",
    "\n",
    "## General Outline\n",
    "\n",
    "Typically, when using a notebook instance with SageMaker, you will proceed through the following steps. Of course, not every step will need to be done with each project. Also, there is quite a lot of room for variation in many of the steps, as you will see throughout these lessons.\n",
    "\n",
    "1. Download or otherwise retrieve the data.\n",
    "2. Process / Prepare the data.\n",
    "3. Upload the processed data to S3.\n",
    "4. Train a chosen model.\n",
    "5. Test the trained model (typically using a batch transform job).\n",
    "6. Deploy the trained model.\n",
    "7. Use the deployed model.\n",
    "\n",
    "In this notebook we will progress through each of the steps above. We will also see that the final step, using the deployed model, can be quite challenging."
   ]
  },
  {
   "cell_type": "code",
   "execution_count": 1,
   "metadata": {},
   "outputs": [
    {
     "name": "stdout",
     "output_type": "stream",
     "text": [
      "Collecting sagemaker==1.72.0\n",
      "  Downloading sagemaker-1.72.0.tar.gz (297 kB)\n",
      "\u001b[K     |████████████████████████████████| 297 kB 19.8 MB/s eta 0:00:01\n",
      "\u001b[?25hRequirement already satisfied: boto3>=1.14.12 in /home/ec2-user/anaconda3/envs/pytorch_p36/lib/python3.6/site-packages (from sagemaker==1.72.0) (1.16.37)\n",
      "Requirement already satisfied: numpy>=1.9.0 in /home/ec2-user/anaconda3/envs/pytorch_p36/lib/python3.6/site-packages (from sagemaker==1.72.0) (1.19.4)\n",
      "Requirement already satisfied: protobuf>=3.1 in /home/ec2-user/anaconda3/envs/pytorch_p36/lib/python3.6/site-packages (from sagemaker==1.72.0) (3.14.0)\n",
      "Requirement already satisfied: scipy>=0.19.0 in /home/ec2-user/anaconda3/envs/pytorch_p36/lib/python3.6/site-packages (from sagemaker==1.72.0) (1.4.1)\n",
      "Requirement already satisfied: protobuf3-to-dict>=0.1.5 in /home/ec2-user/anaconda3/envs/pytorch_p36/lib/python3.6/site-packages (from sagemaker==1.72.0) (0.1.5)\n",
      "Requirement already satisfied: importlib-metadata>=1.4.0 in /home/ec2-user/anaconda3/envs/pytorch_p36/lib/python3.6/site-packages (from sagemaker==1.72.0) (3.1.0)\n",
      "Requirement already satisfied: packaging>=20.0 in /home/ec2-user/anaconda3/envs/pytorch_p36/lib/python3.6/site-packages (from sagemaker==1.72.0) (20.7)\n",
      "Requirement already satisfied: jmespath<1.0.0,>=0.7.1 in /home/ec2-user/anaconda3/envs/pytorch_p36/lib/python3.6/site-packages (from boto3>=1.14.12->sagemaker==1.72.0) (0.10.0)\n",
      "Requirement already satisfied: s3transfer<0.4.0,>=0.3.0 in /home/ec2-user/anaconda3/envs/pytorch_p36/lib/python3.6/site-packages (from boto3>=1.14.12->sagemaker==1.72.0) (0.3.3)\n",
      "Requirement already satisfied: botocore<1.20.0,>=1.19.37 in /home/ec2-user/anaconda3/envs/pytorch_p36/lib/python3.6/site-packages (from boto3>=1.14.12->sagemaker==1.72.0) (1.19.37)\n",
      "Requirement already satisfied: jmespath<1.0.0,>=0.7.1 in /home/ec2-user/anaconda3/envs/pytorch_p36/lib/python3.6/site-packages (from boto3>=1.14.12->sagemaker==1.72.0) (0.10.0)\n",
      "Requirement already satisfied: urllib3<1.27,>=1.25.4 in /home/ec2-user/anaconda3/envs/pytorch_p36/lib/python3.6/site-packages (from botocore<1.20.0,>=1.19.37->boto3>=1.14.12->sagemaker==1.72.0) (1.25.11)\n",
      "Requirement already satisfied: python-dateutil<3.0.0,>=2.1 in /home/ec2-user/anaconda3/envs/pytorch_p36/lib/python3.6/site-packages (from botocore<1.20.0,>=1.19.37->boto3>=1.14.12->sagemaker==1.72.0) (2.8.1)\n",
      "Requirement already satisfied: zipp>=0.5 in /home/ec2-user/anaconda3/envs/pytorch_p36/lib/python3.6/site-packages (from importlib-metadata>=1.4.0->sagemaker==1.72.0) (3.4.0)\n",
      "Requirement already satisfied: pyparsing>=2.0.2 in /home/ec2-user/anaconda3/envs/pytorch_p36/lib/python3.6/site-packages (from packaging>=20.0->sagemaker==1.72.0) (2.4.7)\n",
      "Requirement already satisfied: six>=1.9 in /home/ec2-user/anaconda3/envs/pytorch_p36/lib/python3.6/site-packages (from protobuf>=3.1->sagemaker==1.72.0) (1.15.0)\n",
      "Requirement already satisfied: protobuf>=3.1 in /home/ec2-user/anaconda3/envs/pytorch_p36/lib/python3.6/site-packages (from sagemaker==1.72.0) (3.14.0)\n",
      "Requirement already satisfied: six>=1.9 in /home/ec2-user/anaconda3/envs/pytorch_p36/lib/python3.6/site-packages (from protobuf>=3.1->sagemaker==1.72.0) (1.15.0)\n",
      "Requirement already satisfied: six>=1.9 in /home/ec2-user/anaconda3/envs/pytorch_p36/lib/python3.6/site-packages (from protobuf>=3.1->sagemaker==1.72.0) (1.15.0)\n",
      "Requirement already satisfied: botocore<1.20.0,>=1.19.37 in /home/ec2-user/anaconda3/envs/pytorch_p36/lib/python3.6/site-packages (from boto3>=1.14.12->sagemaker==1.72.0) (1.19.37)\n",
      "Requirement already satisfied: numpy>=1.9.0 in /home/ec2-user/anaconda3/envs/pytorch_p36/lib/python3.6/site-packages (from sagemaker==1.72.0) (1.19.4)\n",
      "Collecting smdebug-rulesconfig==0.1.4\n",
      "  Downloading smdebug_rulesconfig-0.1.4-py2.py3-none-any.whl (10 kB)\n",
      "Building wheels for collected packages: sagemaker\n",
      "  Building wheel for sagemaker (setup.py) ... \u001b[?25ldone\n",
      "\u001b[?25h  Created wheel for sagemaker: filename=sagemaker-1.72.0-py2.py3-none-any.whl size=386358 sha256=6e46c9ac3f95ed813f54614f576aa162e4f41b8740f28594494a226778692fb4\n",
      "  Stored in directory: /home/ec2-user/.cache/pip/wheels/c3/58/70/85faf4437568bfaa4c419937569ba1fe54d44c5db42406bbd7\n",
      "Successfully built sagemaker\n",
      "Installing collected packages: smdebug-rulesconfig, sagemaker\n",
      "  Attempting uninstall: smdebug-rulesconfig\n",
      "    Found existing installation: smdebug-rulesconfig 1.0.0\n",
      "    Uninstalling smdebug-rulesconfig-1.0.0:\n",
      "      Successfully uninstalled smdebug-rulesconfig-1.0.0\n",
      "  Attempting uninstall: sagemaker\n",
      "    Found existing installation: sagemaker 2.19.0\n",
      "    Uninstalling sagemaker-2.19.0:\n",
      "      Successfully uninstalled sagemaker-2.19.0\n",
      "Successfully installed sagemaker-1.72.0 smdebug-rulesconfig-0.1.4\n",
      "\u001b[33mWARNING: You are using pip version 20.3; however, version 20.3.3 is available.\n",
      "You should consider upgrading via the '/home/ec2-user/anaconda3/envs/pytorch_p36/bin/python -m pip install --upgrade pip' command.\u001b[0m\n"
     ]
    }
   ],
   "source": [
    "# Make sure that we use SageMaker 1.x\n",
    "!pip install sagemaker==1.72.0"
   ]
  },
  {
   "cell_type": "markdown",
   "metadata": {},
   "source": [
    "## Step 1: Downloading the data\n",
    "\n",
    "The dataset we are going to use is very popular among researchers in Natural Language Processing, usually referred to as the [IMDb dataset](http://ai.stanford.edu/~amaas/data/sentiment/). It consists of movie reviews from the website [imdb.com](http://www.imdb.com/), each labeled as either '**pos**itive', if the reviewer enjoyed the film, or '**neg**ative' otherwise.\n",
    "\n",
    "> Maas, Andrew L., et al. [Learning Word Vectors for Sentiment Analysis](http://ai.stanford.edu/~amaas/data/sentiment/). In _Proceedings of the 49th Annual Meeting of the Association for Computational Linguistics: Human Language Technologies_. Association for Computational Linguistics, 2011.\n",
    "\n",
    "We begin by using some Jupyter Notebook magic to download and extract the dataset."
   ]
  },
  {
   "cell_type": "code",
   "execution_count": 2,
   "metadata": {},
   "outputs": [
    {
     "name": "stdout",
     "output_type": "stream",
     "text": [
      "--2021-01-19 03:13:50--  http://ai.stanford.edu/~amaas/data/sentiment/aclImdb_v1.tar.gz\n",
      "Resolving ai.stanford.edu (ai.stanford.edu)... 171.64.68.10\n",
      "Connecting to ai.stanford.edu (ai.stanford.edu)|171.64.68.10|:80... connected.\n",
      "HTTP request sent, awaiting response... 200 OK\n",
      "Length: 84125825 (80M) [application/x-gzip]\n",
      "Saving to: ‘../data/aclImdb_v1.tar.gz’\n",
      "\n",
      "../data/aclImdb_v1. 100%[===================>]  80.23M  24.5MB/s    in 4.4s    \n",
      "\n",
      "2021-01-19 03:13:55 (18.1 MB/s) - ‘../data/aclImdb_v1.tar.gz’ saved [84125825/84125825]\n",
      "\n"
     ]
    }
   ],
   "source": [
    "%mkdir ../data\n",
    "!wget -O ../data/aclImdb_v1.tar.gz http://ai.stanford.edu/~amaas/data/sentiment/aclImdb_v1.tar.gz\n",
    "!tar -zxf ../data/aclImdb_v1.tar.gz -C ../data"
   ]
  },
  {
   "cell_type": "markdown",
   "metadata": {},
   "source": [
    "## Step 2: Preparing and Processing the data\n",
    "\n",
    "The data we have downloaded is split into various files, each of which contains a single review. It will be much easier going forward if we combine these individual files into two large files, one for training and one for testing."
   ]
  },
  {
   "cell_type": "code",
   "execution_count": 3,
   "metadata": {},
   "outputs": [],
   "source": [
    "import os\n",
    "import glob\n",
    "\n",
    "def read_imdb_data(data_dir='../data/aclImdb'):\n",
    "    data = {}\n",
    "    labels = {}\n",
    "    \n",
    "    for data_type in ['train', 'test']:\n",
    "        data[data_type] = {}\n",
    "        labels[data_type] = {}\n",
    "        \n",
    "        for sentiment in ['pos', 'neg']:\n",
    "            data[data_type][sentiment] = []\n",
    "            labels[data_type][sentiment] = []\n",
    "            \n",
    "            path = os.path.join(data_dir, data_type, sentiment, '*.txt')\n",
    "            files = glob.glob(path)\n",
    "            \n",
    "            for f in files:\n",
    "                with open(f) as review:\n",
    "                    data[data_type][sentiment].append(review.read())\n",
    "                    # Here we represent a positive review by '1' and a negative review by '0'\n",
    "                    labels[data_type][sentiment].append(1 if sentiment == 'pos' else 0)\n",
    "                    \n",
    "            assert len(data[data_type][sentiment]) == len(labels[data_type][sentiment]), \\\n",
    "                    \"{}/{} data size does not match labels size\".format(data_type, sentiment)\n",
    "                \n",
    "    return data, labels"
   ]
  },
  {
   "cell_type": "code",
   "execution_count": 4,
   "metadata": {},
   "outputs": [
    {
     "name": "stdout",
     "output_type": "stream",
     "text": [
      "IMDB reviews: train = 12500 pos / 12500 neg, test = 12500 pos / 12500 neg\n"
     ]
    }
   ],
   "source": [
    "data, labels = read_imdb_data()\n",
    "print(\"IMDB reviews: train = {} pos / {} neg, test = {} pos / {} neg\".format(\n",
    "            len(data['train']['pos']), len(data['train']['neg']),\n",
    "            len(data['test']['pos']), len(data['test']['neg'])))"
   ]
  },
  {
   "cell_type": "code",
   "execution_count": 5,
   "metadata": {},
   "outputs": [],
   "source": [
    "from sklearn.utils import shuffle\n",
    "\n",
    "def prepare_imdb_data(data, labels):\n",
    "    \"\"\"Prepare training and test sets from IMDb movie reviews.\"\"\"\n",
    "    \n",
    "    #Combine positive and negative reviews and labels\n",
    "    data_train = data['train']['pos'] + data['train']['neg']\n",
    "    data_test = data['test']['pos'] + data['test']['neg']\n",
    "    labels_train = labels['train']['pos'] + labels['train']['neg']\n",
    "    labels_test = labels['test']['pos'] + labels['test']['neg']\n",
    "    \n",
    "    #Shuffle reviews and corresponding labels within training and test sets\n",
    "    data_train, labels_train = shuffle(data_train, labels_train)\n",
    "    data_test, labels_test = shuffle(data_test, labels_test)\n",
    "    \n",
    "    # Return a unified training data, test data, training labels, test labets\n",
    "    return data_train, data_test, labels_train, labels_test"
   ]
  },
  {
   "cell_type": "code",
   "execution_count": 6,
   "metadata": {},
   "outputs": [
    {
     "name": "stdout",
     "output_type": "stream",
     "text": [
      "IMDb reviews (combined): train = 25000, test = 25000\n"
     ]
    }
   ],
   "source": [
    "train_X, test_X, train_y, test_y = prepare_imdb_data(data, labels)\n",
    "print(\"IMDb reviews (combined): train = {}, test = {}\".format(len(train_X), len(test_X)))"
   ]
  },
  {
   "cell_type": "code",
   "execution_count": 7,
   "metadata": {},
   "outputs": [
    {
     "data": {
      "text/plain": [
       "'I saw this movie again as an assignment for my management class. Were to mainly comment on the different management styles and ideas on quality(of the product). I did rent this one back in the eighties and I remember it to be good(but not great)movie. I\\'ve always liked Michael Keaton\\'s style and delivery. He was a perfect fit for the movie.<br /><br />I am surprised to see some of the low ratings for this movie. I grant you yes it\\'s no Oscar winner but it does have decent comedic value. It\\'s more of a subtle comedy rather than a all-out comedy farce. I also find some of those that felt this was an inaccurate film on cultural and business differences. I beg to differ. I grant you again that there are a lot of generalities and dramatizations but then again this is Hollywood film not a documentary. From what I\\'ve read about differences between Automakers on both sides of the Pacific at that time many of the principle ideas were accurate for the time.<br /><br />Some of the basic differences were that Japanese workers made to feel as part of the company as a whole. Teamwork was emphasized. They perhaps made the company above all else. Where American workers had more of a management verses labor type of relationship. The individual was more important than the company. I\\'ll probably get some hate email over that comment I\\'m sure.<br /><br />Another difference was how quality was viewed and whose responsibility it was to fix. In many Japanese plants defects or problems are examined and fixed at the time it is discovered. Rather as one character in the movie put it \"it was the dealers(meaning car dealer) problem\".<br /><br />Many of these things are probably dated but I\\'m sure some are still around as many US car makers are still struggling to keep up with the Japanese. If one is more interested in the subject of American, European and Japanese automakers I can recommend a book that studies this subject in more detail and was done around the same time period. The book is called \"The machine that changed the world\" by James Womack, Daniel Jones and Daniel Roos. It\\'s about a study of automakers during and before the time period that this movie covers. Parts are bit dry but I think you\\'ll find that it backs up much the movie also.'"
      ]
     },
     "execution_count": 7,
     "metadata": {},
     "output_type": "execute_result"
    }
   ],
   "source": [
    "train_X[100]"
   ]
  },
  {
   "cell_type": "markdown",
   "metadata": {},
   "source": [
    "## Processing the data\n",
    "\n",
    "Now that we have our training and testing datasets merged and ready to use, we need to start processing the raw data into something that will be useable by our machine learning algorithm. To begin with, we remove any html formatting and any non-alpha numeric characters that may appear in the reviews. We will do this in a very simplistic way using Python's regular expression module. We will discuss the reason for this rather simplistic pre-processing later on."
   ]
  },
  {
   "cell_type": "code",
   "execution_count": 8,
   "metadata": {},
   "outputs": [],
   "source": [
    "import re\n",
    "\n",
    "REPLACE_NO_SPACE = re.compile(\"(\\.)|(\\;)|(\\:)|(\\!)|(\\')|(\\?)|(\\,)|(\\\")|(\\()|(\\))|(\\[)|(\\])\")\n",
    "REPLACE_WITH_SPACE = re.compile(\"(<br\\s*/><br\\s*/>)|(\\-)|(\\/)\")\n",
    "\n",
    "def review_to_words(review):\n",
    "    words = REPLACE_NO_SPACE.sub(\"\", review.lower())\n",
    "    words = REPLACE_WITH_SPACE.sub(\" \", words)\n",
    "    return words"
   ]
  },
  {
   "cell_type": "code",
   "execution_count": 9,
   "metadata": {},
   "outputs": [
    {
     "data": {
      "text/plain": [
       "'i saw this movie again as an assignment for my management class were to mainly comment on the different management styles and ideas on qualityof the product i did rent this one back in the eighties and i remember it to be goodbut not greatmovie ive always liked michael keatons style and delivery he was a perfect fit for the movie i am surprised to see some of the low ratings for this movie i grant you yes its no oscar winner but it does have decent comedic value its more of a subtle comedy rather than a all out comedy farce i also find some of those that felt this was an inaccurate film on cultural and business differences i beg to differ i grant you again that there are a lot of generalities and dramatizations but then again this is hollywood film not a documentary from what ive read about differences between automakers on both sides of the pacific at that time many of the principle ideas were accurate for the time some of the basic differences were that japanese workers made to feel as part of the company as a whole teamwork was emphasized they perhaps made the company above all else where american workers had more of a management verses labor type of relationship the individual was more important than the company ill probably get some hate email over that comment im sure another difference was how quality was viewed and whose responsibility it was to fix in many japanese plants defects or problems are examined and fixed at the time it is discovered rather as one character in the movie put it it was the dealersmeaning car dealer problem many of these things are probably dated but im sure some are still around as many us car makers are still struggling to keep up with the japanese if one is more interested in the subject of american european and japanese automakers i can recommend a book that studies this subject in more detail and was done around the same time period the book is called the machine that changed the world by james womack daniel jones and daniel roos its about a study of automakers during and before the time period that this movie covers parts are bit dry but i think youll find that it backs up much the movie also'"
      ]
     },
     "execution_count": 9,
     "metadata": {},
     "output_type": "execute_result"
    }
   ],
   "source": [
    "review_to_words(train_X[100])"
   ]
  },
  {
   "cell_type": "code",
   "execution_count": 10,
   "metadata": {},
   "outputs": [],
   "source": [
    "import pickle\n",
    "\n",
    "cache_dir = os.path.join(\"../cache\", \"sentiment_web_app\")  # where to store cache files\n",
    "os.makedirs(cache_dir, exist_ok=True)  # ensure cache directory exists\n",
    "\n",
    "def preprocess_data(data_train, data_test, labels_train, labels_test,\n",
    "                    cache_dir=cache_dir, cache_file=\"preprocessed_data.pkl\"):\n",
    "    \"\"\"Convert each review to words; read from cache if available.\"\"\"\n",
    "\n",
    "    # If cache_file is not None, try to read from it first\n",
    "    cache_data = None\n",
    "    if cache_file is not None:\n",
    "        try:\n",
    "            with open(os.path.join(cache_dir, cache_file), \"rb\") as f:\n",
    "                cache_data = pickle.load(f)\n",
    "            print(\"Read preprocessed data from cache file:\", cache_file)\n",
    "        except:\n",
    "            pass  # unable to read from cache, but that's okay\n",
    "    \n",
    "    # If cache is missing, then do the heavy lifting\n",
    "    if cache_data is None:\n",
    "        # Preprocess training and test data to obtain words for each review\n",
    "        #words_train = list(map(review_to_words, data_train))\n",
    "        #words_test = list(map(review_to_words, data_test))\n",
    "        words_train = [review_to_words(review) for review in data_train]\n",
    "        words_test = [review_to_words(review) for review in data_test]\n",
    "        \n",
    "        # Write to cache file for future runs\n",
    "        if cache_file is not None:\n",
    "            cache_data = dict(words_train=words_train, words_test=words_test,\n",
    "                              labels_train=labels_train, labels_test=labels_test)\n",
    "            with open(os.path.join(cache_dir, cache_file), \"wb\") as f:\n",
    "                pickle.dump(cache_data, f)\n",
    "            print(\"Wrote preprocessed data to cache file:\", cache_file)\n",
    "    else:\n",
    "        # Unpack data loaded from cache file\n",
    "        words_train, words_test, labels_train, labels_test = (cache_data['words_train'],\n",
    "                cache_data['words_test'], cache_data['labels_train'], cache_data['labels_test'])\n",
    "    \n",
    "    return words_train, words_test, labels_train, labels_test"
   ]
  },
  {
   "cell_type": "code",
   "execution_count": 11,
   "metadata": {},
   "outputs": [
    {
     "name": "stdout",
     "output_type": "stream",
     "text": [
      "Wrote preprocessed data to cache file: preprocessed_data.pkl\n"
     ]
    }
   ],
   "source": [
    "# Preprocess data\n",
    "train_X, test_X, train_y, test_y = preprocess_data(train_X, test_X, train_y, test_y)"
   ]
  },
  {
   "cell_type": "markdown",
   "metadata": {},
   "source": [
    "### Extract Bag-of-Words features\n",
    "\n",
    "For the model we will be implementing, rather than using the reviews directly, we are going to transform each review into a Bag-of-Words feature representation. Keep in mind that 'in the wild' we will only have access to the training set so our transformer can only use the training set to construct a representation."
   ]
  },
  {
   "cell_type": "code",
   "execution_count": 12,
   "metadata": {},
   "outputs": [],
   "source": [
    "import numpy as np\n",
    "from sklearn.feature_extraction.text import CountVectorizer\n",
    "\n",
    "# sklearn.externals.joblib is deprecated in 0.21 and will be removed in 0.23. \n",
    "# from sklearn.externals import joblib\n",
    "\n",
    "# Import joblib package directly\n",
    "import joblib\n",
    "# joblib is an enhanced version of pickle that is more efficient for storing NumPy arrays\n",
    "\n",
    "def extract_BoW_features(words_train, words_test, vocabulary_size=5000,\n",
    "                         cache_dir=cache_dir, cache_file=\"bow_features.pkl\"):\n",
    "    \"\"\"Extract Bag-of-Words for a given set of documents, already preprocessed into words.\"\"\"\n",
    "    \n",
    "    # If cache_file is not None, try to read from it first\n",
    "    cache_data = None\n",
    "    if cache_file is not None:\n",
    "        try:\n",
    "            with open(os.path.join(cache_dir, cache_file), \"rb\") as f:\n",
    "                cache_data = joblib.load(f)\n",
    "            print(\"Read features from cache file:\", cache_file)\n",
    "        except:\n",
    "            pass  # unable to read from cache, but that's okay\n",
    "    \n",
    "    # If cache is missing, then do the heavy lifting\n",
    "    if cache_data is None:\n",
    "        # Fit a vectorizer to training documents and use it to transform them\n",
    "        # NOTE: Training documents have already been preprocessed and tokenized into words;\n",
    "        #       pass in dummy functions to skip those steps, e.g. preprocessor=lambda x: x\n",
    "        vectorizer = CountVectorizer(max_features=vocabulary_size)\n",
    "        features_train = vectorizer.fit_transform(words_train).toarray()\n",
    "\n",
    "        # Apply the same vectorizer to transform the test documents (ignore unknown words)\n",
    "        features_test = vectorizer.transform(words_test).toarray()\n",
    "        \n",
    "        # NOTE: Remember to convert the features using .toarray() for a compact representation\n",
    "        \n",
    "        # Write to cache file for future runs (store vocabulary as well)\n",
    "        if cache_file is not None:\n",
    "            vocabulary = vectorizer.vocabulary_\n",
    "            cache_data = dict(features_train=features_train, features_test=features_test,\n",
    "                             vocabulary=vocabulary)\n",
    "            with open(os.path.join(cache_dir, cache_file), \"wb\") as f:\n",
    "                joblib.dump(cache_data, f)\n",
    "            print(\"Wrote features to cache file:\", cache_file)\n",
    "    else:\n",
    "        # Unpack data loaded from cache file\n",
    "        features_train, features_test, vocabulary = (cache_data['features_train'],\n",
    "                cache_data['features_test'], cache_data['vocabulary'])\n",
    "    \n",
    "    # Return both the extracted features as well as the vocabulary\n",
    "    return features_train, features_test, vocabulary"
   ]
  },
  {
   "cell_type": "code",
   "execution_count": 13,
   "metadata": {},
   "outputs": [
    {
     "name": "stdout",
     "output_type": "stream",
     "text": [
      "Wrote features to cache file: bow_features.pkl\n"
     ]
    }
   ],
   "source": [
    "# Extract Bag of Words features for both training and test datasets\n",
    "train_X, test_X, vocabulary = extract_BoW_features(train_X, test_X)"
   ]
  },
  {
   "cell_type": "code",
   "execution_count": 14,
   "metadata": {},
   "outputs": [
    {
     "data": {
      "text/plain": [
       "5000"
      ]
     },
     "execution_count": 14,
     "metadata": {},
     "output_type": "execute_result"
    }
   ],
   "source": [
    "len(train_X[100])"
   ]
  },
  {
   "cell_type": "markdown",
   "metadata": {},
   "source": [
    "## Step 3: Upload data to S3\n",
    "\n",
    "Now that we have created the feature representation of our training (and testing) data, it is time to start setting up and using the XGBoost classifier provided by SageMaker.\n",
    "\n",
    "### Writing the datasets\n",
    "\n",
    "The XGBoost classifier that we will be using requires the dataset to be written to a file and stored using Amazon S3. To do this, we will start by splitting the training dataset into two parts, the data we will train the model with and a validation set. Then, we will write those datasets to a file locally and then upload the files to S3. In addition, we will write the test set to a file and upload that file to S3. This is so that we can use SageMakers Batch Transform functionality to test our model once we've fit it."
   ]
  },
  {
   "cell_type": "code",
   "execution_count": 15,
   "metadata": {},
   "outputs": [],
   "source": [
    "import pandas as pd\n",
    "\n",
    "# Earlier we shuffled the training dataset so to make things simple we can just assign\n",
    "# the first 10 000 reviews to the validation set and use the remaining reviews for training.\n",
    "val_X = pd.DataFrame(train_X[:10000])\n",
    "train_X = pd.DataFrame(train_X[10000:])\n",
    "\n",
    "val_y = pd.DataFrame(train_y[:10000])\n",
    "train_y = pd.DataFrame(train_y[10000:])"
   ]
  },
  {
   "cell_type": "markdown",
   "metadata": {},
   "source": [
    "The documentation for the XGBoost algorithm in SageMaker requires that the training and validation datasets should contain no headers or index and that the label should occur first for each sample.\n",
    "\n",
    "For more information about this and other algorithms, the SageMaker developer documentation can be found on __[Amazon's website.](https://docs.aws.amazon.com/sagemaker/latest/dg/)__"
   ]
  },
  {
   "cell_type": "code",
   "execution_count": 16,
   "metadata": {},
   "outputs": [],
   "source": [
    "# First we make sure that the local directory in which we'd like to store the training and validation csv files exists.\n",
    "data_dir = '../data/sentiment_web_app'\n",
    "if not os.path.exists(data_dir):\n",
    "    os.makedirs(data_dir)"
   ]
  },
  {
   "cell_type": "code",
   "execution_count": 17,
   "metadata": {},
   "outputs": [],
   "source": [
    "pd.DataFrame(test_X).to_csv(os.path.join(data_dir, 'test.csv'), header=False, index=False)\n",
    "\n",
    "pd.concat([val_y, val_X], axis=1).to_csv(os.path.join(data_dir, 'validation.csv'), header=False, index=False)\n",
    "pd.concat([train_y, train_X], axis=1).to_csv(os.path.join(data_dir, 'train.csv'), header=False, index=False)"
   ]
  },
  {
   "cell_type": "code",
   "execution_count": 18,
   "metadata": {},
   "outputs": [],
   "source": [
    "# To save a bit of memory we can set text_X, train_X, val_X, train_y and val_y to None.\n",
    "\n",
    "test_X = train_X = val_X = train_y = val_y = None"
   ]
  },
  {
   "cell_type": "markdown",
   "metadata": {},
   "source": [
    "### Uploading Training / Validation files to S3\n",
    "\n",
    "Amazon's S3 service allows us to store files that can be accessed by both the built-in training models such as the XGBoost model we will be using as well as custom models such as the one we will see a little later.\n",
    "\n",
    "For this and most other tasks we will be doing using SageMaker, there are two methods we could use. The first is to use the low level functionality of SageMaker which requires knowing each of the objects involved in the SageMaker environment. The second is to use the high level functionality in which certain choices have been made on the user's behalf. The low level approach benefits from allowing the user a great deal of flexibility while the high level approach makes development much quicker. For our purposes we will opt to use the high level approach although using the low-level approach is certainly an option.\n",
    "\n",
    "Recall the method `upload_data()` which is a member of the object representing our current SageMaker session. What this method does is upload the data to the default bucket (which is created if it does not exist) into the path described by the key_prefix variable. To see this for yourself, once you have uploaded the data files, go to the S3 console and look to see where the files have been uploaded.\n",
    "\n",
    "For additional resources, see the __[SageMaker API documentation](http://sagemaker.readthedocs.io/en/latest/)__ and in addition the __[SageMaker Developer Guide.](https://docs.aws.amazon.com/sagemaker/latest/dg/)__"
   ]
  },
  {
   "cell_type": "code",
   "execution_count": 19,
   "metadata": {},
   "outputs": [],
   "source": [
    "import sagemaker\n",
    "\n",
    "session = sagemaker.Session() # Store the current SageMaker session\n",
    "\n",
    "# S3 prefix (which folder will we use)\n",
    "prefix = 'sentiment-web-app'\n",
    "\n",
    "test_location = session.upload_data(os.path.join(data_dir, 'test.csv'), key_prefix=prefix)\n",
    "val_location = session.upload_data(os.path.join(data_dir, 'validation.csv'), key_prefix=prefix)\n",
    "train_location = session.upload_data(os.path.join(data_dir, 'train.csv'), key_prefix=prefix)"
   ]
  },
  {
   "cell_type": "markdown",
   "metadata": {},
   "source": [
    "## Step 4: Creating the XGBoost model\n",
    "\n",
    "Now that the data has been uploaded it is time to create the XGBoost model. To begin with, we need to do some setup. At this point it is worth discussing what a model is in SageMaker. It is easiest to think of a model of comprising three different objects in the SageMaker ecosystem, which interact with one another.\n",
    "\n",
    "- Model Artifacts\n",
    "- Training Code (Container)\n",
    "- Inference Code (Container)\n",
    "\n",
    "The Model Artifacts are what you might think of as the actual model itself. For example, if you were building a neural network, the model artifacts would be the weights of the various layers. In our case, for an XGBoost model, the artifacts are the actual trees that are created during training.\n",
    "\n",
    "The other two objects, the training code and the inference code are then used to manipulate the training artifacts. More precisely, the training code uses the training data that is provided and creates the model artifacts, while the inference code uses the model artifacts to make predictions on new data.\n",
    "\n",
    "The way that SageMaker runs the training and inference code is by making use of Docker containers. For now, think of a container as being a way of packaging code up so that dependencies aren't an issue."
   ]
  },
  {
   "cell_type": "code",
   "execution_count": 20,
   "metadata": {},
   "outputs": [],
   "source": [
    "from sagemaker import get_execution_role\n",
    "\n",
    "# Our current execution role is required when creating the model as the training\n",
    "# and inference code will need to access the model artifacts.\n",
    "role = get_execution_role()"
   ]
  },
  {
   "cell_type": "code",
   "execution_count": 21,
   "metadata": {},
   "outputs": [
    {
     "name": "stderr",
     "output_type": "stream",
     "text": [
      "'get_image_uri' method will be deprecated in favor of 'ImageURIProvider' class in SageMaker Python SDK v2.\n",
      "There is a more up to date SageMaker XGBoost image. To use the newer image, please set 'repo_version'='1.0-1'. For example:\n",
      "\tget_image_uri(region, 'xgboost', '1.0-1').\n"
     ]
    }
   ],
   "source": [
    "# We need to retrieve the location of the container which is provided by Amazon for using XGBoost.\n",
    "# As a matter of convenience, the training and inference code both use the same container.\n",
    "from sagemaker.amazon.amazon_estimator import get_image_uri\n",
    "\n",
    "container = get_image_uri(session.boto_region_name, 'xgboost')"
   ]
  },
  {
   "cell_type": "code",
   "execution_count": 22,
   "metadata": {},
   "outputs": [
    {
     "name": "stderr",
     "output_type": "stream",
     "text": [
      "Parameter image_name will be renamed to image_uri in SageMaker Python SDK v2.\n"
     ]
    }
   ],
   "source": [
    "# First we create a SageMaker estimator object for our model.\n",
    "xgb = sagemaker.estimator.Estimator(container, # The location of the container we wish to use\n",
    "                                    role,                                    # What is our current IAM Role\n",
    "                                    train_instance_count=1,                  # How many compute instances\n",
    "                                    #train_instance_type='ml.m4.xlarge',      # What kind of compute instances\n",
    "                                    train_instance_type='ml.t2.medium' ,\n",
    "                                    output_path='s3://{}/{}/output'.format(session.default_bucket(), prefix),\n",
    "                                    sagemaker_session=session)\n",
    "\n",
    "# And then set the algorithm specific parameters.\n",
    "xgb.set_hyperparameters(max_depth=5,\n",
    "                        eta=0.2,\n",
    "                        gamma=4,\n",
    "                        min_child_weight=6,\n",
    "                        subsample=0.8,\n",
    "                        silent=0,\n",
    "                        objective='binary:logistic',\n",
    "                        early_stopping_rounds=10,\n",
    "                        num_round=500)"
   ]
  },
  {
   "cell_type": "markdown",
   "metadata": {},
   "source": [
    "### Fit the XGBoost model\n",
    "\n",
    "Now that our model has been set up we simply need to attach the training and validation datasets and then ask SageMaker to set up the computation."
   ]
  },
  {
   "cell_type": "code",
   "execution_count": 23,
   "metadata": {},
   "outputs": [
    {
     "name": "stderr",
     "output_type": "stream",
     "text": [
      "'s3_input' class will be renamed to 'TrainingInput' in SageMaker Python SDK v2.\n",
      "'s3_input' class will be renamed to 'TrainingInput' in SageMaker Python SDK v2.\n"
     ]
    }
   ],
   "source": [
    "s3_input_train = sagemaker.s3_input(s3_data=train_location, content_type='csv')\n",
    "s3_input_validation = sagemaker.s3_input(s3_data=val_location, content_type='csv')"
   ]
  },
  {
   "cell_type": "code",
   "execution_count": 24,
   "metadata": {},
   "outputs": [
    {
     "name": "stdout",
     "output_type": "stream",
     "text": [
      "2021-01-19 03:25:52 Starting - Starting the training job...\n",
      "2021-01-19 03:25:54 Starting - Launching requested ML instances......\n",
      "2021-01-19 03:27:07 Starting - Preparing the instances for training......\n",
      "2021-01-19 03:28:04 Downloading - Downloading input data...\n",
      "2021-01-19 03:28:41 Training - Downloading the training image..\u001b[34mArguments: train\u001b[0m\n",
      "\u001b[34m[2021-01-19:03:29:02:INFO] Running standalone xgboost training.\u001b[0m\n",
      "\u001b[34m[2021-01-19:03:29:02:INFO] File size need to be processed in the node: 238.5mb. Available memory size in the node: 8428.77mb\u001b[0m\n",
      "\u001b[34m[2021-01-19:03:29:02:INFO] Determined delimiter of CSV input is ','\u001b[0m\n",
      "\u001b[34m[03:29:02] S3DistributionType set as FullyReplicated\u001b[0m\n",
      "\u001b[34m[03:29:04] 15000x5000 matrix with 75000000 entries loaded from /opt/ml/input/data/train?format=csv&label_column=0&delimiter=,\u001b[0m\n",
      "\u001b[34m[2021-01-19:03:29:04:INFO] Determined delimiter of CSV input is ','\u001b[0m\n",
      "\u001b[34m[03:29:04] S3DistributionType set as FullyReplicated\u001b[0m\n",
      "\u001b[34m[03:29:06] 10000x5000 matrix with 50000000 entries loaded from /opt/ml/input/data/validation?format=csv&label_column=0&delimiter=,\u001b[0m\n",
      "\n",
      "2021-01-19 03:29:01 Training - Training image download completed. Training in progress.\u001b[34m[03:29:09] src/tree/updater_prune.cc:74: tree pruning end, 1 roots, 42 extra nodes, 6 pruned nodes, max_depth=5\u001b[0m\n",
      "\u001b[34m[0]#011train-error:0.310067#011validation-error:0.3069\u001b[0m\n",
      "\u001b[34mMultiple eval metrics have been passed: 'validation-error' will be used for early stopping.\n",
      "\u001b[0m\n",
      "\u001b[34mWill train until validation-error hasn't improved in 10 rounds.\u001b[0m\n",
      "\u001b[34m[03:29:10] src/tree/updater_prune.cc:74: tree pruning end, 1 roots, 38 extra nodes, 8 pruned nodes, max_depth=5\u001b[0m\n",
      "\u001b[34m[1]#011train-error:0.307267#011validation-error:0.3015\u001b[0m\n",
      "\u001b[34m[03:29:12] src/tree/updater_prune.cc:74: tree pruning end, 1 roots, 36 extra nodes, 12 pruned nodes, max_depth=5\u001b[0m\n",
      "\u001b[34m[2]#011train-error:0.2932#011validation-error:0.2913\u001b[0m\n",
      "\u001b[34m[03:29:14] src/tree/updater_prune.cc:74: tree pruning end, 1 roots, 44 extra nodes, 8 pruned nodes, max_depth=5\u001b[0m\n",
      "\u001b[34m[3]#011train-error:0.278867#011validation-error:0.2795\u001b[0m\n",
      "\u001b[34m[03:29:15] src/tree/updater_prune.cc:74: tree pruning end, 1 roots, 34 extra nodes, 2 pruned nodes, max_depth=5\u001b[0m\n",
      "\u001b[34m[4]#011train-error:0.264667#011validation-error:0.2688\u001b[0m\n",
      "\u001b[34m[03:29:16] src/tree/updater_prune.cc:74: tree pruning end, 1 roots, 38 extra nodes, 4 pruned nodes, max_depth=5\u001b[0m\n",
      "\u001b[34m[5]#011train-error:0.2504#011validation-error:0.2564\u001b[0m\n",
      "\u001b[34m[03:29:18] src/tree/updater_prune.cc:74: tree pruning end, 1 roots, 30 extra nodes, 8 pruned nodes, max_depth=5\u001b[0m\n",
      "\u001b[34m[6]#011train-error:0.2482#011validation-error:0.256\u001b[0m\n",
      "\u001b[34m[03:29:19] src/tree/updater_prune.cc:74: tree pruning end, 1 roots, 36 extra nodes, 6 pruned nodes, max_depth=5\u001b[0m\n",
      "\u001b[34m[7]#011train-error:0.239733#011validation-error:0.2507\u001b[0m\n",
      "\u001b[34m[03:29:20] src/tree/updater_prune.cc:74: tree pruning end, 1 roots, 42 extra nodes, 6 pruned nodes, max_depth=5\u001b[0m\n",
      "\u001b[34m[8]#011train-error:0.231067#011validation-error:0.2452\u001b[0m\n",
      "\u001b[34m[03:29:21] src/tree/updater_prune.cc:74: tree pruning end, 1 roots, 38 extra nodes, 6 pruned nodes, max_depth=5\u001b[0m\n",
      "\u001b[34m[9]#011train-error:0.225533#011validation-error:0.2407\u001b[0m\n",
      "\u001b[34m[03:29:23] src/tree/updater_prune.cc:74: tree pruning end, 1 roots, 30 extra nodes, 6 pruned nodes, max_depth=5\u001b[0m\n",
      "\u001b[34m[10]#011train-error:0.217867#011validation-error:0.2348\u001b[0m\n",
      "\u001b[34m[03:29:24] src/tree/updater_prune.cc:74: tree pruning end, 1 roots, 24 extra nodes, 8 pruned nodes, max_depth=5\u001b[0m\n",
      "\u001b[34m[11]#011train-error:0.215#011validation-error:0.2304\u001b[0m\n",
      "\u001b[34m[03:29:25] src/tree/updater_prune.cc:74: tree pruning end, 1 roots, 36 extra nodes, 4 pruned nodes, max_depth=5\u001b[0m\n",
      "\u001b[34m[12]#011train-error:0.209667#011validation-error:0.225\u001b[0m\n",
      "\u001b[34m[03:29:27] src/tree/updater_prune.cc:74: tree pruning end, 1 roots, 20 extra nodes, 12 pruned nodes, max_depth=5\u001b[0m\n",
      "\u001b[34m[13]#011train-error:0.207533#011validation-error:0.2221\u001b[0m\n",
      "\u001b[34m[03:29:28] src/tree/updater_prune.cc:74: tree pruning end, 1 roots, 30 extra nodes, 8 pruned nodes, max_depth=5\u001b[0m\n",
      "\u001b[34m[14]#011train-error:0.204733#011validation-error:0.2208\u001b[0m\n",
      "\u001b[34m[03:29:29] src/tree/updater_prune.cc:74: tree pruning end, 1 roots, 40 extra nodes, 2 pruned nodes, max_depth=5\u001b[0m\n",
      "\u001b[34m[15]#011train-error:0.201#011validation-error:0.2179\u001b[0m\n",
      "\u001b[34m[03:29:30] src/tree/updater_prune.cc:74: tree pruning end, 1 roots, 30 extra nodes, 6 pruned nodes, max_depth=5\u001b[0m\n",
      "\u001b[34m[16]#011train-error:0.196067#011validation-error:0.2172\u001b[0m\n",
      "\u001b[34m[03:29:32] src/tree/updater_prune.cc:74: tree pruning end, 1 roots, 38 extra nodes, 8 pruned nodes, max_depth=5\u001b[0m\n",
      "\u001b[34m[17]#011train-error:0.194533#011validation-error:0.2145\u001b[0m\n",
      "\u001b[34m[03:29:33] src/tree/updater_prune.cc:74: tree pruning end, 1 roots, 24 extra nodes, 12 pruned nodes, max_depth=5\u001b[0m\n",
      "\u001b[34m[18]#011train-error:0.193067#011validation-error:0.2122\u001b[0m\n",
      "\u001b[34m[03:29:34] src/tree/updater_prune.cc:74: tree pruning end, 1 roots, 32 extra nodes, 12 pruned nodes, max_depth=5\u001b[0m\n",
      "\u001b[34m[19]#011train-error:0.189867#011validation-error:0.2107\u001b[0m\n",
      "\u001b[34m[03:29:36] src/tree/updater_prune.cc:74: tree pruning end, 1 roots, 26 extra nodes, 10 pruned nodes, max_depth=5\u001b[0m\n",
      "\u001b[34m[20]#011train-error:0.1864#011validation-error:0.2099\u001b[0m\n",
      "\u001b[34m[03:29:37] src/tree/updater_prune.cc:74: tree pruning end, 1 roots, 24 extra nodes, 14 pruned nodes, max_depth=5\u001b[0m\n",
      "\u001b[34m[21]#011train-error:0.183#011validation-error:0.206\u001b[0m\n",
      "\u001b[34m[03:29:38] src/tree/updater_prune.cc:74: tree pruning end, 1 roots, 34 extra nodes, 2 pruned nodes, max_depth=5\u001b[0m\n",
      "\u001b[34m[22]#011train-error:0.1794#011validation-error:0.2038\u001b[0m\n",
      "\u001b[34m[03:29:39] src/tree/updater_prune.cc:74: tree pruning end, 1 roots, 30 extra nodes, 6 pruned nodes, max_depth=5\u001b[0m\n",
      "\u001b[34m[23]#011train-error:0.176467#011validation-error:0.2029\u001b[0m\n",
      "\u001b[34m[03:29:41] src/tree/updater_prune.cc:74: tree pruning end, 1 roots, 30 extra nodes, 8 pruned nodes, max_depth=5\u001b[0m\n",
      "\u001b[34m[24]#011train-error:0.175533#011validation-error:0.201\u001b[0m\n",
      "\u001b[34m[03:29:42] src/tree/updater_prune.cc:74: tree pruning end, 1 roots, 24 extra nodes, 8 pruned nodes, max_depth=5\u001b[0m\n",
      "\u001b[34m[25]#011train-error:0.173133#011validation-error:0.1997\u001b[0m\n",
      "\u001b[34m[03:29:43] src/tree/updater_prune.cc:74: tree pruning end, 1 roots, 18 extra nodes, 8 pruned nodes, max_depth=5\u001b[0m\n",
      "\u001b[34m[26]#011train-error:0.171133#011validation-error:0.1981\u001b[0m\n",
      "\u001b[34m[03:29:45] src/tree/updater_prune.cc:74: tree pruning end, 1 roots, 22 extra nodes, 6 pruned nodes, max_depth=5\u001b[0m\n",
      "\u001b[34m[27]#011train-error:0.170267#011validation-error:0.1975\u001b[0m\n",
      "\u001b[34m[03:29:46] src/tree/updater_prune.cc:74: tree pruning end, 1 roots, 32 extra nodes, 6 pruned nodes, max_depth=5\u001b[0m\n",
      "\u001b[34m[28]#011train-error:0.167#011validation-error:0.195\u001b[0m\n",
      "\u001b[34m[03:29:47] src/tree/updater_prune.cc:74: tree pruning end, 1 roots, 20 extra nodes, 2 pruned nodes, max_depth=5\u001b[0m\n",
      "\u001b[34m[29]#011train-error:0.1664#011validation-error:0.1936\u001b[0m\n",
      "\u001b[34m[03:29:49] src/tree/updater_prune.cc:74: tree pruning end, 1 roots, 34 extra nodes, 4 pruned nodes, max_depth=5\u001b[0m\n",
      "\u001b[34m[30]#011train-error:0.165333#011validation-error:0.1931\u001b[0m\n",
      "\u001b[34m[03:29:50] src/tree/updater_prune.cc:74: tree pruning end, 1 roots, 30 extra nodes, 4 pruned nodes, max_depth=5\u001b[0m\n",
      "\u001b[34m[31]#011train-error:0.163267#011validation-error:0.192\u001b[0m\n",
      "\u001b[34m[03:29:51] src/tree/updater_prune.cc:74: tree pruning end, 1 roots, 34 extra nodes, 6 pruned nodes, max_depth=5\u001b[0m\n",
      "\u001b[34m[32]#011train-error:0.1606#011validation-error:0.1905\u001b[0m\n",
      "\u001b[34m[03:29:52] src/tree/updater_prune.cc:74: tree pruning end, 1 roots, 20 extra nodes, 4 pruned nodes, max_depth=5\u001b[0m\n",
      "\u001b[34m[33]#011train-error:0.158733#011validation-error:0.1894\u001b[0m\n",
      "\u001b[34m[03:29:54] src/tree/updater_prune.cc:74: tree pruning end, 1 roots, 30 extra nodes, 16 pruned nodes, max_depth=5\u001b[0m\n",
      "\u001b[34m[34]#011train-error:0.157533#011validation-error:0.188\u001b[0m\n",
      "\u001b[34m[03:29:55] src/tree/updater_prune.cc:74: tree pruning end, 1 roots, 32 extra nodes, 10 pruned nodes, max_depth=5\u001b[0m\n",
      "\u001b[34m[35]#011train-error:0.155267#011validation-error:0.1859\u001b[0m\n",
      "\u001b[34m[03:29:56] src/tree/updater_prune.cc:74: tree pruning end, 1 roots, 16 extra nodes, 14 pruned nodes, max_depth=5\u001b[0m\n",
      "\u001b[34m[36]#011train-error:0.155#011validation-error:0.1851\u001b[0m\n",
      "\u001b[34m[03:29:57] src/tree/updater_prune.cc:74: tree pruning end, 1 roots, 34 extra nodes, 4 pruned nodes, max_depth=5\u001b[0m\n",
      "\u001b[34m[37]#011train-error:0.152867#011validation-error:0.1861\u001b[0m\n",
      "\u001b[34m[03:29:59] src/tree/updater_prune.cc:74: tree pruning end, 1 roots, 30 extra nodes, 8 pruned nodes, max_depth=5\u001b[0m\n",
      "\u001b[34m[38]#011train-error:0.151333#011validation-error:0.1859\u001b[0m\n",
      "\u001b[34m[03:30:00] src/tree/updater_prune.cc:74: tree pruning end, 1 roots, 38 extra nodes, 8 pruned nodes, max_depth=5\u001b[0m\n",
      "\u001b[34m[39]#011train-error:0.149333#011validation-error:0.1847\u001b[0m\n"
     ]
    },
    {
     "name": "stdout",
     "output_type": "stream",
     "text": [
      "\u001b[34m[03:30:02] src/tree/updater_prune.cc:74: tree pruning end, 1 roots, 24 extra nodes, 12 pruned nodes, max_depth=5\u001b[0m\n",
      "\u001b[34m[40]#011train-error:0.148133#011validation-error:0.1837\u001b[0m\n",
      "\u001b[34m[03:30:03] src/tree/updater_prune.cc:74: tree pruning end, 1 roots, 22 extra nodes, 4 pruned nodes, max_depth=5\u001b[0m\n",
      "\u001b[34m[41]#011train-error:0.147867#011validation-error:0.1831\u001b[0m\n",
      "\u001b[34m[03:30:04] src/tree/updater_prune.cc:74: tree pruning end, 1 roots, 26 extra nodes, 10 pruned nodes, max_depth=5\u001b[0m\n",
      "\u001b[34m[42]#011train-error:0.145267#011validation-error:0.1819\u001b[0m\n",
      "\u001b[34m[03:30:06] src/tree/updater_prune.cc:74: tree pruning end, 1 roots, 36 extra nodes, 8 pruned nodes, max_depth=5\u001b[0m\n",
      "\u001b[34m[43]#011train-error:0.144867#011validation-error:0.1814\u001b[0m\n",
      "\u001b[34m[03:30:07] src/tree/updater_prune.cc:74: tree pruning end, 1 roots, 14 extra nodes, 6 pruned nodes, max_depth=5\u001b[0m\n",
      "\u001b[34m[44]#011train-error:0.143533#011validation-error:0.1809\u001b[0m\n",
      "\u001b[34m[03:30:09] src/tree/updater_prune.cc:74: tree pruning end, 1 roots, 24 extra nodes, 4 pruned nodes, max_depth=5\u001b[0m\n",
      "\u001b[34m[45]#011train-error:0.143267#011validation-error:0.1793\u001b[0m\n",
      "\u001b[34m[03:30:10] src/tree/updater_prune.cc:74: tree pruning end, 1 roots, 20 extra nodes, 12 pruned nodes, max_depth=5\u001b[0m\n",
      "\u001b[34m[46]#011train-error:0.141867#011validation-error:0.1775\u001b[0m\n",
      "\u001b[34m[03:30:11] src/tree/updater_prune.cc:74: tree pruning end, 1 roots, 22 extra nodes, 10 pruned nodes, max_depth=5\u001b[0m\n",
      "\u001b[34m[47]#011train-error:0.1418#011validation-error:0.1768\u001b[0m\n",
      "\u001b[34m[03:30:13] src/tree/updater_prune.cc:74: tree pruning end, 1 roots, 14 extra nodes, 16 pruned nodes, max_depth=5\u001b[0m\n",
      "\u001b[34m[48]#011train-error:0.141133#011validation-error:0.1763\u001b[0m\n",
      "\u001b[34m[03:30:14] src/tree/updater_prune.cc:74: tree pruning end, 1 roots, 28 extra nodes, 14 pruned nodes, max_depth=5\u001b[0m\n",
      "\u001b[34m[49]#011train-error:0.140533#011validation-error:0.1764\u001b[0m\n",
      "\u001b[34m[03:30:15] src/tree/updater_prune.cc:74: tree pruning end, 1 roots, 20 extra nodes, 12 pruned nodes, max_depth=5\u001b[0m\n",
      "\u001b[34m[50]#011train-error:0.138533#011validation-error:0.1768\u001b[0m\n",
      "\u001b[34m[03:30:16] src/tree/updater_prune.cc:74: tree pruning end, 1 roots, 28 extra nodes, 10 pruned nodes, max_depth=5\u001b[0m\n",
      "\u001b[34m[51]#011train-error:0.137667#011validation-error:0.1756\u001b[0m\n",
      "\u001b[34m[03:30:18] src/tree/updater_prune.cc:74: tree pruning end, 1 roots, 24 extra nodes, 6 pruned nodes, max_depth=5\u001b[0m\n",
      "\u001b[34m[52]#011train-error:0.135333#011validation-error:0.1743\u001b[0m\n",
      "\u001b[34m[03:30:19] src/tree/updater_prune.cc:74: tree pruning end, 1 roots, 12 extra nodes, 8 pruned nodes, max_depth=5\u001b[0m\n",
      "\u001b[34m[53]#011train-error:0.1358#011validation-error:0.1721\u001b[0m\n",
      "\u001b[34m[03:30:20] src/tree/updater_prune.cc:74: tree pruning end, 1 roots, 20 extra nodes, 6 pruned nodes, max_depth=5\u001b[0m\n",
      "\u001b[34m[54]#011train-error:0.134867#011validation-error:0.1709\u001b[0m\n",
      "\u001b[34m[03:30:22] src/tree/updater_prune.cc:74: tree pruning end, 1 roots, 10 extra nodes, 14 pruned nodes, max_depth=5\u001b[0m\n",
      "\u001b[34m[55]#011train-error:0.133667#011validation-error:0.1715\u001b[0m\n",
      "\u001b[34m[03:30:23] src/tree/updater_prune.cc:74: tree pruning end, 1 roots, 30 extra nodes, 4 pruned nodes, max_depth=5\u001b[0m\n",
      "\u001b[34m[56]#011train-error:0.131867#011validation-error:0.1723\u001b[0m\n",
      "\u001b[34m[03:30:24] src/tree/updater_prune.cc:74: tree pruning end, 1 roots, 16 extra nodes, 12 pruned nodes, max_depth=5\u001b[0m\n",
      "\u001b[34m[57]#011train-error:0.1314#011validation-error:0.1721\u001b[0m\n",
      "\u001b[34m[03:30:25] src/tree/updater_prune.cc:74: tree pruning end, 1 roots, 22 extra nodes, 10 pruned nodes, max_depth=5\u001b[0m\n",
      "\u001b[34m[58]#011train-error:0.130667#011validation-error:0.172\u001b[0m\n",
      "\u001b[34m[03:30:27] src/tree/updater_prune.cc:74: tree pruning end, 1 roots, 32 extra nodes, 6 pruned nodes, max_depth=5\u001b[0m\n",
      "\u001b[34m[59]#011train-error:0.129267#011validation-error:0.1708\u001b[0m\n",
      "\u001b[34m[03:30:28] src/tree/updater_prune.cc:74: tree pruning end, 1 roots, 20 extra nodes, 10 pruned nodes, max_depth=5\u001b[0m\n",
      "\u001b[34m[60]#011train-error:0.129133#011validation-error:0.1692\u001b[0m\n",
      "\u001b[34m[03:30:29] src/tree/updater_prune.cc:74: tree pruning end, 1 roots, 26 extra nodes, 8 pruned nodes, max_depth=5\u001b[0m\n",
      "\u001b[34m[61]#011train-error:0.128533#011validation-error:0.1686\u001b[0m\n",
      "\u001b[34m[03:30:31] src/tree/updater_prune.cc:74: tree pruning end, 1 roots, 24 extra nodes, 10 pruned nodes, max_depth=5\u001b[0m\n",
      "\u001b[34m[62]#011train-error:0.126333#011validation-error:0.1677\u001b[0m\n",
      "\u001b[34m[03:30:32] src/tree/updater_prune.cc:74: tree pruning end, 1 roots, 22 extra nodes, 4 pruned nodes, max_depth=5\u001b[0m\n",
      "\u001b[34m[63]#011train-error:0.125533#011validation-error:0.1676\u001b[0m\n",
      "\u001b[34m[03:30:33] src/tree/updater_prune.cc:74: tree pruning end, 1 roots, 22 extra nodes, 6 pruned nodes, max_depth=5\u001b[0m\n",
      "\u001b[34m[64]#011train-error:0.124867#011validation-error:0.1658\u001b[0m\n",
      "\u001b[34m[03:30:34] src/tree/updater_prune.cc:74: tree pruning end, 1 roots, 14 extra nodes, 12 pruned nodes, max_depth=5\u001b[0m\n",
      "\u001b[34m[65]#011train-error:0.124333#011validation-error:0.165\u001b[0m\n",
      "\u001b[34m[03:30:36] src/tree/updater_prune.cc:74: tree pruning end, 1 roots, 24 extra nodes, 12 pruned nodes, max_depth=5\u001b[0m\n",
      "\u001b[34m[66]#011train-error:0.122933#011validation-error:0.1646\u001b[0m\n",
      "\u001b[34m[03:30:37] src/tree/updater_prune.cc:74: tree pruning end, 1 roots, 24 extra nodes, 8 pruned nodes, max_depth=5\u001b[0m\n",
      "\u001b[34m[67]#011train-error:0.122933#011validation-error:0.1648\u001b[0m\n",
      "\u001b[34m[03:30:38] src/tree/updater_prune.cc:74: tree pruning end, 1 roots, 20 extra nodes, 10 pruned nodes, max_depth=5\u001b[0m\n",
      "\u001b[34m[68]#011train-error:0.121867#011validation-error:0.1632\u001b[0m\n",
      "\u001b[34m[03:30:39] src/tree/updater_prune.cc:74: tree pruning end, 1 roots, 20 extra nodes, 6 pruned nodes, max_depth=5\u001b[0m\n",
      "\u001b[34m[69]#011train-error:0.121333#011validation-error:0.1638\u001b[0m\n",
      "\u001b[34m[03:30:41] src/tree/updater_prune.cc:74: tree pruning end, 1 roots, 26 extra nodes, 8 pruned nodes, max_depth=5\u001b[0m\n",
      "\u001b[34m[70]#011train-error:0.121267#011validation-error:0.1631\u001b[0m\n",
      "\u001b[34m[03:30:42] src/tree/updater_prune.cc:74: tree pruning end, 1 roots, 12 extra nodes, 8 pruned nodes, max_depth=5\u001b[0m\n",
      "\u001b[34m[71]#011train-error:0.121333#011validation-error:0.1626\u001b[0m\n",
      "\u001b[34m[03:30:43] src/tree/updater_prune.cc:74: tree pruning end, 1 roots, 18 extra nodes, 8 pruned nodes, max_depth=5\u001b[0m\n",
      "\u001b[34m[72]#011train-error:0.1208#011validation-error:0.1616\u001b[0m\n",
      "\u001b[34m[03:30:45] src/tree/updater_prune.cc:74: tree pruning end, 1 roots, 14 extra nodes, 10 pruned nodes, max_depth=5\u001b[0m\n",
      "\u001b[34m[73]#011train-error:0.120267#011validation-error:0.1607\u001b[0m\n",
      "\u001b[34m[03:30:46] src/tree/updater_prune.cc:74: tree pruning end, 1 roots, 22 extra nodes, 12 pruned nodes, max_depth=5\u001b[0m\n",
      "\u001b[34m[74]#011train-error:0.1194#011validation-error:0.1604\u001b[0m\n",
      "\u001b[34m[03:30:47] src/tree/updater_prune.cc:74: tree pruning end, 1 roots, 22 extra nodes, 4 pruned nodes, max_depth=5\u001b[0m\n",
      "\u001b[34m[75]#011train-error:0.1194#011validation-error:0.1609\u001b[0m\n",
      "\u001b[34m[03:30:48] src/tree/updater_prune.cc:74: tree pruning end, 1 roots, 28 extra nodes, 2 pruned nodes, max_depth=5\u001b[0m\n",
      "\u001b[34m[76]#011train-error:0.1184#011validation-error:0.1612\u001b[0m\n",
      "\u001b[34m[03:30:50] src/tree/updater_prune.cc:74: tree pruning end, 1 roots, 20 extra nodes, 6 pruned nodes, max_depth=5\u001b[0m\n",
      "\u001b[34m[77]#011train-error:0.117333#011validation-error:0.1612\u001b[0m\n",
      "\u001b[34m[03:30:51] src/tree/updater_prune.cc:74: tree pruning end, 1 roots, 26 extra nodes, 18 pruned nodes, max_depth=5\u001b[0m\n",
      "\u001b[34m[78]#011train-error:0.116333#011validation-error:0.1606\u001b[0m\n",
      "\u001b[34m[03:30:52] src/tree/updater_prune.cc:74: tree pruning end, 1 roots, 22 extra nodes, 2 pruned nodes, max_depth=5\u001b[0m\n",
      "\u001b[34m[79]#011train-error:0.1154#011validation-error:0.16\u001b[0m\n",
      "\u001b[34m[03:30:53] src/tree/updater_prune.cc:74: tree pruning end, 1 roots, 16 extra nodes, 2 pruned nodes, max_depth=5\u001b[0m\n",
      "\u001b[34m[80]#011train-error:0.115133#011validation-error:0.16\u001b[0m\n",
      "\u001b[34m[03:30:55] src/tree/updater_prune.cc:74: tree pruning end, 1 roots, 16 extra nodes, 6 pruned nodes, max_depth=5\u001b[0m\n",
      "\u001b[34m[81]#011train-error:0.1146#011validation-error:0.1608\u001b[0m\n",
      "\u001b[34m[03:30:56] src/tree/updater_prune.cc:74: tree pruning end, 1 roots, 26 extra nodes, 10 pruned nodes, max_depth=5\u001b[0m\n",
      "\u001b[34m[82]#011train-error:0.114333#011validation-error:0.1591\u001b[0m\n",
      "\u001b[34m[03:30:57] src/tree/updater_prune.cc:74: tree pruning end, 1 roots, 18 extra nodes, 0 pruned nodes, max_depth=5\u001b[0m\n",
      "\u001b[34m[83]#011train-error:0.113#011validation-error:0.1583\u001b[0m\n",
      "\u001b[34m[03:30:59] src/tree/updater_prune.cc:74: tree pruning end, 1 roots, 16 extra nodes, 10 pruned nodes, max_depth=5\u001b[0m\n",
      "\u001b[34m[84]#011train-error:0.112267#011validation-error:0.1581\u001b[0m\n",
      "\u001b[34m[03:31:00] src/tree/updater_prune.cc:74: tree pruning end, 1 roots, 16 extra nodes, 2 pruned nodes, max_depth=5\u001b[0m\n",
      "\u001b[34m[85]#011train-error:0.111933#011validation-error:0.1574\u001b[0m\n",
      "\u001b[34m[03:31:01] src/tree/updater_prune.cc:74: tree pruning end, 1 roots, 30 extra nodes, 6 pruned nodes, max_depth=5\u001b[0m\n",
      "\u001b[34m[86]#011train-error:0.111333#011validation-error:0.158\u001b[0m\n"
     ]
    },
    {
     "name": "stdout",
     "output_type": "stream",
     "text": [
      "\u001b[34m[03:31:03] src/tree/updater_prune.cc:74: tree pruning end, 1 roots, 18 extra nodes, 16 pruned nodes, max_depth=5\u001b[0m\n",
      "\u001b[34m[87]#011train-error:0.1104#011validation-error:0.1567\u001b[0m\n",
      "\u001b[34m[03:31:04] src/tree/updater_prune.cc:74: tree pruning end, 1 roots, 20 extra nodes, 10 pruned nodes, max_depth=5\u001b[0m\n",
      "\u001b[34m[88]#011train-error:0.110533#011validation-error:0.1551\u001b[0m\n",
      "\u001b[34m[03:31:06] src/tree/updater_prune.cc:74: tree pruning end, 1 roots, 10 extra nodes, 2 pruned nodes, max_depth=5\u001b[0m\n",
      "\u001b[34m[89]#011train-error:0.110133#011validation-error:0.1547\u001b[0m\n",
      "\u001b[34m[03:31:07] src/tree/updater_prune.cc:74: tree pruning end, 1 roots, 16 extra nodes, 4 pruned nodes, max_depth=5\u001b[0m\n",
      "\u001b[34m[90]#011train-error:0.109733#011validation-error:0.1544\u001b[0m\n",
      "\u001b[34m[03:31:09] src/tree/updater_prune.cc:74: tree pruning end, 1 roots, 32 extra nodes, 8 pruned nodes, max_depth=5\u001b[0m\n",
      "\u001b[34m[91]#011train-error:0.108867#011validation-error:0.1543\u001b[0m\n",
      "\u001b[34m[03:31:10] src/tree/updater_prune.cc:74: tree pruning end, 1 roots, 16 extra nodes, 2 pruned nodes, max_depth=5\u001b[0m\n",
      "\u001b[34m[92]#011train-error:0.108#011validation-error:0.1538\u001b[0m\n",
      "\u001b[34m[03:31:11] src/tree/updater_prune.cc:74: tree pruning end, 1 roots, 14 extra nodes, 6 pruned nodes, max_depth=5\u001b[0m\n",
      "\u001b[34m[93]#011train-error:0.108133#011validation-error:0.1541\u001b[0m\n",
      "\u001b[34m[03:31:12] src/tree/updater_prune.cc:74: tree pruning end, 1 roots, 18 extra nodes, 14 pruned nodes, max_depth=5\u001b[0m\n",
      "\u001b[34m[94]#011train-error:0.107#011validation-error:0.1533\u001b[0m\n",
      "\u001b[34m[03:31:14] src/tree/updater_prune.cc:74: tree pruning end, 1 roots, 10 extra nodes, 6 pruned nodes, max_depth=5\u001b[0m\n",
      "\u001b[34m[95]#011train-error:0.1068#011validation-error:0.1536\u001b[0m\n",
      "\u001b[34m[03:31:15] src/tree/updater_prune.cc:74: tree pruning end, 1 roots, 14 extra nodes, 6 pruned nodes, max_depth=5\u001b[0m\n",
      "\u001b[34m[96]#011train-error:0.105733#011validation-error:0.1524\u001b[0m\n",
      "\u001b[34m[03:31:16] src/tree/updater_prune.cc:74: tree pruning end, 1 roots, 30 extra nodes, 14 pruned nodes, max_depth=5\u001b[0m\n",
      "\u001b[34m[97]#011train-error:0.105467#011validation-error:0.1526\u001b[0m\n",
      "\u001b[34m[03:31:17] src/tree/updater_prune.cc:74: tree pruning end, 1 roots, 14 extra nodes, 10 pruned nodes, max_depth=5\u001b[0m\n",
      "\u001b[34m[98]#011train-error:0.1048#011validation-error:0.1515\u001b[0m\n",
      "\u001b[34m[03:31:19] src/tree/updater_prune.cc:74: tree pruning end, 1 roots, 10 extra nodes, 12 pruned nodes, max_depth=5\u001b[0m\n",
      "\u001b[34m[99]#011train-error:0.105067#011validation-error:0.151\u001b[0m\n",
      "\u001b[34m[03:31:20] src/tree/updater_prune.cc:74: tree pruning end, 1 roots, 14 extra nodes, 6 pruned nodes, max_depth=5\u001b[0m\n",
      "\u001b[34m[100]#011train-error:0.1044#011validation-error:0.1506\u001b[0m\n",
      "\u001b[34m[03:31:21] src/tree/updater_prune.cc:74: tree pruning end, 1 roots, 14 extra nodes, 12 pruned nodes, max_depth=5\u001b[0m\n",
      "\u001b[34m[101]#011train-error:0.103667#011validation-error:0.1515\u001b[0m\n",
      "\u001b[34m[03:31:23] src/tree/updater_prune.cc:74: tree pruning end, 1 roots, 20 extra nodes, 6 pruned nodes, max_depth=5\u001b[0m\n",
      "\u001b[34m[102]#011train-error:0.1034#011validation-error:0.1497\u001b[0m\n",
      "\u001b[34m[03:31:24] src/tree/updater_prune.cc:74: tree pruning end, 1 roots, 12 extra nodes, 12 pruned nodes, max_depth=5\u001b[0m\n",
      "\u001b[34m[103]#011train-error:0.103133#011validation-error:0.1491\u001b[0m\n",
      "\u001b[34m[03:31:25] src/tree/updater_prune.cc:74: tree pruning end, 1 roots, 28 extra nodes, 4 pruned nodes, max_depth=5\u001b[0m\n",
      "\u001b[34m[104]#011train-error:0.102467#011validation-error:0.1491\u001b[0m\n",
      "\u001b[34m[03:31:26] src/tree/updater_prune.cc:74: tree pruning end, 1 roots, 16 extra nodes, 20 pruned nodes, max_depth=5\u001b[0m\n",
      "\u001b[34m[105]#011train-error:0.102267#011validation-error:0.1497\u001b[0m\n",
      "\u001b[34m[03:31:28] src/tree/updater_prune.cc:74: tree pruning end, 1 roots, 12 extra nodes, 8 pruned nodes, max_depth=5\u001b[0m\n",
      "\u001b[34m[106]#011train-error:0.101533#011validation-error:0.1494\u001b[0m\n",
      "\u001b[34m[03:31:29] src/tree/updater_prune.cc:74: tree pruning end, 1 roots, 30 extra nodes, 10 pruned nodes, max_depth=5\u001b[0m\n",
      "\u001b[34m[107]#011train-error:0.100667#011validation-error:0.1489\u001b[0m\n",
      "\u001b[34m[03:31:30] src/tree/updater_prune.cc:74: tree pruning end, 1 roots, 16 extra nodes, 14 pruned nodes, max_depth=5\u001b[0m\n",
      "\u001b[34m[108]#011train-error:0.099867#011validation-error:0.1485\u001b[0m\n",
      "\u001b[34m[03:31:32] src/tree/updater_prune.cc:74: tree pruning end, 1 roots, 16 extra nodes, 2 pruned nodes, max_depth=5\u001b[0m\n",
      "\u001b[34m[109]#011train-error:0.0998#011validation-error:0.1479\u001b[0m\n",
      "\u001b[34m[03:31:33] src/tree/updater_prune.cc:74: tree pruning end, 1 roots, 12 extra nodes, 4 pruned nodes, max_depth=5\u001b[0m\n",
      "\u001b[34m[110]#011train-error:0.099#011validation-error:0.1483\u001b[0m\n",
      "\u001b[34m[03:31:34] src/tree/updater_prune.cc:74: tree pruning end, 1 roots, 14 extra nodes, 4 pruned nodes, max_depth=5\u001b[0m\n",
      "\u001b[34m[111]#011train-error:0.098733#011validation-error:0.1486\u001b[0m\n",
      "\u001b[34m[03:31:35] src/tree/updater_prune.cc:74: tree pruning end, 1 roots, 12 extra nodes, 4 pruned nodes, max_depth=5\u001b[0m\n",
      "\u001b[34m[112]#011train-error:0.097733#011validation-error:0.1477\u001b[0m\n",
      "\u001b[34m[03:31:37] src/tree/updater_prune.cc:74: tree pruning end, 1 roots, 10 extra nodes, 8 pruned nodes, max_depth=5\u001b[0m\n",
      "\u001b[34m[113]#011train-error:0.097667#011validation-error:0.1476\u001b[0m\n",
      "\u001b[34m[03:31:38] src/tree/updater_prune.cc:74: tree pruning end, 1 roots, 16 extra nodes, 6 pruned nodes, max_depth=5\u001b[0m\n",
      "\u001b[34m[114]#011train-error:0.098267#011validation-error:0.1477\u001b[0m\n",
      "\u001b[34m[03:31:39] src/tree/updater_prune.cc:74: tree pruning end, 1 roots, 14 extra nodes, 8 pruned nodes, max_depth=5\u001b[0m\n",
      "\u001b[34m[115]#011train-error:0.0978#011validation-error:0.1473\u001b[0m\n",
      "\u001b[34m[03:31:40] src/tree/updater_prune.cc:74: tree pruning end, 1 roots, 10 extra nodes, 6 pruned nodes, max_depth=5\u001b[0m\n",
      "\u001b[34m[116]#011train-error:0.0976#011validation-error:0.1472\u001b[0m\n",
      "\u001b[34m[03:31:42] src/tree/updater_prune.cc:74: tree pruning end, 1 roots, 16 extra nodes, 8 pruned nodes, max_depth=5\u001b[0m\n",
      "\u001b[34m[117]#011train-error:0.097467#011validation-error:0.1476\u001b[0m\n",
      "\u001b[34m[03:31:43] src/tree/updater_prune.cc:74: tree pruning end, 1 roots, 18 extra nodes, 6 pruned nodes, max_depth=5\u001b[0m\n",
      "\u001b[34m[118]#011train-error:0.097333#011validation-error:0.1462\u001b[0m\n",
      "\u001b[34m[03:31:44] src/tree/updater_prune.cc:74: tree pruning end, 1 roots, 18 extra nodes, 12 pruned nodes, max_depth=5\u001b[0m\n",
      "\u001b[34m[119]#011train-error:0.097267#011validation-error:0.1465\u001b[0m\n",
      "\u001b[34m[03:31:46] src/tree/updater_prune.cc:74: tree pruning end, 1 roots, 14 extra nodes, 8 pruned nodes, max_depth=5\u001b[0m\n",
      "\u001b[34m[120]#011train-error:0.096533#011validation-error:0.1469\u001b[0m\n",
      "\u001b[34m[03:31:47] src/tree/updater_prune.cc:74: tree pruning end, 1 roots, 20 extra nodes, 10 pruned nodes, max_depth=5\u001b[0m\n",
      "\u001b[34m[121]#011train-error:0.096133#011validation-error:0.1473\u001b[0m\n",
      "\u001b[34m[03:31:48] src/tree/updater_prune.cc:74: tree pruning end, 1 roots, 12 extra nodes, 8 pruned nodes, max_depth=5\u001b[0m\n",
      "\u001b[34m[122]#011train-error:0.0962#011validation-error:0.1475\u001b[0m\n",
      "\u001b[34m[03:31:49] src/tree/updater_prune.cc:74: tree pruning end, 1 roots, 14 extra nodes, 10 pruned nodes, max_depth=5\u001b[0m\n",
      "\u001b[34m[123]#011train-error:0.0956#011validation-error:0.1467\u001b[0m\n",
      "\u001b[34m[03:31:51] src/tree/updater_prune.cc:74: tree pruning end, 1 roots, 18 extra nodes, 8 pruned nodes, max_depth=5\u001b[0m\n",
      "\u001b[34m[124]#011train-error:0.0958#011validation-error:0.146\u001b[0m\n",
      "\u001b[34m[03:31:52] src/tree/updater_prune.cc:74: tree pruning end, 1 roots, 10 extra nodes, 6 pruned nodes, max_depth=5\u001b[0m\n",
      "\u001b[34m[125]#011train-error:0.095867#011validation-error:0.1458\u001b[0m\n",
      "\u001b[34m[03:31:53] src/tree/updater_prune.cc:74: tree pruning end, 1 roots, 14 extra nodes, 14 pruned nodes, max_depth=5\u001b[0m\n",
      "\u001b[34m[126]#011train-error:0.095467#011validation-error:0.1455\u001b[0m\n",
      "\u001b[34m[03:31:54] src/tree/updater_prune.cc:74: tree pruning end, 1 roots, 10 extra nodes, 4 pruned nodes, max_depth=5\u001b[0m\n",
      "\u001b[34m[127]#011train-error:0.094933#011validation-error:0.145\u001b[0m\n",
      "\u001b[34m[03:31:56] src/tree/updater_prune.cc:74: tree pruning end, 1 roots, 16 extra nodes, 10 pruned nodes, max_depth=5\u001b[0m\n",
      "\u001b[34m[128]#011train-error:0.094467#011validation-error:0.1447\u001b[0m\n",
      "\u001b[34m[03:31:57] src/tree/updater_prune.cc:74: tree pruning end, 1 roots, 30 extra nodes, 12 pruned nodes, max_depth=5\u001b[0m\n",
      "\u001b[34m[129]#011train-error:0.093467#011validation-error:0.1442\u001b[0m\n",
      "\u001b[34m[03:31:58] src/tree/updater_prune.cc:74: tree pruning end, 1 roots, 30 extra nodes, 10 pruned nodes, max_depth=5\u001b[0m\n",
      "\u001b[34m[130]#011train-error:0.092467#011validation-error:0.1439\u001b[0m\n",
      "\u001b[34m[03:32:00] src/tree/updater_prune.cc:74: tree pruning end, 1 roots, 20 extra nodes, 6 pruned nodes, max_depth=5\u001b[0m\n",
      "\u001b[34m[131]#011train-error:0.092#011validation-error:0.1434\u001b[0m\n",
      "\u001b[34m[03:32:01] src/tree/updater_prune.cc:74: tree pruning end, 1 roots, 14 extra nodes, 10 pruned nodes, max_depth=5\u001b[0m\n",
      "\u001b[34m[132]#011train-error:0.091067#011validation-error:0.1434\u001b[0m\n",
      "\u001b[34m[03:32:02] src/tree/updater_prune.cc:74: tree pruning end, 1 roots, 10 extra nodes, 6 pruned nodes, max_depth=5\u001b[0m\n",
      "\u001b[34m[133]#011train-error:0.0908#011validation-error:0.1436\u001b[0m\n"
     ]
    },
    {
     "name": "stdout",
     "output_type": "stream",
     "text": [
      "\u001b[34m[03:32:04] src/tree/updater_prune.cc:74: tree pruning end, 1 roots, 14 extra nodes, 6 pruned nodes, max_depth=5\u001b[0m\n",
      "\u001b[34m[134]#011train-error:0.09#011validation-error:0.143\u001b[0m\n",
      "\u001b[34m[03:32:05] src/tree/updater_prune.cc:74: tree pruning end, 1 roots, 16 extra nodes, 8 pruned nodes, max_depth=5\u001b[0m\n",
      "\u001b[34m[135]#011train-error:0.0892#011validation-error:0.1419\u001b[0m\n",
      "\u001b[34m[03:32:07] src/tree/updater_prune.cc:74: tree pruning end, 1 roots, 22 extra nodes, 4 pruned nodes, max_depth=5\u001b[0m\n",
      "\u001b[34m[136]#011train-error:0.090333#011validation-error:0.1417\u001b[0m\n",
      "\u001b[34m[03:32:08] src/tree/updater_prune.cc:74: tree pruning end, 1 roots, 12 extra nodes, 12 pruned nodes, max_depth=5\u001b[0m\n",
      "\u001b[34m[137]#011train-error:0.089667#011validation-error:0.141\u001b[0m\n",
      "\u001b[34m[03:32:10] src/tree/updater_prune.cc:74: tree pruning end, 1 roots, 18 extra nodes, 8 pruned nodes, max_depth=5\u001b[0m\n",
      "\u001b[34m[138]#011train-error:0.0894#011validation-error:0.1415\u001b[0m\n",
      "\u001b[34m[03:32:11] src/tree/updater_prune.cc:74: tree pruning end, 1 roots, 14 extra nodes, 8 pruned nodes, max_depth=5\u001b[0m\n",
      "\u001b[34m[139]#011train-error:0.089733#011validation-error:0.1419\u001b[0m\n",
      "\u001b[34m[03:32:12] src/tree/updater_prune.cc:74: tree pruning end, 1 roots, 24 extra nodes, 2 pruned nodes, max_depth=5\u001b[0m\n",
      "\u001b[34m[140]#011train-error:0.0892#011validation-error:0.1415\u001b[0m\n",
      "\n",
      "2021-01-19 03:32:25 Uploading - Uploading generated training model\u001b[34m[03:32:14] src/tree/updater_prune.cc:74: tree pruning end, 1 roots, 14 extra nodes, 6 pruned nodes, max_depth=5\u001b[0m\n",
      "\u001b[34m[141]#011train-error:0.089867#011validation-error:0.1423\u001b[0m\n",
      "\u001b[34m[03:32:15] src/tree/updater_prune.cc:74: tree pruning end, 1 roots, 16 extra nodes, 4 pruned nodes, max_depth=5\u001b[0m\n",
      "\u001b[34m[142]#011train-error:0.089067#011validation-error:0.1424\u001b[0m\n",
      "\u001b[34m[03:32:16] src/tree/updater_prune.cc:74: tree pruning end, 1 roots, 22 extra nodes, 12 pruned nodes, max_depth=5\u001b[0m\n",
      "\u001b[34m[143]#011train-error:0.088067#011validation-error:0.1427\u001b[0m\n",
      "\u001b[34m[03:32:17] src/tree/updater_prune.cc:74: tree pruning end, 1 roots, 24 extra nodes, 10 pruned nodes, max_depth=5\u001b[0m\n",
      "\u001b[34m[144]#011train-error:0.0874#011validation-error:0.1427\u001b[0m\n",
      "\u001b[34m[03:32:19] src/tree/updater_prune.cc:74: tree pruning end, 1 roots, 10 extra nodes, 6 pruned nodes, max_depth=5\u001b[0m\n",
      "\u001b[34m[145]#011train-error:0.0872#011validation-error:0.1424\u001b[0m\n",
      "\u001b[34m[03:32:20] src/tree/updater_prune.cc:74: tree pruning end, 1 roots, 24 extra nodes, 18 pruned nodes, max_depth=5\u001b[0m\n",
      "\u001b[34m[146]#011train-error:0.086867#011validation-error:0.143\u001b[0m\n",
      "\u001b[34m[03:32:21] src/tree/updater_prune.cc:74: tree pruning end, 1 roots, 14 extra nodes, 6 pruned nodes, max_depth=5\u001b[0m\n",
      "\u001b[34m[147]#011train-error:0.0868#011validation-error:0.1424\u001b[0m\n",
      "\u001b[34mStopping. Best iteration:\u001b[0m\n",
      "\u001b[34m[137]#011train-error:0.089667#011validation-error:0.141\n",
      "\u001b[0m\n",
      "\n",
      "2021-01-19 03:32:33 Completed - Training job completed\n",
      "Training seconds: 269\n",
      "Billable seconds: 269\n"
     ]
    }
   ],
   "source": [
    "xgb.fit({'train': s3_input_train, 'validation': s3_input_validation})"
   ]
  },
  {
   "cell_type": "markdown",
   "metadata": {},
   "source": [
    "## Step 5: Testing the model\n",
    "\n",
    "Now that we've fit our XGBoost model, it's time to see how well it performs. To do this we will use SageMakers Batch Transform functionality. Batch Transform is a convenient way to perform inference on a large dataset in a way that is not realtime. That is, we don't necessarily need to use our model's results immediately and instead we can perform inference on a large number of samples. An example of this in industry might be performing an end of month report. This method of inference can also be useful to us as it means that we can perform inference on our entire test set. \n",
    "\n",
    "To perform a Batch Transformation we need to first create a transformer objects from our trained estimator object."
   ]
  },
  {
   "cell_type": "code",
   "execution_count": 26,
   "metadata": {},
   "outputs": [
    {
     "name": "stderr",
     "output_type": "stream",
     "text": [
      "Parameter image will be renamed to image_uri in SageMaker Python SDK v2.\n",
      "Using already existing model: xgboost-2021-01-19-03-25-52-285\n"
     ]
    }
   ],
   "source": [
    "xgb_transformer = xgb.transformer(instance_count = 1, instance_type = 'ml.m4.xlarge')\n",
    "#xgb_transformer = xgb.transformer(instance_count = 1, instance_type = 'ml.t2.medium')"
   ]
  },
  {
   "cell_type": "markdown",
   "metadata": {},
   "source": [
    "Next we actually perform the transform job. When doing so we need to make sure to specify the type of data we are sending so that it is serialized correctly in the background. In our case we are providing our model with csv data so we specify `text/csv`. Also, if the test data that we have provided is too large to process all at once then we need to specify how the data file should be split up. Since each line is a single entry in our data set we tell SageMaker that it can split the input on each line."
   ]
  },
  {
   "cell_type": "code",
   "execution_count": 27,
   "metadata": {},
   "outputs": [],
   "source": [
    "xgb_transformer.transform(test_location, content_type='text/csv', split_type='Line')"
   ]
  },
  {
   "cell_type": "markdown",
   "metadata": {},
   "source": [
    "Currently the transform job is running but it is doing so in the background. Since we wish to wait until the transform job is done and we would like a bit of feedback we can run the `wait()` method."
   ]
  },
  {
   "cell_type": "code",
   "execution_count": 28,
   "metadata": {},
   "outputs": [
    {
     "name": "stdout",
     "output_type": "stream",
     "text": [
      "..............................\u001b[32m2021-01-19T03:40:07.447:[sagemaker logs]: MaxConcurrentTransforms=4, MaxPayloadInMB=6, BatchStrategy=MULTI_RECORD\u001b[0m\n",
      "\u001b[34mArguments: serve\u001b[0m\n",
      "\u001b[34m[2021-01-19 03:40:07 +0000] [1] [INFO] Starting gunicorn 19.7.1\u001b[0m\n",
      "\u001b[34m[2021-01-19 03:40:07 +0000] [1] [INFO] Listening at: http://0.0.0.0:8080 (1)\u001b[0m\n",
      "\u001b[34m[2021-01-19 03:40:07 +0000] [1] [INFO] Using worker: gevent\u001b[0m\n",
      "\u001b[34m[2021-01-19 03:40:07 +0000] [37] [INFO] Booting worker with pid: 37\u001b[0m\n",
      "\u001b[34m[2021-01-19 03:40:07 +0000] [38] [INFO] Booting worker with pid: 38\u001b[0m\n",
      "\u001b[34m[2021-01-19 03:40:07 +0000] [39] [INFO] Booting worker with pid: 39\u001b[0m\n",
      "\u001b[34m[2021-01-19:03:40:07:INFO] Model loaded successfully for worker : 37\u001b[0m\n",
      "\u001b[34m[2021-01-19:03:40:07:INFO] Model loaded successfully for worker : 38\u001b[0m\n",
      "\u001b[34m[2021-01-19 03:40:07 +0000] [40] [INFO] Booting worker with pid: 40\u001b[0m\n",
      "\u001b[34m[2021-01-19:03:40:07:INFO] Model loaded successfully for worker : 39\u001b[0m\n",
      "\u001b[34m[2021-01-19:03:40:07:INFO] Model loaded successfully for worker : 40\u001b[0m\n",
      "\u001b[34m[2021-01-19:03:40:07:INFO] Sniff delimiter as ','\u001b[0m\n",
      "\u001b[34m[2021-01-19:03:40:07:INFO] Determined delimiter of CSV input is ','\u001b[0m\n",
      "\u001b[34m[2021-01-19:03:40:07:INFO] Sniff delimiter as ','\u001b[0m\n",
      "\u001b[34m[2021-01-19:03:40:07:INFO] Determined delimiter of CSV input is ','\u001b[0m\n",
      "\u001b[34m[2021-01-19:03:40:08:INFO] Sniff delimiter as ','\u001b[0m\n",
      "\u001b[34m[2021-01-19:03:40:08:INFO] Determined delimiter of CSV input is ','\u001b[0m\n",
      "\u001b[34m[2021-01-19:03:40:08:INFO] Sniff delimiter as ','\u001b[0m\n",
      "\u001b[35mArguments: serve\u001b[0m\n",
      "\u001b[35m[2021-01-19 03:40:07 +0000] [1] [INFO] Starting gunicorn 19.7.1\u001b[0m\n",
      "\u001b[35m[2021-01-19 03:40:07 +0000] [1] [INFO] Listening at: http://0.0.0.0:8080 (1)\u001b[0m\n",
      "\u001b[35m[2021-01-19 03:40:07 +0000] [1] [INFO] Using worker: gevent\u001b[0m\n",
      "\u001b[35m[2021-01-19 03:40:07 +0000] [37] [INFO] Booting worker with pid: 37\u001b[0m\n",
      "\u001b[35m[2021-01-19 03:40:07 +0000] [38] [INFO] Booting worker with pid: 38\u001b[0m\n",
      "\u001b[35m[2021-01-19 03:40:07 +0000] [39] [INFO] Booting worker with pid: 39\u001b[0m\n",
      "\u001b[35m[2021-01-19:03:40:07:INFO] Model loaded successfully for worker : 37\u001b[0m\n",
      "\u001b[35m[2021-01-19:03:40:07:INFO] Model loaded successfully for worker : 38\u001b[0m\n",
      "\u001b[35m[2021-01-19 03:40:07 +0000] [40] [INFO] Booting worker with pid: 40\u001b[0m\n",
      "\u001b[35m[2021-01-19:03:40:07:INFO] Model loaded successfully for worker : 39\u001b[0m\n",
      "\u001b[35m[2021-01-19:03:40:07:INFO] Model loaded successfully for worker : 40\u001b[0m\n",
      "\u001b[35m[2021-01-19:03:40:07:INFO] Sniff delimiter as ','\u001b[0m\n",
      "\u001b[35m[2021-01-19:03:40:07:INFO] Determined delimiter of CSV input is ','\u001b[0m\n",
      "\u001b[35m[2021-01-19:03:40:07:INFO] Sniff delimiter as ','\u001b[0m\n",
      "\u001b[35m[2021-01-19:03:40:07:INFO] Determined delimiter of CSV input is ','\u001b[0m\n",
      "\u001b[35m[2021-01-19:03:40:08:INFO] Sniff delimiter as ','\u001b[0m\n",
      "\u001b[35m[2021-01-19:03:40:08:INFO] Determined delimiter of CSV input is ','\u001b[0m\n",
      "\u001b[35m[2021-01-19:03:40:08:INFO] Sniff delimiter as ','\u001b[0m\n",
      "\u001b[34m[2021-01-19:03:40:08:INFO] Determined delimiter of CSV input is ','\u001b[0m\n",
      "\u001b[35m[2021-01-19:03:40:08:INFO] Determined delimiter of CSV input is ','\u001b[0m\n",
      "\u001b[34m[2021-01-19:03:40:10:INFO] Sniff delimiter as ','\u001b[0m\n",
      "\u001b[34m[2021-01-19:03:40:10:INFO] Determined delimiter of CSV input is ','\u001b[0m\n",
      "\u001b[34m[2021-01-19:03:40:10:INFO] Sniff delimiter as ','\u001b[0m\n",
      "\u001b[34m[2021-01-19:03:40:10:INFO] Determined delimiter of CSV input is ','\u001b[0m\n",
      "\u001b[34m[2021-01-19:03:40:10:INFO] Sniff delimiter as ','\u001b[0m\n",
      "\u001b[34m[2021-01-19:03:40:10:INFO] Determined delimiter of CSV input is ','\u001b[0m\n",
      "\u001b[35m[2021-01-19:03:40:10:INFO] Sniff delimiter as ','\u001b[0m\n",
      "\u001b[35m[2021-01-19:03:40:10:INFO] Determined delimiter of CSV input is ','\u001b[0m\n",
      "\u001b[35m[2021-01-19:03:40:10:INFO] Sniff delimiter as ','\u001b[0m\n",
      "\u001b[35m[2021-01-19:03:40:10:INFO] Determined delimiter of CSV input is ','\u001b[0m\n",
      "\u001b[35m[2021-01-19:03:40:10:INFO] Sniff delimiter as ','\u001b[0m\n",
      "\u001b[35m[2021-01-19:03:40:10:INFO] Determined delimiter of CSV input is ','\u001b[0m\n",
      "\u001b[34m[2021-01-19:03:40:10:INFO] Sniff delimiter as ','\u001b[0m\n",
      "\u001b[34m[2021-01-19:03:40:10:INFO] Determined delimiter of CSV input is ','\u001b[0m\n",
      "\u001b[35m[2021-01-19:03:40:10:INFO] Sniff delimiter as ','\u001b[0m\n",
      "\u001b[35m[2021-01-19:03:40:10:INFO] Determined delimiter of CSV input is ','\u001b[0m\n",
      "\u001b[34m[2021-01-19:03:40:12:INFO] Sniff delimiter as ','\u001b[0m\n",
      "\u001b[34m[2021-01-19:03:40:12:INFO] Determined delimiter of CSV input is ','\u001b[0m\n",
      "\u001b[35m[2021-01-19:03:40:12:INFO] Sniff delimiter as ','\u001b[0m\n",
      "\u001b[35m[2021-01-19:03:40:12:INFO] Determined delimiter of CSV input is ','\u001b[0m\n",
      "\u001b[34m[2021-01-19:03:40:12:INFO] Sniff delimiter as ','\u001b[0m\n",
      "\u001b[34m[2021-01-19:03:40:12:INFO] Determined delimiter of CSV input is ','\u001b[0m\n",
      "\u001b[34m[2021-01-19:03:40:13:INFO] Sniff delimiter as ','\u001b[0m\n",
      "\u001b[34m[2021-01-19:03:40:13:INFO] Determined delimiter of CSV input is ','\u001b[0m\n",
      "\u001b[35m[2021-01-19:03:40:12:INFO] Sniff delimiter as ','\u001b[0m\n",
      "\u001b[35m[2021-01-19:03:40:12:INFO] Determined delimiter of CSV input is ','\u001b[0m\n",
      "\u001b[35m[2021-01-19:03:40:13:INFO] Sniff delimiter as ','\u001b[0m\n",
      "\u001b[35m[2021-01-19:03:40:13:INFO] Determined delimiter of CSV input is ','\u001b[0m\n",
      "\u001b[34m[2021-01-19:03:40:15:INFO] Sniff delimiter as ','\u001b[0m\n",
      "\u001b[34m[2021-01-19:03:40:15:INFO] Determined delimiter of CSV input is ','\u001b[0m\n",
      "\u001b[34m[2021-01-19:03:40:15:INFO] Sniff delimiter as ','\u001b[0m\n",
      "\u001b[34m[2021-01-19:03:40:15:INFO] Determined delimiter of CSV input is ','\u001b[0m\n",
      "\u001b[34m[2021-01-19:03:40:15:INFO] Sniff delimiter as ','\u001b[0m\n",
      "\u001b[34m[2021-01-19:03:40:15:INFO] Determined delimiter of CSV input is ','\u001b[0m\n",
      "\u001b[34m[2021-01-19:03:40:15:INFO] Sniff delimiter as ','\u001b[0m\n",
      "\u001b[34m[2021-01-19:03:40:15:INFO] Determined delimiter of CSV input is ','\u001b[0m\n",
      "\u001b[35m[2021-01-19:03:40:15:INFO] Sniff delimiter as ','\u001b[0m\n",
      "\u001b[35m[2021-01-19:03:40:15:INFO] Determined delimiter of CSV input is ','\u001b[0m\n",
      "\u001b[35m[2021-01-19:03:40:15:INFO] Sniff delimiter as ','\u001b[0m\n",
      "\u001b[35m[2021-01-19:03:40:15:INFO] Determined delimiter of CSV input is ','\u001b[0m\n",
      "\u001b[35m[2021-01-19:03:40:15:INFO] Sniff delimiter as ','\u001b[0m\n",
      "\u001b[35m[2021-01-19:03:40:15:INFO] Determined delimiter of CSV input is ','\u001b[0m\n",
      "\u001b[35m[2021-01-19:03:40:15:INFO] Sniff delimiter as ','\u001b[0m\n",
      "\u001b[35m[2021-01-19:03:40:15:INFO] Determined delimiter of CSV input is ','\u001b[0m\n",
      "\u001b[34m[2021-01-19:03:40:17:INFO] Sniff delimiter as ','\u001b[0m\n",
      "\u001b[34m[2021-01-19:03:40:17:INFO] Determined delimiter of CSV input is ','\u001b[0m\n",
      "\u001b[34m[2021-01-19:03:40:17:INFO] Sniff delimiter as ','\u001b[0m\n",
      "\u001b[34m[2021-01-19:03:40:17:INFO] Determined delimiter of CSV input is ','\u001b[0m\n",
      "\u001b[35m[2021-01-19:03:40:17:INFO] Sniff delimiter as ','\u001b[0m\n",
      "\u001b[35m[2021-01-19:03:40:17:INFO] Determined delimiter of CSV input is ','\u001b[0m\n",
      "\u001b[35m[2021-01-19:03:40:17:INFO] Sniff delimiter as ','\u001b[0m\n",
      "\u001b[35m[2021-01-19:03:40:17:INFO] Determined delimiter of CSV input is ','\u001b[0m\n",
      "\u001b[34m[2021-01-19:03:40:17:INFO] Sniff delimiter as ','\u001b[0m\n",
      "\u001b[34m[2021-01-19:03:40:17:INFO] Determined delimiter of CSV input is ','\u001b[0m\n",
      "\u001b[34m[2021-01-19:03:40:18:INFO] Sniff delimiter as ','\u001b[0m\n",
      "\u001b[34m[2021-01-19:03:40:18:INFO] Determined delimiter of CSV input is ','\u001b[0m\n",
      "\u001b[35m[2021-01-19:03:40:17:INFO] Sniff delimiter as ','\u001b[0m\n",
      "\u001b[35m[2021-01-19:03:40:17:INFO] Determined delimiter of CSV input is ','\u001b[0m\n",
      "\u001b[35m[2021-01-19:03:40:18:INFO] Sniff delimiter as ','\u001b[0m\n",
      "\u001b[35m[2021-01-19:03:40:18:INFO] Determined delimiter of CSV input is ','\u001b[0m\n",
      "\u001b[34m[2021-01-19:03:40:20:INFO] Sniff delimiter as ','\u001b[0m\n",
      "\u001b[34m[2021-01-19:03:40:20:INFO] Determined delimiter of CSV input is ','\u001b[0m\n",
      "\u001b[34m[2021-01-19:03:40:20:INFO] Sniff delimiter as ','\u001b[0m\n",
      "\u001b[34m[2021-01-19:03:40:20:INFO] Determined delimiter of CSV input is ','\u001b[0m\n",
      "\u001b[34m[2021-01-19:03:40:20:INFO] Sniff delimiter as ','\u001b[0m\n",
      "\u001b[34m[2021-01-19:03:40:20:INFO] Determined delimiter of CSV input is ','\u001b[0m\n",
      "\u001b[34m[2021-01-19:03:40:20:INFO] Sniff delimiter as ','\u001b[0m\n",
      "\u001b[34m[2021-01-19:03:40:20:INFO] Determined delimiter of CSV input is ','\u001b[0m\n",
      "\u001b[35m[2021-01-19:03:40:20:INFO] Sniff delimiter as ','\u001b[0m\n",
      "\u001b[35m[2021-01-19:03:40:20:INFO] Determined delimiter of CSV input is ','\u001b[0m\n",
      "\u001b[35m[2021-01-19:03:40:20:INFO] Sniff delimiter as ','\u001b[0m\n",
      "\u001b[35m[2021-01-19:03:40:20:INFO] Determined delimiter of CSV input is ','\u001b[0m\n",
      "\u001b[35m[2021-01-19:03:40:20:INFO] Sniff delimiter as ','\u001b[0m\n",
      "\u001b[35m[2021-01-19:03:40:20:INFO] Determined delimiter of CSV input is ','\u001b[0m\n",
      "\u001b[35m[2021-01-19:03:40:20:INFO] Sniff delimiter as ','\u001b[0m\n",
      "\u001b[35m[2021-01-19:03:40:20:INFO] Determined delimiter of CSV input is ','\u001b[0m\n",
      "\u001b[34m[2021-01-19:03:40:22:INFO] Sniff delimiter as ','\u001b[0m\n",
      "\u001b[34m[2021-01-19:03:40:22:INFO] Determined delimiter of CSV input is ','\u001b[0m\n",
      "\u001b[34m[2021-01-19:03:40:22:INFO] Sniff delimiter as ','\u001b[0m\n",
      "\u001b[34m[2021-01-19:03:40:22:INFO] Determined delimiter of CSV input is ','\u001b[0m\n",
      "\u001b[34m[2021-01-19:03:40:22:INFO] Sniff delimiter as ','\u001b[0m\n",
      "\u001b[34m[2021-01-19:03:40:22:INFO] Determined delimiter of CSV input is ','\u001b[0m\n",
      "\u001b[35m[2021-01-19:03:40:22:INFO] Sniff delimiter as ','\u001b[0m\n",
      "\u001b[35m[2021-01-19:03:40:22:INFO] Determined delimiter of CSV input is ','\u001b[0m\n",
      "\u001b[35m[2021-01-19:03:40:22:INFO] Sniff delimiter as ','\u001b[0m\n",
      "\u001b[35m[2021-01-19:03:40:22:INFO] Determined delimiter of CSV input is ','\u001b[0m\n",
      "\u001b[35m[2021-01-19:03:40:22:INFO] Sniff delimiter as ','\u001b[0m\n",
      "\u001b[35m[2021-01-19:03:40:22:INFO] Determined delimiter of CSV input is ','\u001b[0m\n"
     ]
    },
    {
     "name": "stdout",
     "output_type": "stream",
     "text": [
      "\u001b[34m[2021-01-19:03:40:25:INFO] Sniff delimiter as ','\u001b[0m\n",
      "\u001b[34m[2021-01-19:03:40:25:INFO] Determined delimiter of CSV input is ','\u001b[0m\n",
      "\u001b[34m[2021-01-19:03:40:25:INFO] Sniff delimiter as ','\u001b[0m\n",
      "\u001b[34m[2021-01-19:03:40:25:INFO] Determined delimiter of CSV input is ','\u001b[0m\n",
      "\u001b[35m[2021-01-19:03:40:25:INFO] Sniff delimiter as ','\u001b[0m\n",
      "\u001b[35m[2021-01-19:03:40:25:INFO] Determined delimiter of CSV input is ','\u001b[0m\n",
      "\u001b[35m[2021-01-19:03:40:25:INFO] Sniff delimiter as ','\u001b[0m\n",
      "\u001b[35m[2021-01-19:03:40:25:INFO] Determined delimiter of CSV input is ','\u001b[0m\n",
      "\u001b[34m[2021-01-19:03:40:27:INFO] Sniff delimiter as ','\u001b[0m\n",
      "\u001b[34m[2021-01-19:03:40:27:INFO] Determined delimiter of CSV input is ','\u001b[0m\n",
      "\u001b[34m[2021-01-19:03:40:27:INFO] Sniff delimiter as ','\u001b[0m\n",
      "\u001b[34m[2021-01-19:03:40:27:INFO] Determined delimiter of CSV input is ','\u001b[0m\n",
      "\u001b[34m[2021-01-19:03:40:27:INFO] Sniff delimiter as ','\u001b[0m\n",
      "\u001b[34m[2021-01-19:03:40:27:INFO] Determined delimiter of CSV input is ','\u001b[0m\n",
      "\u001b[35m[2021-01-19:03:40:27:INFO] Sniff delimiter as ','\u001b[0m\n",
      "\u001b[35m[2021-01-19:03:40:27:INFO] Determined delimiter of CSV input is ','\u001b[0m\n",
      "\u001b[35m[2021-01-19:03:40:27:INFO] Sniff delimiter as ','\u001b[0m\n",
      "\u001b[35m[2021-01-19:03:40:27:INFO] Determined delimiter of CSV input is ','\u001b[0m\n",
      "\u001b[35m[2021-01-19:03:40:27:INFO] Sniff delimiter as ','\u001b[0m\n",
      "\u001b[35m[2021-01-19:03:40:27:INFO] Determined delimiter of CSV input is ','\u001b[0m\n",
      "\u001b[34m[2021-01-19:03:40:28:INFO] Sniff delimiter as ','\u001b[0m\n",
      "\u001b[35m[2021-01-19:03:40:28:INFO] Sniff delimiter as ','\u001b[0m\n",
      "\u001b[34m[2021-01-19:03:40:28:INFO] Determined delimiter of CSV input is ','\u001b[0m\n",
      "\u001b[35m[2021-01-19:03:40:28:INFO] Determined delimiter of CSV input is ','\u001b[0m\n",
      "\u001b[34m[2021-01-19:03:40:29:INFO] Sniff delimiter as ','\u001b[0m\n",
      "\u001b[34m[2021-01-19:03:40:29:INFO] Determined delimiter of CSV input is ','\u001b[0m\n",
      "\u001b[34m[2021-01-19:03:40:30:INFO] Sniff delimiter as ','\u001b[0m\n",
      "\u001b[34m[2021-01-19:03:40:30:INFO] Determined delimiter of CSV input is ','\u001b[0m\n",
      "\u001b[34m[2021-01-19:03:40:30:INFO] Sniff delimiter as ','\u001b[0m\n",
      "\u001b[35m[2021-01-19:03:40:29:INFO] Sniff delimiter as ','\u001b[0m\n",
      "\u001b[35m[2021-01-19:03:40:29:INFO] Determined delimiter of CSV input is ','\u001b[0m\n",
      "\u001b[35m[2021-01-19:03:40:30:INFO] Sniff delimiter as ','\u001b[0m\n",
      "\u001b[35m[2021-01-19:03:40:30:INFO] Determined delimiter of CSV input is ','\u001b[0m\n",
      "\u001b[35m[2021-01-19:03:40:30:INFO] Sniff delimiter as ','\u001b[0m\n",
      "\u001b[34m[2021-01-19:03:40:30:INFO] Determined delimiter of CSV input is ','\u001b[0m\n",
      "\u001b[34m[2021-01-19:03:40:30:INFO] Sniff delimiter as ','\u001b[0m\n",
      "\u001b[34m[2021-01-19:03:40:30:INFO] Determined delimiter of CSV input is ','\u001b[0m\n",
      "\u001b[35m[2021-01-19:03:40:30:INFO] Determined delimiter of CSV input is ','\u001b[0m\n",
      "\u001b[35m[2021-01-19:03:40:30:INFO] Sniff delimiter as ','\u001b[0m\n",
      "\u001b[35m[2021-01-19:03:40:30:INFO] Determined delimiter of CSV input is ','\u001b[0m\n",
      "\n"
     ]
    }
   ],
   "source": [
    "xgb_transformer.wait()"
   ]
  },
  {
   "cell_type": "markdown",
   "metadata": {},
   "source": [
    "Now the transform job has executed and the result, the estimated sentiment of each review, has been saved on S3. Since we would rather work on this file locally we can perform a bit of notebook magic to copy the file to the `data_dir`."
   ]
  },
  {
   "cell_type": "code",
   "execution_count": 29,
   "metadata": {},
   "outputs": [
    {
     "name": "stdout",
     "output_type": "stream",
     "text": [
      "Completed 256.0 KiB/369.4 KiB (2.8 MiB/s) with 1 file(s) remaining\r",
      "Completed 369.4 KiB/369.4 KiB (4.0 MiB/s) with 1 file(s) remaining\r",
      "download: s3://sagemaker-us-east-1-502383323960/xgboost-2021-01-19-03-35-13-437/test.csv.out to ../data/sentiment_web_app/test.csv.out\r\n"
     ]
    }
   ],
   "source": [
    "!aws s3 cp --recursive $xgb_transformer.output_path $data_dir"
   ]
  },
  {
   "cell_type": "markdown",
   "metadata": {},
   "source": [
    "The last step is now to read in the output from our model, convert the output to something a little more usable, in this case we want the sentiment to be either `1` (positive) or `0` (negative), and then compare to the ground truth labels."
   ]
  },
  {
   "cell_type": "code",
   "execution_count": 30,
   "metadata": {},
   "outputs": [],
   "source": [
    "predictions = pd.read_csv(os.path.join(data_dir, 'test.csv.out'), header=None)\n",
    "predictions = [round(num) for num in predictions.squeeze().values]"
   ]
  },
  {
   "cell_type": "code",
   "execution_count": 31,
   "metadata": {},
   "outputs": [
    {
     "data": {
      "text/plain": [
       "0.8576"
      ]
     },
     "execution_count": 31,
     "metadata": {},
     "output_type": "execute_result"
    }
   ],
   "source": [
    "from sklearn.metrics import accuracy_score\n",
    "accuracy_score(test_y, predictions)"
   ]
  },
  {
   "cell_type": "markdown",
   "metadata": {},
   "source": [
    "## Step 6: Deploying the model\n",
    "\n",
    "Once we construct and fit our model, SageMaker stores the resulting model artifacts and we can use those to deploy an endpoint (inference code). To see this, look in the SageMaker console and you should see that a model has been created along with a link to the S3 location where the model artifacts have been stored.\n",
    "\n",
    "Deploying an endpoint is a lot like training the model with a few important differences. The first is that a deployed model doesn't change the model artifacts, so as you send it various testing instances the model won't change. Another difference is that since we aren't performing a fixed computation, as we were in the training step or while performing a batch transform, the compute instance that gets started stays running until we tell it to stop. This is important to note as if we forget and leave it running we will be charged the entire time.\n",
    "\n",
    "In other words **If you are no longer using a deployed endpoint, shut it down!**"
   ]
  },
  {
   "cell_type": "code",
   "execution_count": 1,
   "metadata": {},
   "outputs": [
    {
     "ename": "NameError",
     "evalue": "name 'xgb' is not defined",
     "output_type": "error",
     "traceback": [
      "\u001b[0;31m---------------------------------------------------------------------------\u001b[0m",
      "\u001b[0;31mNameError\u001b[0m                                 Traceback (most recent call last)",
      "\u001b[0;32m<ipython-input-1-80a5407c39ef>\u001b[0m in \u001b[0;36m<module>\u001b[0;34m\u001b[0m\n\u001b[0;32m----> 1\u001b[0;31m \u001b[0mxgb_predictor\u001b[0m \u001b[0;34m=\u001b[0m \u001b[0mxgb\u001b[0m\u001b[0;34m.\u001b[0m\u001b[0mdeploy\u001b[0m\u001b[0;34m(\u001b[0m\u001b[0minitial_instance_count\u001b[0m \u001b[0;34m=\u001b[0m \u001b[0;36m1\u001b[0m\u001b[0;34m,\u001b[0m \u001b[0minstance_type\u001b[0m \u001b[0;34m=\u001b[0m \u001b[0;34m'ml.m4.xlarge'\u001b[0m\u001b[0;34m)\u001b[0m\u001b[0;34m\u001b[0m\u001b[0;34m\u001b[0m\u001b[0m\n\u001b[0m\u001b[1;32m      2\u001b[0m \u001b[0;31m#xgb_predictor = xgb.deploy(initial_instance_count = 1, instance_type = 'ml.t2.medium')\u001b[0m\u001b[0;34m\u001b[0m\u001b[0;34m\u001b[0m\u001b[0;34m\u001b[0m\u001b[0m\n",
      "\u001b[0;31mNameError\u001b[0m: name 'xgb' is not defined"
     ]
    }
   ],
   "source": [
    "xgb_predictor = xgb.deploy(initial_instance_count = 1, instance_type = 'ml.m4.xlarge')\n",
    "#xgb_predictor = xgb.deploy(initial_instance_count = 1, instance_type = 'ml.t2.medium')"
   ]
  },
  {
   "cell_type": "markdown",
   "metadata": {},
   "source": [
    "### Testing the model (again)\n",
    "\n",
    "Now that we have deployed our endpoint, we can send the testing data to it and get back the inference results. We already did this earlier using the batch transform functionality of SageMaker, however, we will test our model again using the newly deployed endpoint so that we can make sure that it works properly and to get a bit of a feel for how the endpoint works.\n",
    "\n",
    "When using the created endpoint it is important to know that we are limited in the amount of information we can send in each call so we need to break the testing data up into chunks and then send each chunk. Also, we need to serialize our data before we send it to the endpoint to ensure that our data is transmitted properly. Fortunately, SageMaker can do the serialization part for us provided we tell it the format of our data."
   ]
  },
  {
   "cell_type": "code",
   "execution_count": 33,
   "metadata": {},
   "outputs": [],
   "source": [
    "from sagemaker.predictor import csv_serializer\n",
    "\n",
    "# We need to tell the endpoint what format the data we are sending is in so that SageMaker can perform the serialization.\n",
    "xgb_predictor.content_type = 'text/csv'\n",
    "xgb_predictor.serializer = csv_serializer"
   ]
  },
  {
   "cell_type": "code",
   "execution_count": 34,
   "metadata": {},
   "outputs": [],
   "source": [
    "# We split the data into chunks and send each chunk seperately, accumulating the results.\n",
    "\n",
    "def predict(data, rows=512):\n",
    "    split_array = np.array_split(data, int(data.shape[0] / float(rows) + 1))\n",
    "    predictions = ''\n",
    "    for array in split_array:\n",
    "        predictions = ','.join([predictions, xgb_predictor.predict(array).decode('utf-8')])\n",
    "    \n",
    "    return np.fromstring(predictions[1:], sep=',')"
   ]
  },
  {
   "cell_type": "code",
   "execution_count": 35,
   "metadata": {},
   "outputs": [],
   "source": [
    "test_X = pd.read_csv(os.path.join(data_dir, 'test.csv'), header=None).values\n",
    "\n",
    "predictions = predict(test_X)\n",
    "predictions = [round(num) for num in predictions]"
   ]
  },
  {
   "cell_type": "markdown",
   "metadata": {},
   "source": [
    "Lastly, we check to see what the accuracy of our model is."
   ]
  },
  {
   "cell_type": "code",
   "execution_count": 36,
   "metadata": {},
   "outputs": [
    {
     "data": {
      "text/plain": [
       "0.8576"
      ]
     },
     "execution_count": 36,
     "metadata": {},
     "output_type": "execute_result"
    }
   ],
   "source": [
    "from sklearn.metrics import accuracy_score\n",
    "accuracy_score(test_y, predictions)"
   ]
  },
  {
   "cell_type": "markdown",
   "metadata": {},
   "source": [
    "And the results here should agree with the model testing that we did earlier using the batch transform job.\n",
    "\n",
    "### Cleaning up\n",
    "\n",
    "Now that we've determined that deploying our model works as expected, we are going to shut it down. Remember that the longer the endpoint is left running, the greater the cost and since we have a bit more work to do before we are able to use our endpoint with our simple web app, we should shut everything down."
   ]
  },
  {
   "cell_type": "code",
   "execution_count": 37,
   "metadata": {},
   "outputs": [],
   "source": [
    "xgb_predictor.delete_endpoint()"
   ]
  },
  {
   "cell_type": "markdown",
   "metadata": {},
   "source": [
    "## Step 7: Putting our model to work\n",
    "\n",
    "As we've mentioned a few times now, our goal is to have our model deployed and then access it using a very simple web app. The intent is for this web app to take some user submitted data (a review), send it off to our endpoint (the model) and then display the result.\n",
    "\n",
    "However, there is a small catch. Currently the only way we can access the endpoint to send it data is using the SageMaker API. We can, if we wish, expose the actual URL that our model's endpoint is receiving data from, however, if we just send it data ourselves we will not get anything in return. This is because the endpoint created by SageMaker requires the entity accessing it have the correct permissions. So, we would need to somehow authenticate our web app with AWS.\n",
    "\n",
    "Having a website that authenticates to AWS seems a bit beyond the scope of this lesson so we will opt for an alternative approach. Namely, we will create a new endpoint which does not require authentication and which acts as a proxy for the SageMaker endpoint.\n",
    "\n",
    "As an additional constraint, we will try to avoid doing any data processing in the web app itself. Remember that when we constructed and tested our model we started with a movie review, then we simplified it by removing any html formatting and punctuation, then we constructed a bag of words embedding and the resulting vector is what we sent to our model. All of this needs to be done to our user input as well.\n",
    "\n",
    "Fortunately we can do all of this data processing in the backend, using Amazon's Lambda service.\n",
    "\n",
    "<img src=\"Web App Diagram.svg\">\n",
    "\n",
    "The diagram above gives an overview of how the various services will work together. On the far right is the model which we trained above and which will be deployed using SageMaker. On the far left is our web app that collects a user's movie review, sends it off and expects a positive or negative sentiment in return.\n",
    "\n",
    "In the middle is where some of the magic happens. We will construct a Lambda function, which you can think of as a straightforward Python function that can be executed whenever a specified event occurs. This Python function will do the data processing we need to perform on a user submitted review. In addition, we will give this function permission to send and recieve data from a SageMaker endpoint.\n",
    "\n",
    "Lastly, the method we will use to execute the Lambda function is a new endpoint that we will create using API Gateway. This endpoint will be a url that listens for data to be sent to it. Once it gets some data it will pass that data on to the Lambda function and then return whatever the Lambda function returns. Essentially it will act as an interface that lets our web app communicate with the Lambda function.\n",
    "\n",
    "### Processing a single review\n",
    "\n",
    "For now, suppose we are given a movie review by our user in the form of a string, like so:"
   ]
  },
  {
   "cell_type": "code",
   "execution_count": 38,
   "metadata": {},
   "outputs": [],
   "source": [
    "test_review = \"Nothing but a disgusting materialistic pageant of glistening abed remote control greed zombies, totally devoid of any heart or heat. A romantic comedy that has zero romantic chemestry and zero laughs!\""
   ]
  },
  {
   "cell_type": "markdown",
   "metadata": {},
   "source": [
    "How do we go from this string to the bag of words feature vector that is expected by our model?\n",
    "\n",
    "If we recall at the beginning of this notebook, the first step is to remove any unnecessary characters using the `review_to_words` method. Remember that we intentionally did this in a very simplistic way. This is because we are going to have to copy this method to our (eventual) Lambda function (we will go into more detail later) and this means it needs to be rather simplistic."
   ]
  },
  {
   "cell_type": "code",
   "execution_count": 39,
   "metadata": {},
   "outputs": [
    {
     "name": "stdout",
     "output_type": "stream",
     "text": [
      "nothing but a disgusting materialistic pageant of glistening abed remote control greed zombies totally devoid of any heart or heat a romantic comedy that has zero romantic chemestry and zero laughs\n"
     ]
    }
   ],
   "source": [
    "test_words = review_to_words(test_review)\n",
    "print(test_words)"
   ]
  },
  {
   "cell_type": "markdown",
   "metadata": {},
   "source": [
    "Next, we need to construct a bag of words embedding of the `test_words` string. To do this, remember that a bag of words embedding uses a `vocabulary` consisting of the most frequently appearing words in a set of documents. Then, for each word in the vocabulary we record the number of times that word appears in `test_words`. We constructed the `vocabulary` earlier using the training set for our problem so encoding `test_words` is relatively straightforward."
   ]
  },
  {
   "cell_type": "code",
   "execution_count": 40,
   "metadata": {},
   "outputs": [],
   "source": [
    "def bow_encoding(words, vocabulary):\n",
    "    bow = [0] * len(vocabulary) # Start by setting the count for each word in the vocabulary to zero.\n",
    "    for word in words.split():  # For each word in the string\n",
    "        if word in vocabulary:  # If the word is one that occurs in the vocabulary, increase its count.\n",
    "            bow[vocabulary[word]] += 1\n",
    "    return bow"
   ]
  },
  {
   "cell_type": "code",
   "execution_count": 41,
   "metadata": {},
   "outputs": [
    {
     "name": "stdout",
     "output_type": "stream",
     "text": [
      "[0, 0, 0, 0, 0, 0, 0, 0, 0, 0, 0, 0, 0, 0, 0, 0, 0, 0, 0, 0, 0, 0, 0, 0, 0, 0, 0, 0, 0, 0, 0, 0, 0, 0, 0, 0, 0, 0, 0, 0, 0, 0, 0, 0, 0, 0, 0, 0, 0, 0, 0, 0, 0, 0, 0, 0, 0, 0, 0, 0, 0, 0, 0, 0, 0, 0, 0, 0, 0, 0, 0, 0, 0, 0, 0, 0, 0, 0, 0, 0, 0, 0, 0, 0, 0, 0, 0, 0, 0, 0, 0, 0, 0, 0, 0, 0, 0, 0, 0, 0, 0, 0, 0, 0, 0, 0, 0, 0, 0, 0, 0, 0, 0, 0, 0, 0, 0, 0, 0, 0, 0, 0, 0, 0, 0, 0, 0, 0, 0, 0, 0, 0, 0, 0, 0, 0, 0, 0, 0, 0, 0, 0, 0, 0, 0, 0, 0, 0, 0, 0, 0, 0, 0, 0, 0, 0, 0, 0, 0, 0, 0, 0, 0, 0, 0, 0, 0, 0, 0, 0, 0, 0, 0, 0, 0, 0, 0, 0, 0, 0, 0, 0, 0, 0, 0, 0, 0, 0, 0, 0, 0, 0, 0, 0, 0, 0, 0, 0, 0, 0, 0, 0, 0, 0, 0, 0, 0, 0, 0, 0, 0, 0, 0, 0, 0, 0, 0, 0, 0, 0, 0, 0, 0, 0, 0, 0, 1, 0, 0, 0, 0, 0, 0, 0, 0, 0, 0, 0, 0, 0, 0, 0, 0, 0, 0, 0, 0, 0, 0, 0, 0, 0, 0, 0, 0, 0, 1, 0, 0, 0, 0, 0, 0, 0, 0, 0, 0, 0, 0, 0, 0, 0, 0, 0, 0, 0, 0, 0, 0, 0, 0, 0, 0, 0, 0, 0, 0, 0, 0, 0, 0, 0, 0, 0, 0, 0, 0, 0, 0, 0, 0, 0, 0, 0, 0, 0, 0, 0, 0, 0, 0, 0, 0, 0, 0, 0, 0, 0, 0, 0, 0, 0, 0, 0, 0, 0, 0, 0, 0, 0, 0, 0, 0, 0, 0, 0, 0, 0, 0, 0, 0, 0, 0, 0, 0, 0, 0, 0, 0, 0, 0, 0, 0, 0, 0, 0, 0, 0, 0, 0, 0, 0, 0, 0, 0, 0, 0, 0, 0, 0, 0, 0, 0, 0, 0, 0, 0, 0, 0, 0, 0, 0, 0, 0, 0, 0, 0, 0, 0, 0, 0, 0, 0, 0, 0, 0, 0, 0, 0, 0, 0, 0, 0, 0, 0, 0, 0, 0, 0, 0, 0, 0, 0, 0, 0, 0, 0, 0, 0, 0, 0, 0, 0, 0, 0, 0, 0, 0, 0, 0, 0, 0, 0, 0, 0, 0, 0, 0, 0, 0, 0, 0, 0, 0, 0, 0, 0, 0, 0, 0, 0, 0, 0, 0, 0, 0, 0, 0, 0, 0, 0, 0, 0, 0, 0, 0, 0, 0, 0, 0, 0, 0, 0, 0, 0, 0, 0, 0, 0, 0, 0, 0, 0, 0, 0, 0, 0, 0, 0, 0, 0, 0, 0, 0, 0, 0, 0, 0, 0, 0, 0, 0, 0, 0, 0, 0, 0, 0, 0, 0, 0, 0, 0, 0, 0, 0, 0, 0, 0, 0, 0, 0, 0, 0, 0, 0, 0, 0, 0, 0, 0, 0, 0, 0, 0, 0, 0, 0, 0, 0, 0, 0, 0, 0, 0, 0, 0, 0, 0, 0, 0, 0, 0, 0, 0, 0, 0, 0, 0, 0, 0, 0, 0, 0, 0, 0, 0, 0, 0, 0, 0, 0, 0, 0, 0, 0, 0, 0, 0, 0, 0, 0, 0, 0, 0, 0, 0, 0, 0, 0, 0, 0, 0, 0, 0, 0, 0, 0, 0, 0, 0, 0, 0, 0, 0, 0, 0, 0, 0, 0, 0, 0, 0, 0, 0, 0, 0, 0, 0, 0, 0, 0, 0, 0, 0, 0, 0, 0, 0, 0, 0, 0, 0, 0, 0, 0, 1, 0, 0, 0, 0, 0, 0, 0, 0, 0, 0, 0, 0, 0, 0, 0, 0, 0, 0, 0, 0, 0, 0, 0, 0, 0, 0, 0, 0, 0, 0, 0, 0, 0, 0, 0, 0, 0, 0, 0, 0, 0, 0, 0, 0, 0, 0, 0, 0, 0, 0, 0, 0, 0, 0, 0, 0, 0, 0, 0, 0, 0, 0, 0, 0, 0, 0, 0, 0, 0, 0, 0, 0, 0, 0, 0, 0, 0, 0, 0, 0, 0, 0, 0, 0, 0, 0, 0, 0, 0, 0, 0, 0, 0, 0, 0, 0, 0, 0, 0, 0, 0, 0, 0, 0, 0, 0, 0, 0, 0, 0, 0, 0, 0, 0, 0, 0, 0, 0, 0, 0, 0, 0, 0, 0, 0, 0, 0, 0, 0, 0, 0, 0, 0, 0, 0, 0, 0, 0, 0, 0, 0, 0, 0, 0, 0, 0, 0, 0, 0, 0, 0, 0, 0, 0, 0, 0, 0, 0, 0, 0, 0, 0, 0, 0, 0, 0, 0, 0, 0, 0, 0, 0, 0, 0, 0, 0, 0, 0, 0, 0, 0, 0, 0, 0, 0, 0, 0, 0, 0, 0, 0, 0, 0, 0, 0, 0, 0, 0, 0, 0, 0, 0, 0, 0, 0, 0, 0, 0, 0, 0, 0, 0, 0, 0, 0, 0, 0, 0, 0, 0, 0, 0, 0, 0, 0, 0, 0, 0, 0, 0, 0, 0, 0, 0, 0, 0, 0, 0, 0, 0, 0, 0, 0, 0, 0, 0, 0, 0, 0, 0, 0, 0, 0, 1, 0, 0, 0, 0, 0, 0, 0, 0, 0, 0, 0, 0, 0, 0, 0, 0, 0, 0, 0, 0, 0, 0, 0, 0, 0, 0, 0, 0, 0, 0, 0, 0, 0, 0, 0, 0, 0, 0, 0, 0, 0, 0, 0, 0, 0, 0, 0, 0, 0, 0, 0, 0, 0, 0, 0, 0, 0, 0, 0, 0, 0, 0, 0, 0, 0, 0, 0, 0, 0, 0, 0, 0, 0, 0, 0, 0, 0, 0, 0, 0, 0, 0, 0, 0, 0, 0, 1, 0, 0, 0, 0, 0, 0, 0, 0, 0, 0, 0, 0, 0, 0, 0, 0, 0, 0, 0, 0, 0, 0, 0, 0, 0, 0, 0, 0, 0, 0, 0, 0, 0, 0, 0, 0, 0, 0, 0, 0, 0, 0, 0, 0, 0, 0, 0, 0, 0, 0, 0, 0, 0, 0, 0, 0, 0, 0, 0, 0, 0, 0, 0, 0, 0, 0, 0, 0, 0, 0, 0, 0, 0, 0, 0, 0, 0, 0, 0, 0, 0, 0, 0, 0, 0, 0, 0, 0, 0, 0, 0, 0, 0, 0, 0, 0, 0, 0, 0, 0, 0, 0, 0, 0, 0, 0, 0, 0, 0, 0, 0, 0, 0, 0, 0, 0, 0, 0, 0, 0, 0, 0, 0, 0, 0, 0, 0, 0, 0, 0, 0, 0, 0, 0, 0, 0, 0, 0, 0, 0, 0, 0, 0, 0, 0, 0, 0, 0, 0, 0, 0, 0, 0, 0, 0, 0, 0, 0, 0, 0, 0, 0, 0, 0, 0, 0, 0, 0, 0, 0, 0, 0, 0, 0, 0, 0, 0, 0, 0, 0, 0, 0, 0, 0, 0, 0, 0, 0, 0, 0, 0, 0, 0, 0, 0, 0, 0, 0, 0, 0, 0, 0, 0, 0, 0, 0, 0, 0, 0, 0, 0, 0, 0, 0, 0, 0, 0, 0, 0, 0, 0, 0, 0, 0, 0, 0, 0, 0, 0, 0, 0, 0, 0, 0, 0, 0, 0, 0, 0, 0, 0, 0, 0, 0, 0, 0, 0, 0, 0, 0, 0, 0, 1, 0, 0, 0, 0, 0, 0, 0, 0, 0, 0, 0, 0, 0, 0, 0, 0, 0, 0, 0, 0, 0, 0, 0, 0, 0, 0, 0, 0, 0, 0, 0, 0, 0, 0, 0, 0, 0, 0, 0, 0, 0, 0, 0, 0, 0, 0, 0, 0, 0, 0, 0, 0, 0, 0, 0, 1, 0, 0, 0, 0, 0, 0, 0, 0, 0, 0, 0, 0, 0, 0, 0, 0, 0, 0, 0, 0, 0, 0, 0, 0, 0, 0, 0, 0, 0, 0, 0, 0, 0, 0, 0, 0, 0, 0, 0, 0, 0, 0, 0, 0, 0, 0, 0, 0, 0, 0, 0, 0, 0, 0, 0, 0, 0, 0, 0, 0, 0, 0, 0, 0, 0, 0, 0, 0, 0, 0, 0, 0, 0, 0, 0, 0, 0, 0, 0, 0, 0, 0, 0, 0, 0, 0, 0, 0, 0, 0, 0, 0, 0, 0, 0, 0, 0, 0, 0, 0, 0, 0, 0, 0, 0, 0, 0, 0, 0, 0, 0, 0, 0, 0, 0, 0, 0, 0, 0, 0, 0, 0, 0, 0, 0, 0, 0, 0, 0, 0, 0, 0, 0, 0, 0, 0, 0, 0, 0, 0, 0, 0, 0, 0, 0, 0, 0, 0, 0, 0, 0, 0, 0, 0, 0, 0, 0, 0, 0, 0, 0, 0, 0, 0, 0, 0, 0, 0, 0, 0, 0, 0, 0, 0, 0, 0, 0, 0, 0, 0, 0, 0, 0, 0, 0, 0, 0, 0, 0, 0, 0, 0, 0, 0, 0, 0, 0, 0, 0, 0, 0, 0, 0, 0, 0, 0, 0, 0, 0, 0, 0, 0, 0, 0, 0, 0, 0, 0, 0, 0, 0, 0, 0, 0, 0, 0, 0, 0, 0, 0, 0, 0, 0, 0, 0, 0, 0, 0, 0, 0, 0, 0, 0, 0, 0, 0, 0, 0, 0, 0, 0, 0, 0, 0, 0, 0, 0, 0, 0, 0, 0, 0, 0, 0, 0, 0, 0, 0, 0, 0, 0, 0, 0, 0, 0, 0, 0, 0, 0, 0, 0, 0, 0, 0, 0, 0, 0, 0, 0, 0, 0, 0, 0, 0, 0, 0, 0, 0, 0, 0, 0, 0, 0, 0, 0, 0, 0, 0, 0, 0, 0, 0, 0, 0, 0, 0, 0, 0, 0, 0, 0, 0, 0, 0, 0, 0, 0, 0, 0, 0, 0, 0, 0, 0, 0, 0, 0, 0, 0, 0, 0, 0, 0, 0, 0, 0, 0, 0, 0, 0, 0, 0, 0, 0, 0, 0, 0, 0, 0, 0, 0, 0, 0, 0, 0, 0, 0, 0, 0, 0, 0, 0, 0, 0, 0, 0, 0, 0, 0, 0, 0, 0, 0, 0, 0, 0, 0, 0, 0, 0, 0, 0, 0, 0, 0, 0, 0, 0, 0, 0, 0, 0, 0, 0, 0, 0, 0, 0, 0, 0, 0, 0, 0, 0, 0, 0, 0, 0, 0, 0, 0, 0, 0, 0, 0, 0, 0, 0, 0, 0, 0, 0, 0, 0, 0, 0, 0, 0, 0, 0, 0, 0, 0, 0, 0, 0, 0, 0, 0, 0, 0, 0, 0, 0, 0, 0, 0, 0, 0, 0, 0, 0, 0, 0, 0, 0, 0, 0, 0, 0, 0, 0, 0, 0, 0, 0, 0, 0, 0, 0, 0, 0, 0, 0, 0, 0, 0, 0, 0, 0, 0, 0, 0, 0, 0, 0, 0, 0, 0, 0, 0, 0, 0, 0, 0, 0, 0, 0, 0, 0, 0, 0, 0, 0, 0, 0, 0, 0, 0, 0, 0, 0, 0, 0, 0, 0, 0, 0, 0, 0, 0, 0, 0, 0, 0, 0, 0, 0, 0, 0, 0, 0, 0, 0, 0, 0, 0, 0, 0, 0, 0, 0, 0, 0, 0, 0, 0, 0, 0, 0, 0, 0, 0, 0, 0, 0, 0, 0, 0, 0, 0, 0, 0, 0, 0, 0, 0, 0, 0, 0, 0, 0, 0, 0, 0, 0, 0, 0, 0, 0, 0, 0, 0, 0, 0, 0, 0, 0, 0, 0, 0, 0, 0, 0, 0, 0, 0, 0, 0, 0, 0, 0, 0, 0, 0, 0, 0, 0, 0, 0, 0, 0, 0, 0, 0, 0, 0, 0, 0, 0, 0, 0, 0, 0, 0, 0, 0, 0, 0, 0, 0, 0, 0, 0, 0, 0, 0, 0, 0, 0, 0, 0, 0, 0, 0, 0, 0, 0, 0, 0, 0, 0, 0, 0, 0, 0, 0, 0, 0, 0, 0, 0, 0, 0, 0, 0, 0, 0, 0, 0, 0, 1, 0, 0, 0, 0, 0, 0, 0, 0, 0, 0, 0, 0, 0, 0, 0, 0, 0, 0, 0, 0, 0, 0, 0, 0, 0, 0, 0, 0, 0, 0, 0, 0, 0, 0, 0, 0, 0, 0, 0, 0, 0, 0, 0, 0, 0, 0, 0, 0, 0, 0, 0, 0, 0, 0, 0, 0, 0, 0, 0, 0, 0, 0, 0, 0, 0, 0, 0, 0, 0, 0, 0, 0, 0, 0, 1, 0, 0, 0, 0, 0, 0, 0, 0, 0, 0, 0, 0, 0, 0, 0, 0, 0, 0, 0, 0, 1, 0, 0, 1, 0, 0, 0, 0, 0, 0, 0, 0, 0, 0, 0, 0, 0, 0, 0, 0, 0, 0, 0, 0, 0, 0, 0, 0, 0, 0, 0, 0, 0, 0, 0, 0, 0, 0, 0, 0, 0, 0, 0, 0, 0, 0, 0, 0, 0, 0, 0, 0, 0, 0, 0, 0, 0, 0, 0, 0, 0, 0, 0, 0, 0, 0, 0, 0, 0, 0, 0, 0, 0, 0, 0, 0, 0, 0, 0, 0, 0, 0, 0, 0, 0, 0, 0, 0, 0, 0, 0, 0, 0, 0, 0, 0, 0, 0, 0, 0, 0, 0, 0, 0, 0, 0, 0, 0, 0, 0, 0, 0, 0, 0, 0, 0, 0, 0, 0, 0, 0, 0, 0, 0, 0, 0, 0, 0, 0, 0, 0, 0, 0, 0, 0, 0, 0, 0, 0, 0, 0, 0, 0, 0, 0, 0, 0, 0, 0, 0, 0, 0, 0, 0, 0, 0, 0, 0, 0, 0, 0, 0, 0, 0, 0, 0, 0, 0, 0, 0, 0, 0, 0, 0, 0, 0, 0, 0, 0, 0, 0, 0, 0, 0, 0, 0, 0, 0, 0, 0, 0, 0, 0, 0, 0, 0, 0, 0, 0, 0, 0, 0, 0, 0, 0, 0, 0, 0, 0, 0, 0, 0, 0, 0, 0, 0, 0, 0, 0, 0, 0, 0, 0, 0, 0, 0, 0, 0, 0, 0, 0, 0, 0, 0, 0, 0, 0, 0, 0, 0, 0, 0, 0, 0, 0, 0, 0, 0, 0, 0, 0, 0, 0, 0, 0, 0, 0, 0, 0, 0, 0, 0, 0, 0, 0, 0, 0, 0, 0, 0, 0, 0, 0, 0, 0, 0, 0, 0, 0, 0, 0, 0, 0, 0, 0, 0, 0, 0, 0, 0, 0, 0, 0, 0, 0, 0, 0, 0, 0, 0, 0, 0, 0, 0, 0, 0, 0, 0, 0, 0, 0, 0, 0, 0, 0, 0, 0, 0, 0, 0, 0, 0, 0, 0, 0, 0, 0, 0, 0, 0, 0, 0, 0, 0, 0, 0, 0, 0, 0, 0, 0, 0, 0, 0, 0, 0, 0, 0, 0, 0, 0, 0, 0, 0, 0, 0, 0, 0, 0, 0, 0, 0, 0, 0, 0, 0, 0, 0, 0, 0, 0, 0, 0, 0, 0, 0, 0, 0, 0, 0, 0, 0, 0, 0, 0, 0, 0, 0, 0, 0, 0, 0, 0, 0, 0, 0, 0, 0, 0, 0, 0, 0, 0, 0, 0, 0, 0, 0, 0, 0, 0, 0, 0, 0, 0, 0, 0, 0, 0, 0, 0, 0, 0, 0, 0, 0, 0, 0, 0, 0, 0, 0, 0, 0, 0, 0, 0, 0, 0, 0, 0, 0, 0, 0, 0, 0, 0, 0, 0, 0, 0, 0, 0, 0, 0, 0, 0, 0, 0, 0, 0, 0, 0, 0, 0, 0, 0, 0, 0, 0, 1, 0, 0, 0, 0, 0, 0, 0, 0, 0, 0, 0, 0, 0, 0, 0, 0, 0, 0, 0, 0, 0, 0, 0, 0, 0, 0, 0, 0, 0, 0, 0, 0, 0, 0, 0, 0, 0, 0, 0, 0, 0, 0, 0, 0, 0, 0, 0, 0, 0, 0, 0, 0, 0, 0, 0, 0, 0, 0, 0, 0, 0, 0, 0, 0, 0, 0, 0, 0, 0, 0, 0, 0, 0, 0, 0, 0, 0, 0, 0, 0, 0, 0, 0, 0, 0, 0, 0, 0, 0, 0, 0, 0, 0, 0, 0, 0, 0, 0, 0, 0, 0, 0, 0, 0, 0, 0, 0, 0, 0, 0, 0, 0, 0, 0, 0, 0, 0, 0, 0, 0, 0, 0, 0, 0, 0, 0, 0, 0, 0, 0, 0, 0, 0, 0, 0, 0, 0, 0, 0, 0, 0, 0, 0, 0, 0, 0, 0, 0, 0, 0, 0, 0, 0, 0, 0, 0, 0, 0, 0, 0, 0, 0, 0, 0, 0, 0, 0, 0, 0, 0, 0, 0, 0, 0, 0, 0, 0, 0, 0, 0, 0, 0, 0, 0, 0, 0, 0, 0, 0, 0, 0, 0, 0, 0, 0, 0, 0, 0, 0, 0, 0, 0, 0, 0, 0, 0, 0, 0, 0, 0, 0, 0, 0, 0, 0, 0, 0, 0, 0, 0, 0, 0, 0, 0, 0, 0, 0, 0, 0, 0, 0, 0, 0, 0, 0, 0, 0, 0, 0, 0, 0, 0, 0, 0, 0, 0, 0, 0, 0, 0, 0, 0, 0, 0, 0, 0, 0, 0, 0, 0, 0, 0, 0, 0, 0, 0, 0, 0, 0, 0, 0, 0, 0, 0, 0, 0, 0, 0, 0, 0, 0, 0, 0, 0, 0, 0, 0, 0, 0, 0, 0, 0, 0, 0, 0, 0, 0, 0, 0, 0, 0, 0, 0, 0, 0, 0, 0, 0, 0, 0, 0, 0, 0, 0, 0, 0, 0, 0, 0, 0, 0, 0, 0, 0, 0, 0, 0, 0, 0, 0, 0, 0, 0, 0, 0, 0, 0, 0, 0, 0, 0, 0, 0, 0, 0, 0, 0, 0, 0, 0, 0, 0, 0, 0, 0, 0, 0, 0, 0, 0, 0, 0, 0, 0, 0, 0, 0, 0, 0, 0, 0, 0, 0, 0, 0, 0, 0, 0, 0, 0, 0, 0, 0, 0, 0, 0, 0, 0, 0, 0, 0, 0, 0, 0, 0, 0, 0, 0, 0, 0, 0, 0, 0, 0, 0, 0, 0, 0, 0, 0, 0, 0, 0, 0, 0, 0, 0, 0, 0, 0, 0, 0, 0, 0, 0, 0, 0, 0, 0, 0, 0, 0, 0, 0, 0, 0, 0, 0, 0, 0, 0, 0, 0, 0, 0, 0, 0, 0, 0, 0, 0, 0, 0, 0, 0, 0, 0, 0, 0, 0, 0, 0, 0, 0, 0, 0, 0, 0, 0, 0, 0, 0, 0, 0, 0, 0, 0, 0, 0, 0, 0, 0, 0, 0, 0, 0, 0, 0, 0, 0, 0, 0, 0, 0, 0, 0, 0, 0, 0, 0, 0, 0, 0, 0, 0, 0, 0, 0, 0, 0, 0, 0, 1, 0, 0, 0, 0, 0, 0, 0, 0, 0, 0, 0, 0, 0, 0, 0, 0, 0, 0, 0, 0, 0, 0, 0, 0, 0, 0, 0, 0, 0, 0, 0, 0, 0, 0, 0, 2, 0, 0, 0, 0, 0, 0, 0, 0, 0, 0, 0, 0, 0, 0, 0, 0, 0, 0, 0, 0, 0, 0, 0, 0, 0, 0, 0, 0, 0, 0, 0, 0, 0, 0, 0, 0, 0, 0, 0, 0, 1, 0, 0, 0, 0, 0, 0, 0, 0, 0, 0, 0, 0, 0, 0, 0, 0, 0, 0, 0, 0, 0, 0, 0, 0, 0, 0, 0, 0, 0, 0, 0, 0, 0, 0, 0, 0, 0, 0, 0, 0, 0, 0, 0, 0, 0, 0, 0, 0, 0, 0, 0, 0, 0, 0, 0, 0, 0, 0, 0, 0, 0, 0, 0, 0, 0, 0, 0, 0, 0, 0, 0, 0, 0, 0, 0, 0, 0, 0, 0, 0, 0, 0, 0, 0, 0, 0, 0, 0, 0, 0, 0, 0, 0, 0, 0, 0, 0, 0, 0, 0, 0, 0, 0, 0, 0, 0, 0, 0, 0, 0, 0, 0, 0, 0, 0, 0, 0, 0, 0, 0, 0, 0, 0, 0, 0, 0, 0, 0, 0, 0, 0, 0, 0, 0, 0, 0, 0, 0, 0, 0, 0, 0, 0, 0, 0, 0, 0, 0, 0, 0, 0, 0, 0, 0, 0, 0, 0, 0, 0, 0, 0, 0, 0, 0, 0, 0, 0, 0, 0, 0, 0, 0, 0, 0, 0, 0, 0, 0, 0, 0, 0, 0, 0, 0, 0, 0, 0, 0, 0, 0, 0, 0, 0, 0, 0, 0, 0, 0, 0, 0, 0, 0, 0, 0, 0, 0, 0, 0, 0, 0, 0, 0, 0, 0, 0, 0, 0, 0, 0, 0, 0, 0, 0, 0, 0, 0, 0, 0, 0, 0, 0, 0, 0, 0, 0, 0, 0, 0, 0, 0, 0, 0, 0, 0, 0, 0, 0, 0, 0, 0, 0, 0, 0, 0, 0, 0, 0, 0, 0, 0, 0, 0, 0, 0, 0, 0, 0, 0, 0, 0, 0, 0, 0, 0, 0, 0, 0, 0, 0, 0, 0, 0, 0, 0, 0, 0, 0, 0, 0, 0, 0, 0, 0, 0, 0, 0, 0, 0, 0, 0, 0, 0, 0, 0, 0, 0, 0, 0, 0, 0, 0, 0, 0, 0, 0, 0, 0, 0, 0, 0, 0, 0, 0, 0, 0, 0, 0, 0, 0, 0, 0, 0, 0, 0, 0, 0, 0, 0, 0, 0, 0, 0, 0, 0, 0, 0, 0, 0, 0, 0, 0, 0, 0, 0, 0, 0, 0, 0, 0, 0, 0, 0, 0, 0, 0, 0, 0, 0, 0, 0, 0, 0, 0, 0, 0, 0, 0, 0, 0, 0, 0, 0, 0, 0, 0, 0, 0, 0, 0, 0, 0, 0, 0, 0, 0, 0, 0, 0, 0, 0, 0, 0, 0, 0, 0, 0, 0, 0, 0, 0, 0, 0, 0, 0, 0, 0, 0, 0, 0, 0, 0, 0, 0, 0, 0, 0, 0, 0, 0, 0, 0, 0, 0, 0, 0, 0, 0, 0, 0, 0, 0, 0, 0, 0, 0, 0, 0, 0, 0, 0, 0, 0, 0, 0, 0, 0, 0, 0, 0, 0, 0, 0, 0, 0, 0, 0, 0, 0, 0, 0, 0, 0, 0, 0, 0, 0, 0, 0, 0, 0, 0, 0, 0, 0, 0, 0, 0, 0, 0, 0, 0, 0, 0, 0, 0, 0, 0, 1, 0, 0, 0, 0, 0, 0, 0, 0, 0, 0, 0, 0, 0, 0, 0, 0, 0, 0, 0, 0, 0, 0, 0, 0, 0, 0, 0, 0, 0, 0, 0, 0, 0, 0, 0, 0, 0, 0, 0, 0, 0, 0, 0, 0, 0, 0, 0, 0, 0, 0, 0, 0, 0, 0, 0, 0, 0, 0, 0, 0, 0, 0, 0, 0, 0, 0, 0, 0, 0, 0, 0, 0, 0, 0, 0, 0, 0, 0, 0, 0, 0, 0, 0, 0, 0, 0, 0, 0, 0, 0, 0, 0, 0, 0, 0, 0, 0, 0, 0, 0, 0, 0, 0, 0, 0, 0, 0, 0, 0, 0, 2, 0, 0, 0, 0, 0, 0, 0, 0, 0, 0, 0, 0, 0, 0, 0, 0, 0, 0, 0, 0, 0, 0, 0, 0, 0, 0, 0, 0, 0, 0, 0, 0, 0, 0, 0, 0, 0, 0, 0, 0, 0, 0, 0, 0, 0, 0, 0, 0, 0, 0, 0, 0, 0, 0, 0, 0, 0, 0, 0, 0, 0, 0, 0, 0, 0, 0, 0, 0, 0, 0, 0, 0, 0, 0, 0, 0, 0, 0, 0, 0, 0, 0, 0, 0, 0, 0, 0, 0, 0, 0, 0, 0, 0, 0, 0, 0, 0, 0, 0, 0, 0, 0, 0, 0, 0, 0, 0, 0, 0, 0, 0, 0, 0, 0, 0, 0, 0, 0, 0, 0, 0, 0, 0, 0, 0, 0, 0, 0, 0, 0, 0, 0, 0, 0, 0, 0, 0, 0, 0, 0, 0, 0, 0, 0, 0, 0, 0, 0, 0, 0, 0, 0, 0, 0, 0, 0, 0, 0, 0, 0, 0, 0, 0, 0, 0, 0, 0, 0, 0, 0, 0, 0, 0, 0, 0, 0, 0, 0, 0, 0, 0, 0, 0, 0, 0, 0, 0, 0, 0, 0, 0, 0, 0, 0, 0, 0, 0, 0, 0, 0, 0, 0, 0, 0, 0, 0, 0, 0, 0, 0, 0, 0, 0, 0, 0, 0, 0, 0, 0, 0, 0, 0, 0, 0, 0, 0, 0, 0, 0, 0, 0, 0, 0, 0, 0, 0, 0, 0, 0, 0, 0, 0, 0, 0, 0, 0, 0, 0, 0, 0, 0, 0, 0, 0, 0, 0, 0, 0, 0, 0, 0, 0, 0, 0, 0, 0, 0, 0, 0, 0, 0, 0, 0, 0, 0, 0, 0, 0, 0, 0, 0, 0, 0, 0, 0, 0, 0, 0, 0, 0, 0, 0, 0, 0, 0, 0, 0, 0, 0, 0, 0, 0, 0, 0, 0, 0, 0, 0, 0, 0, 0, 0, 0, 0, 0, 0, 0, 0, 0, 0, 0, 0, 0, 0, 0, 0, 0, 0, 0, 0, 0, 0, 0, 0, 0, 0, 0, 0, 0, 0, 0, 0, 0, 0, 0, 0, 0, 0, 0, 0, 0, 0, 0, 0, 0, 0, 0, 0, 0, 0, 0, 0, 0, 0, 0, 0, 0, 0, 0, 0, 0, 0, 0, 0, 0, 0, 0, 0, 0, 0, 0, 0, 0, 0, 0, 0, 0, 0, 0, 0, 0, 0, 0, 0, 0, 0, 0, 0, 0, 0, 0, 0, 0, 0, 0, 0, 0, 0, 0, 0, 0, 0, 0, 0, 0, 0, 0, 0, 0, 0, 0, 0, 0, 0, 0, 0, 0, 0, 0, 0, 0, 0, 0, 0, 0, 0, 0, 0, 0, 0, 0, 0, 0, 0, 0, 0, 0, 0, 0, 0, 0, 0, 0, 0, 0, 0, 0, 0, 0, 0, 0, 0, 0, 0, 0, 0, 0, 0, 0, 0, 0, 0, 0, 0, 0, 0, 0, 0, 0, 0, 0, 0, 0, 0, 0, 0, 0, 0, 0, 0, 0, 0, 0, 0, 0, 0, 0, 0, 0, 0, 0, 0, 0, 0, 0, 0, 0, 0, 0, 0, 0, 0, 0, 0, 0, 0, 0, 0, 0, 0, 0, 0, 0, 0, 0, 0, 0, 0, 0, 0, 0, 0, 0, 0, 0, 0, 0, 0, 0, 0, 0, 0, 0, 0, 0, 0, 0, 0, 0, 0, 0, 0, 0, 0, 0, 0, 0, 0, 0, 0, 0, 0, 0, 0, 0, 0, 0, 0, 0, 0, 0, 0, 0, 0, 0, 0, 0, 0, 0, 0, 0, 0, 0, 0, 0, 0, 0, 0, 0, 0, 0, 0, 0, 0, 0, 0, 0, 0, 0, 0, 0, 0, 0, 0, 0, 0, 0, 0, 0, 0, 0, 0, 0, 0, 0, 0, 0, 0, 0, 0, 0, 0, 0, 0, 0, 0, 0, 0, 0, 0, 0, 0, 0, 0, 0, 0, 0, 0, 0, 0, 0, 0, 0, 0, 0, 0, 0, 0, 0, 0, 0, 0, 0, 0, 0, 0, 0, 0, 0, 0, 0, 0, 0, 0, 0, 0, 0, 0, 0, 0, 0, 0, 0, 0, 0, 0, 0, 0, 0, 0, 0, 0, 0, 0, 0, 0, 0, 0, 0, 0, 1, 0, 0, 0, 0, 0, 0, 0, 0, 0, 0, 0, 0, 0, 0, 0, 0, 0, 0, 0, 0, 0, 0, 0, 0, 0, 0, 0, 0, 0, 0, 0, 0, 0, 0, 0, 0, 0, 0, 0, 0, 0, 0, 0, 0, 0, 0, 0, 0, 0, 0, 0, 0, 0, 0, 0, 0, 0, 0, 0, 0, 0, 0, 0, 0, 0, 0, 0, 0, 0, 0, 0, 0, 0, 0, 0, 0, 0, 0, 0, 0, 0, 0, 0, 0, 0, 0, 0, 0, 0, 0, 0, 0, 0, 0, 0, 0, 0, 0, 0, 0, 0, 0, 0, 0, 0, 0, 0, 1, 0, 0, 0, 0, 0, 0, 0, 0, 0, 0, 0, 0, 0, 0, 0, 0, 0, 0, 0, 0, 0, 0, 0, 0, 0, 0, 0, 0, 0, 0, 0, 0, 0, 0, 0, 0, 0, 0, 0, 0, 0, 0, 0, 0, 0, 0, 0, 0, 0, 0, 0, 0, 0, 0, 0, 0, 0, 0, 0, 0, 0, 0, 0, 0, 0, 0, 0, 0, 0, 0, 0, 0, 0, 0, 0, 0, 0, 0, 0, 0, 0, 0, 0, 0, 0, 0, 0, 0, 0, 0, 0, 0, 0, 0, 0, 0, 0, 0, 0, 0, 0, 0, 0, 0, 0, 0, 0, 0, 0, 0, 0, 0, 0, 0, 0, 0, 0, 0, 0, 0, 0, 0, 0, 0, 0, 0, 0, 0, 0, 0, 0, 0, 0, 0, 0, 0, 0, 0, 0, 0, 0, 0, 0, 0, 0, 0, 0, 0, 0, 0, 0, 0, 0, 0, 0, 0, 0, 0, 0, 0, 0, 0, 0, 0, 0, 0, 0, 0, 0, 0, 0, 0, 0, 0, 0, 0, 0, 0, 0, 0, 0, 0, 0, 0, 0, 0, 0, 0, 0, 0, 0, 0, 0, 0, 0, 0, 0, 0, 0, 0, 0, 0, 0, 0, 0, 0, 0, 0, 0, 0, 0, 0, 0, 0, 0, 0, 0, 0, 0, 0, 0, 0, 0, 0, 0, 0, 0, 0, 0, 0, 0, 0, 0, 0, 0, 0, 0, 0, 0, 0, 0, 0, 0, 0, 0, 0, 0, 0, 0, 0, 0, 0, 0, 0, 0, 0, 0, 0, 0, 0, 0, 0, 0, 0, 0, 0, 0, 0, 0, 0, 0, 0, 0, 0, 0, 0, 0, 0, 0, 0, 0, 0, 0, 0, 0, 0, 0, 0, 0, 0, 0, 0, 0, 0, 0, 0, 0, 0, 0, 0, 0, 0, 0, 0, 0, 0, 0, 0, 0, 0, 0, 0, 0, 0, 0, 0, 0, 0, 0, 0, 0, 0, 0, 0, 0, 0, 0, 0, 0, 0, 0, 0, 0, 0, 0, 0, 0, 0, 0, 0, 0, 0, 0, 0, 0, 0, 0, 0, 0, 0, 0, 0, 0, 0, 0, 0, 0, 0, 0, 0, 0, 0, 0, 0, 0, 0, 0, 0, 0, 0, 0, 0, 0, 0, 0, 0, 0, 0, 0, 0, 0, 0, 0, 0, 0, 0, 0, 0, 0, 0, 0, 0, 0, 0, 0, 0, 0, 0, 0, 0, 0, 0, 0, 0, 0, 0, 0, 0, 0, 0, 0, 0, 0, 0, 0, 0, 0, 0, 0, 0, 0, 0, 0, 0, 0, 0, 0, 0, 0, 0, 0, 0, 0, 0, 0, 0, 0, 0, 0, 0, 0, 0, 0, 0, 0, 0, 0, 0, 0, 0, 0, 0, 0, 0, 0, 0, 0, 0, 0, 0, 0, 0, 0, 2, 0, 1, 0]\n"
     ]
    }
   ],
   "source": [
    "test_bow = bow_encoding(test_words, vocabulary)\n",
    "print(test_bow)"
   ]
  },
  {
   "cell_type": "code",
   "execution_count": 42,
   "metadata": {},
   "outputs": [
    {
     "data": {
      "text/plain": [
       "5000"
      ]
     },
     "execution_count": 42,
     "metadata": {},
     "output_type": "execute_result"
    }
   ],
   "source": [
    "len(test_bow)"
   ]
  },
  {
   "cell_type": "markdown",
   "metadata": {},
   "source": [
    "So now we know how to construct a bag of words encoding of a user provided review, how to we send it to our endpoint? First, we need to start the endpoint back up."
   ]
  },
  {
   "cell_type": "code",
   "execution_count": 43,
   "metadata": {},
   "outputs": [
    {
     "name": "stderr",
     "output_type": "stream",
     "text": [
      "Parameter image will be renamed to image_uri in SageMaker Python SDK v2.\n",
      "Using already existing model: xgboost-2021-01-19-03-25-52-285\n"
     ]
    },
    {
     "name": "stdout",
     "output_type": "stream",
     "text": [
      "---------------!"
     ]
    }
   ],
   "source": [
    "xgb_predictor = xgb.deploy(initial_instance_count = 1, instance_type = 'ml.m4.xlarge')\n",
    "#xgb_predictor = xgb.deploy(initial_instance_count = 1, instance_type = 'ml.t2.medium')"
   ]
  },
  {
   "cell_type": "markdown",
   "metadata": {},
   "source": [
    "At this point we could just do the same thing that we did earlier when we tested our deployed model and send `test_bow` to our endpoint using the `xgb_predictor` object. However, when we eventually construct our Lambda function we won't have access to this object, so how do we call a SageMaker endpoint?\n",
    "\n",
    "It turns out that Python functions that are used in Lambda have access to another Amazon library called `boto3`. This library provides an API for working with Amazon services, including SageMaker. To start with, we need to get a handle to the SageMaker runtime."
   ]
  },
  {
   "cell_type": "code",
   "execution_count": 44,
   "metadata": {},
   "outputs": [],
   "source": [
    "import boto3\n",
    "\n",
    "runtime = boto3.Session().client('sagemaker-runtime')"
   ]
  },
  {
   "cell_type": "markdown",
   "metadata": {},
   "source": [
    "And now that we have access to the SageMaker runtime, we can ask it to make use of (invoke) an endpoint that has already been created. However, we need to provide SageMaker with the name of the deployed endpoint. To find this out we can print it out using the `xgb_predictor` object."
   ]
  },
  {
   "cell_type": "code",
   "execution_count": 45,
   "metadata": {},
   "outputs": [
    {
     "data": {
      "text/plain": [
       "'xgboost-2021-01-19-03-25-52-285'"
      ]
     },
     "execution_count": 45,
     "metadata": {},
     "output_type": "execute_result"
    }
   ],
   "source": [
    "xgb_predictor.endpoint"
   ]
  },
  {
   "cell_type": "markdown",
   "metadata": {},
   "source": [
    "Using the SageMaker runtime and the name of our endpoint, we can invoke the endpoint and send it the `test_bow` data."
   ]
  },
  {
   "cell_type": "code",
   "execution_count": 46,
   "metadata": {},
   "outputs": [
    {
     "ename": "ParamValidationError",
     "evalue": "Parameter validation failed:\nInvalid type for parameter Body, value: [0, 0, 0, 0, 0, 0, 0, 0, 0, 0, 0, 0, 0, 0, 0, 0, 0, 0, 0, 0, 0, 0, 0, 0, 0, 0, 0, 0, 0, 0, 0, 0, 0, 0, 0, 0, 0, 0, 0, 0, 0, 0, 0, 0, 0, 0, 0, 0, 0, 0, 0, 0, 0, 0, 0, 0, 0, 0, 0, 0, 0, 0, 0, 0, 0, 0, 0, 0, 0, 0, 0, 0, 0, 0, 0, 0, 0, 0, 0, 0, 0, 0, 0, 0, 0, 0, 0, 0, 0, 0, 0, 0, 0, 0, 0, 0, 0, 0, 0, 0, 0, 0, 0, 0, 0, 0, 0, 0, 0, 0, 0, 0, 0, 0, 0, 0, 0, 0, 0, 0, 0, 0, 0, 0, 0, 0, 0, 0, 0, 0, 0, 0, 0, 0, 0, 0, 0, 0, 0, 0, 0, 0, 0, 0, 0, 0, 0, 0, 0, 0, 0, 0, 0, 0, 0, 0, 0, 0, 0, 0, 0, 0, 0, 0, 0, 0, 0, 0, 0, 0, 0, 0, 0, 0, 0, 0, 0, 0, 0, 0, 0, 0, 0, 0, 0, 0, 0, 0, 0, 0, 0, 0, 0, 0, 0, 0, 0, 0, 0, 0, 0, 0, 0, 0, 0, 0, 0, 0, 0, 0, 0, 0, 0, 0, 0, 0, 0, 0, 0, 0, 0, 0, 0, 0, 0, 0, 1, 0, 0, 0, 0, 0, 0, 0, 0, 0, 0, 0, 0, 0, 0, 0, 0, 0, 0, 0, 0, 0, 0, 0, 0, 0, 0, 0, 0, 0, 1, 0, 0, 0, 0, 0, 0, 0, 0, 0, 0, 0, 0, 0, 0, 0, 0, 0, 0, 0, 0, 0, 0, 0, 0, 0, 0, 0, 0, 0, 0, 0, 0, 0, 0, 0, 0, 0, 0, 0, 0, 0, 0, 0, 0, 0, 0, 0, 0, 0, 0, 0, 0, 0, 0, 0, 0, 0, 0, 0, 0, 0, 0, 0, 0, 0, 0, 0, 0, 0, 0, 0, 0, 0, 0, 0, 0, 0, 0, 0, 0, 0, 0, 0, 0, 0, 0, 0, 0, 0, 0, 0, 0, 0, 0, 0, 0, 0, 0, 0, 0, 0, 0, 0, 0, 0, 0, 0, 0, 0, 0, 0, 0, 0, 0, 0, 0, 0, 0, 0, 0, 0, 0, 0, 0, 0, 0, 0, 0, 0, 0, 0, 0, 0, 0, 0, 0, 0, 0, 0, 0, 0, 0, 0, 0, 0, 0, 0, 0, 0, 0, 0, 0, 0, 0, 0, 0, 0, 0, 0, 0, 0, 0, 0, 0, 0, 0, 0, 0, 0, 0, 0, 0, 0, 0, 0, 0, 0, 0, 0, 0, 0, 0, 0, 0, 0, 0, 0, 0, 0, 0, 0, 0, 0, 0, 0, 0, 0, 0, 0, 0, 0, 0, 0, 0, 0, 0, 0, 0, 0, 0, 0, 0, 0, 0, 0, 0, 0, 0, 0, 0, 0, 0, 0, 0, 0, 0, 0, 0, 0, 0, 0, 0, 0, 0, 0, 0, 0, 0, 0, 0, 0, 0, 0, 0, 0, 0, 0, 0, 0, 0, 0, 0, 0, 0, 0, 0, 0, 0, 0, 0, 0, 0, 0, 0, 0, 0, 0, 0, 0, 0, 0, 0, 0, 0, 0, 0, 0, 0, 0, 0, 0, 0, 0, 0, 0, 0, 0, 0, 0, 0, 0, 0, 0, 0, 0, 0, 0, 0, 0, 0, 0, 0, 0, 0, 0, 0, 0, 0, 0, 0, 0, 0, 0, 0, 0, 0, 0, 0, 0, 0, 0, 0, 0, 0, 0, 0, 0, 0, 0, 0, 0, 0, 0, 0, 0, 0, 0, 0, 0, 0, 0, 0, 0, 0, 0, 0, 0, 0, 0, 0, 0, 0, 0, 0, 0, 0, 0, 0, 0, 0, 0, 0, 0, 0, 0, 0, 0, 0, 0, 0, 0, 0, 0, 0, 0, 0, 0, 0, 0, 1, 0, 0, 0, 0, 0, 0, 0, 0, 0, 0, 0, 0, 0, 0, 0, 0, 0, 0, 0, 0, 0, 0, 0, 0, 0, 0, 0, 0, 0, 0, 0, 0, 0, 0, 0, 0, 0, 0, 0, 0, 0, 0, 0, 0, 0, 0, 0, 0, 0, 0, 0, 0, 0, 0, 0, 0, 0, 0, 0, 0, 0, 0, 0, 0, 0, 0, 0, 0, 0, 0, 0, 0, 0, 0, 0, 0, 0, 0, 0, 0, 0, 0, 0, 0, 0, 0, 0, 0, 0, 0, 0, 0, 0, 0, 0, 0, 0, 0, 0, 0, 0, 0, 0, 0, 0, 0, 0, 0, 0, 0, 0, 0, 0, 0, 0, 0, 0, 0, 0, 0, 0, 0, 0, 0, 0, 0, 0, 0, 0, 0, 0, 0, 0, 0, 0, 0, 0, 0, 0, 0, 0, 0, 0, 0, 0, 0, 0, 0, 0, 0, 0, 0, 0, 0, 0, 0, 0, 0, 0, 0, 0, 0, 0, 0, 0, 0, 0, 0, 0, 0, 0, 0, 0, 0, 0, 0, 0, 0, 0, 0, 0, 0, 0, 0, 0, 0, 0, 0, 0, 0, 0, 0, 0, 0, 0, 0, 0, 0, 0, 0, 0, 0, 0, 0, 0, 0, 0, 0, 0, 0, 0, 0, 0, 0, 0, 0, 0, 0, 0, 0, 0, 0, 0, 0, 0, 0, 0, 0, 0, 0, 0, 0, 0, 0, 0, 0, 0, 0, 0, 0, 0, 0, 0, 0, 0, 0, 0, 0, 0, 0, 0, 0, 0, 1, 0, 0, 0, 0, 0, 0, 0, 0, 0, 0, 0, 0, 0, 0, 0, 0, 0, 0, 0, 0, 0, 0, 0, 0, 0, 0, 0, 0, 0, 0, 0, 0, 0, 0, 0, 0, 0, 0, 0, 0, 0, 0, 0, 0, 0, 0, 0, 0, 0, 0, 0, 0, 0, 0, 0, 0, 0, 0, 0, 0, 0, 0, 0, 0, 0, 0, 0, 0, 0, 0, 0, 0, 0, 0, 0, 0, 0, 0, 0, 0, 0, 0, 0, 0, 0, 0, 1, 0, 0, 0, 0, 0, 0, 0, 0, 0, 0, 0, 0, 0, 0, 0, 0, 0, 0, 0, 0, 0, 0, 0, 0, 0, 0, 0, 0, 0, 0, 0, 0, 0, 0, 0, 0, 0, 0, 0, 0, 0, 0, 0, 0, 0, 0, 0, 0, 0, 0, 0, 0, 0, 0, 0, 0, 0, 0, 0, 0, 0, 0, 0, 0, 0, 0, 0, 0, 0, 0, 0, 0, 0, 0, 0, 0, 0, 0, 0, 0, 0, 0, 0, 0, 0, 0, 0, 0, 0, 0, 0, 0, 0, 0, 0, 0, 0, 0, 0, 0, 0, 0, 0, 0, 0, 0, 0, 0, 0, 0, 0, 0, 0, 0, 0, 0, 0, 0, 0, 0, 0, 0, 0, 0, 0, 0, 0, 0, 0, 0, 0, 0, 0, 0, 0, 0, 0, 0, 0, 0, 0, 0, 0, 0, 0, 0, 0, 0, 0, 0, 0, 0, 0, 0, 0, 0, 0, 0, 0, 0, 0, 0, 0, 0, 0, 0, 0, 0, 0, 0, 0, 0, 0, 0, 0, 0, 0, 0, 0, 0, 0, 0, 0, 0, 0, 0, 0, 0, 0, 0, 0, 0, 0, 0, 0, 0, 0, 0, 0, 0, 0, 0, 0, 0, 0, 0, 0, 0, 0, 0, 0, 0, 0, 0, 0, 0, 0, 0, 0, 0, 0, 0, 0, 0, 0, 0, 0, 0, 0, 0, 0, 0, 0, 0, 0, 0, 0, 0, 0, 0, 0, 0, 0, 0, 0, 0, 0, 0, 0, 0, 0, 0, 1, 0, 0, 0, 0, 0, 0, 0, 0, 0, 0, 0, 0, 0, 0, 0, 0, 0, 0, 0, 0, 0, 0, 0, 0, 0, 0, 0, 0, 0, 0, 0, 0, 0, 0, 0, 0, 0, 0, 0, 0, 0, 0, 0, 0, 0, 0, 0, 0, 0, 0, 0, 0, 0, 0, 0, 1, 0, 0, 0, 0, 0, 0, 0, 0, 0, 0, 0, 0, 0, 0, 0, 0, 0, 0, 0, 0, 0, 0, 0, 0, 0, 0, 0, 0, 0, 0, 0, 0, 0, 0, 0, 0, 0, 0, 0, 0, 0, 0, 0, 0, 0, 0, 0, 0, 0, 0, 0, 0, 0, 0, 0, 0, 0, 0, 0, 0, 0, 0, 0, 0, 0, 0, 0, 0, 0, 0, 0, 0, 0, 0, 0, 0, 0, 0, 0, 0, 0, 0, 0, 0, 0, 0, 0, 0, 0, 0, 0, 0, 0, 0, 0, 0, 0, 0, 0, 0, 0, 0, 0, 0, 0, 0, 0, 0, 0, 0, 0, 0, 0, 0, 0, 0, 0, 0, 0, 0, 0, 0, 0, 0, 0, 0, 0, 0, 0, 0, 0, 0, 0, 0, 0, 0, 0, 0, 0, 0, 0, 0, 0, 0, 0, 0, 0, 0, 0, 0, 0, 0, 0, 0, 0, 0, 0, 0, 0, 0, 0, 0, 0, 0, 0, 0, 0, 0, 0, 0, 0, 0, 0, 0, 0, 0, 0, 0, 0, 0, 0, 0, 0, 0, 0, 0, 0, 0, 0, 0, 0, 0, 0, 0, 0, 0, 0, 0, 0, 0, 0, 0, 0, 0, 0, 0, 0, 0, 0, 0, 0, 0, 0, 0, 0, 0, 0, 0, 0, 0, 0, 0, 0, 0, 0, 0, 0, 0, 0, 0, 0, 0, 0, 0, 0, 0, 0, 0, 0, 0, 0, 0, 0, 0, 0, 0, 0, 0, 0, 0, 0, 0, 0, 0, 0, 0, 0, 0, 0, 0, 0, 0, 0, 0, 0, 0, 0, 0, 0, 0, 0, 0, 0, 0, 0, 0, 0, 0, 0, 0, 0, 0, 0, 0, 0, 0, 0, 0, 0, 0, 0, 0, 0, 0, 0, 0, 0, 0, 0, 0, 0, 0, 0, 0, 0, 0, 0, 0, 0, 0, 0, 0, 0, 0, 0, 0, 0, 0, 0, 0, 0, 0, 0, 0, 0, 0, 0, 0, 0, 0, 0, 0, 0, 0, 0, 0, 0, 0, 0, 0, 0, 0, 0, 0, 0, 0, 0, 0, 0, 0, 0, 0, 0, 0, 0, 0, 0, 0, 0, 0, 0, 0, 0, 0, 0, 0, 0, 0, 0, 0, 0, 0, 0, 0, 0, 0, 0, 0, 0, 0, 0, 0, 0, 0, 0, 0, 0, 0, 0, 0, 0, 0, 0, 0, 0, 0, 0, 0, 0, 0, 0, 0, 0, 0, 0, 0, 0, 0, 0, 0, 0, 0, 0, 0, 0, 0, 0, 0, 0, 0, 0, 0, 0, 0, 0, 0, 0, 0, 0, 0, 0, 0, 0, 0, 0, 0, 0, 0, 0, 0, 0, 0, 0, 0, 0, 0, 0, 0, 0, 0, 0, 0, 0, 0, 0, 0, 0, 0, 0, 0, 0, 0, 0, 0, 0, 0, 0, 0, 0, 0, 0, 0, 0, 0, 0, 0, 0, 0, 0, 0, 0, 0, 0, 0, 0, 0, 0, 0, 0, 0, 0, 0, 0, 0, 0, 0, 0, 0, 0, 0, 0, 0, 0, 0, 0, 0, 0, 0, 0, 0, 0, 0, 0, 0, 0, 0, 0, 0, 0, 0, 0, 0, 0, 0, 0, 0, 0, 0, 0, 0, 0, 0, 0, 0, 0, 0, 0, 0, 0, 0, 0, 0, 0, 0, 0, 0, 0, 0, 0, 0, 0, 0, 0, 0, 0, 0, 0, 0, 0, 0, 0, 0, 0, 0, 0, 0, 0, 0, 0, 0, 0, 0, 0, 0, 0, 0, 0, 0, 0, 0, 0, 0, 0, 0, 0, 0, 0, 0, 0, 0, 0, 0, 0, 0, 0, 0, 0, 0, 0, 0, 0, 0, 0, 0, 0, 0, 0, 0, 0, 0, 0, 0, 0, 0, 0, 0, 0, 0, 0, 0, 0, 0, 0, 0, 0, 0, 0, 0, 0, 0, 0, 0, 0, 0, 0, 0, 0, 0, 0, 0, 0, 0, 0, 0, 0, 0, 0, 0, 0, 0, 0, 0, 0, 0, 0, 0, 0, 0, 0, 0, 0, 0, 0, 0, 0, 0, 0, 0, 0, 0, 0, 0, 0, 0, 0, 0, 0, 0, 0, 0, 0, 1, 0, 0, 0, 0, 0, 0, 0, 0, 0, 0, 0, 0, 0, 0, 0, 0, 0, 0, 0, 0, 0, 0, 0, 0, 0, 0, 0, 0, 0, 0, 0, 0, 0, 0, 0, 0, 0, 0, 0, 0, 0, 0, 0, 0, 0, 0, 0, 0, 0, 0, 0, 0, 0, 0, 0, 0, 0, 0, 0, 0, 0, 0, 0, 0, 0, 0, 0, 0, 0, 0, 0, 0, 0, 0, 1, 0, 0, 0, 0, 0, 0, 0, 0, 0, 0, 0, 0, 0, 0, 0, 0, 0, 0, 0, 0, 1, 0, 0, 1, 0, 0, 0, 0, 0, 0, 0, 0, 0, 0, 0, 0, 0, 0, 0, 0, 0, 0, 0, 0, 0, 0, 0, 0, 0, 0, 0, 0, 0, 0, 0, 0, 0, 0, 0, 0, 0, 0, 0, 0, 0, 0, 0, 0, 0, 0, 0, 0, 0, 0, 0, 0, 0, 0, 0, 0, 0, 0, 0, 0, 0, 0, 0, 0, 0, 0, 0, 0, 0, 0, 0, 0, 0, 0, 0, 0, 0, 0, 0, 0, 0, 0, 0, 0, 0, 0, 0, 0, 0, 0, 0, 0, 0, 0, 0, 0, 0, 0, 0, 0, 0, 0, 0, 0, 0, 0, 0, 0, 0, 0, 0, 0, 0, 0, 0, 0, 0, 0, 0, 0, 0, 0, 0, 0, 0, 0, 0, 0, 0, 0, 0, 0, 0, 0, 0, 0, 0, 0, 0, 0, 0, 0, 0, 0, 0, 0, 0, 0, 0, 0, 0, 0, 0, 0, 0, 0, 0, 0, 0, 0, 0, 0, 0, 0, 0, 0, 0, 0, 0, 0, 0, 0, 0, 0, 0, 0, 0, 0, 0, 0, 0, 0, 0, 0, 0, 0, 0, 0, 0, 0, 0, 0, 0, 0, 0, 0, 0, 0, 0, 0, 0, 0, 0, 0, 0, 0, 0, 0, 0, 0, 0, 0, 0, 0, 0, 0, 0, 0, 0, 0, 0, 0, 0, 0, 0, 0, 0, 0, 0, 0, 0, 0, 0, 0, 0, 0, 0, 0, 0, 0, 0, 0, 0, 0, 0, 0, 0, 0, 0, 0, 0, 0, 0, 0, 0, 0, 0, 0, 0, 0, 0, 0, 0, 0, 0, 0, 0, 0, 0, 0, 0, 0, 0, 0, 0, 0, 0, 0, 0, 0, 0, 0, 0, 0, 0, 0, 0, 0, 0, 0, 0, 0, 0, 0, 0, 0, 0, 0, 0, 0, 0, 0, 0, 0, 0, 0, 0, 0, 0, 0, 0, 0, 0, 0, 0, 0, 0, 0, 0, 0, 0, 0, 0, 0, 0, 0, 0, 0, 0, 0, 0, 0, 0, 0, 0, 0, 0, 0, 0, 0, 0, 0, 0, 0, 0, 0, 0, 0, 0, 0, 0, 0, 0, 0, 0, 0, 0, 0, 0, 0, 0, 0, 0, 0, 0, 0, 0, 0, 0, 0, 0, 0, 0, 0, 0, 0, 0, 0, 0, 0, 0, 0, 0, 0, 0, 0, 0, 0, 0, 0, 0, 0, 0, 0, 0, 0, 0, 0, 0, 0, 0, 0, 0, 0, 0, 0, 0, 0, 0, 0, 0, 0, 0, 0, 0, 0, 0, 0, 0, 0, 0, 0, 0, 0, 0, 0, 0, 0, 0, 0, 0, 0, 0, 0, 0, 0, 0, 0, 0, 0, 0, 0, 0, 0, 0, 0, 0, 0, 0, 0, 0, 0, 0, 0, 0, 0, 0, 0, 0, 0, 0, 0, 0, 0, 0, 0, 1, 0, 0, 0, 0, 0, 0, 0, 0, 0, 0, 0, 0, 0, 0, 0, 0, 0, 0, 0, 0, 0, 0, 0, 0, 0, 0, 0, 0, 0, 0, 0, 0, 0, 0, 0, 0, 0, 0, 0, 0, 0, 0, 0, 0, 0, 0, 0, 0, 0, 0, 0, 0, 0, 0, 0, 0, 0, 0, 0, 0, 0, 0, 0, 0, 0, 0, 0, 0, 0, 0, 0, 0, 0, 0, 0, 0, 0, 0, 0, 0, 0, 0, 0, 0, 0, 0, 0, 0, 0, 0, 0, 0, 0, 0, 0, 0, 0, 0, 0, 0, 0, 0, 0, 0, 0, 0, 0, 0, 0, 0, 0, 0, 0, 0, 0, 0, 0, 0, 0, 0, 0, 0, 0, 0, 0, 0, 0, 0, 0, 0, 0, 0, 0, 0, 0, 0, 0, 0, 0, 0, 0, 0, 0, 0, 0, 0, 0, 0, 0, 0, 0, 0, 0, 0, 0, 0, 0, 0, 0, 0, 0, 0, 0, 0, 0, 0, 0, 0, 0, 0, 0, 0, 0, 0, 0, 0, 0, 0, 0, 0, 0, 0, 0, 0, 0, 0, 0, 0, 0, 0, 0, 0, 0, 0, 0, 0, 0, 0, 0, 0, 0, 0, 0, 0, 0, 0, 0, 0, 0, 0, 0, 0, 0, 0, 0, 0, 0, 0, 0, 0, 0, 0, 0, 0, 0, 0, 0, 0, 0, 0, 0, 0, 0, 0, 0, 0, 0, 0, 0, 0, 0, 0, 0, 0, 0, 0, 0, 0, 0, 0, 0, 0, 0, 0, 0, 0, 0, 0, 0, 0, 0, 0, 0, 0, 0, 0, 0, 0, 0, 0, 0, 0, 0, 0, 0, 0, 0, 0, 0, 0, 0, 0, 0, 0, 0, 0, 0, 0, 0, 0, 0, 0, 0, 0, 0, 0, 0, 0, 0, 0, 0, 0, 0, 0, 0, 0, 0, 0, 0, 0, 0, 0, 0, 0, 0, 0, 0, 0, 0, 0, 0, 0, 0, 0, 0, 0, 0, 0, 0, 0, 0, 0, 0, 0, 0, 0, 0, 0, 0, 0, 0, 0, 0, 0, 0, 0, 0, 0, 0, 0, 0, 0, 0, 0, 0, 0, 0, 0, 0, 0, 0, 0, 0, 0, 0, 0, 0, 0, 0, 0, 0, 0, 0, 0, 0, 0, 0, 0, 0, 0, 0, 0, 0, 0, 0, 0, 0, 0, 0, 0, 0, 0, 0, 0, 0, 0, 0, 0, 0, 0, 0, 0, 0, 0, 0, 0, 0, 0, 0, 0, 0, 0, 0, 0, 0, 0, 0, 0, 0, 0, 0, 0, 0, 0, 0, 0, 0, 0, 0, 0, 0, 0, 0, 0, 0, 0, 0, 0, 0, 0, 0, 0, 0, 0, 0, 0, 0, 0, 0, 0, 0, 0, 0, 0, 0, 0, 0, 0, 0, 0, 0, 0, 0, 0, 0, 0, 0, 0, 0, 0, 0, 0, 0, 0, 0, 0, 0, 0, 0, 0, 0, 0, 0, 0, 0, 0, 0, 0, 0, 0, 0, 0, 0, 0, 0, 0, 0, 0, 0, 0, 0, 0, 0, 0, 0, 0, 0, 0, 0, 0, 0, 0, 1, 0, 0, 0, 0, 0, 0, 0, 0, 0, 0, 0, 0, 0, 0, 0, 0, 0, 0, 0, 0, 0, 0, 0, 0, 0, 0, 0, 0, 0, 0, 0, 0, 0, 0, 0, 2, 0, 0, 0, 0, 0, 0, 0, 0, 0, 0, 0, 0, 0, 0, 0, 0, 0, 0, 0, 0, 0, 0, 0, 0, 0, 0, 0, 0, 0, 0, 0, 0, 0, 0, 0, 0, 0, 0, 0, 0, 1, 0, 0, 0, 0, 0, 0, 0, 0, 0, 0, 0, 0, 0, 0, 0, 0, 0, 0, 0, 0, 0, 0, 0, 0, 0, 0, 0, 0, 0, 0, 0, 0, 0, 0, 0, 0, 0, 0, 0, 0, 0, 0, 0, 0, 0, 0, 0, 0, 0, 0, 0, 0, 0, 0, 0, 0, 0, 0, 0, 0, 0, 0, 0, 0, 0, 0, 0, 0, 0, 0, 0, 0, 0, 0, 0, 0, 0, 0, 0, 0, 0, 0, 0, 0, 0, 0, 0, 0, 0, 0, 0, 0, 0, 0, 0, 0, 0, 0, 0, 0, 0, 0, 0, 0, 0, 0, 0, 0, 0, 0, 0, 0, 0, 0, 0, 0, 0, 0, 0, 0, 0, 0, 0, 0, 0, 0, 0, 0, 0, 0, 0, 0, 0, 0, 0, 0, 0, 0, 0, 0, 0, 0, 0, 0, 0, 0, 0, 0, 0, 0, 0, 0, 0, 0, 0, 0, 0, 0, 0, 0, 0, 0, 0, 0, 0, 0, 0, 0, 0, 0, 0, 0, 0, 0, 0, 0, 0, 0, 0, 0, 0, 0, 0, 0, 0, 0, 0, 0, 0, 0, 0, 0, 0, 0, 0, 0, 0, 0, 0, 0, 0, 0, 0, 0, 0, 0, 0, 0, 0, 0, 0, 0, 0, 0, 0, 0, 0, 0, 0, 0, 0, 0, 0, 0, 0, 0, 0, 0, 0, 0, 0, 0, 0, 0, 0, 0, 0, 0, 0, 0, 0, 0, 0, 0, 0, 0, 0, 0, 0, 0, 0, 0, 0, 0, 0, 0, 0, 0, 0, 0, 0, 0, 0, 0, 0, 0, 0, 0, 0, 0, 0, 0, 0, 0, 0, 0, 0, 0, 0, 0, 0, 0, 0, 0, 0, 0, 0, 0, 0, 0, 0, 0, 0, 0, 0, 0, 0, 0, 0, 0, 0, 0, 0, 0, 0, 0, 0, 0, 0, 0, 0, 0, 0, 0, 0, 0, 0, 0, 0, 0, 0, 0, 0, 0, 0, 0, 0, 0, 0, 0, 0, 0, 0, 0, 0, 0, 0, 0, 0, 0, 0, 0, 0, 0, 0, 0, 0, 0, 0, 0, 0, 0, 0, 0, 0, 0, 0, 0, 0, 0, 0, 0, 0, 0, 0, 0, 0, 0, 0, 0, 0, 0, 0, 0, 0, 0, 0, 0, 0, 0, 0, 0, 0, 0, 0, 0, 0, 0, 0, 0, 0, 0, 0, 0, 0, 0, 0, 0, 0, 0, 0, 0, 0, 0, 0, 0, 0, 0, 0, 0, 0, 0, 0, 0, 0, 0, 0, 0, 0, 0, 0, 0, 0, 0, 0, 0, 0, 0, 0, 0, 0, 0, 0, 0, 0, 0, 0, 0, 0, 0, 0, 0, 0, 0, 0, 0, 0, 0, 0, 0, 0, 0, 0, 0, 0, 0, 0, 0, 0, 0, 0, 0, 0, 0, 0, 0, 0, 0, 0, 0, 0, 0, 0, 0, 0, 0, 0, 0, 0, 0, 0, 0, 0, 0, 0, 0, 0, 0, 0, 0, 0, 0, 0, 0, 0, 0, 0, 1, 0, 0, 0, 0, 0, 0, 0, 0, 0, 0, 0, 0, 0, 0, 0, 0, 0, 0, 0, 0, 0, 0, 0, 0, 0, 0, 0, 0, 0, 0, 0, 0, 0, 0, 0, 0, 0, 0, 0, 0, 0, 0, 0, 0, 0, 0, 0, 0, 0, 0, 0, 0, 0, 0, 0, 0, 0, 0, 0, 0, 0, 0, 0, 0, 0, 0, 0, 0, 0, 0, 0, 0, 0, 0, 0, 0, 0, 0, 0, 0, 0, 0, 0, 0, 0, 0, 0, 0, 0, 0, 0, 0, 0, 0, 0, 0, 0, 0, 0, 0, 0, 0, 0, 0, 0, 0, 0, 0, 0, 0, 2, 0, 0, 0, 0, 0, 0, 0, 0, 0, 0, 0, 0, 0, 0, 0, 0, 0, 0, 0, 0, 0, 0, 0, 0, 0, 0, 0, 0, 0, 0, 0, 0, 0, 0, 0, 0, 0, 0, 0, 0, 0, 0, 0, 0, 0, 0, 0, 0, 0, 0, 0, 0, 0, 0, 0, 0, 0, 0, 0, 0, 0, 0, 0, 0, 0, 0, 0, 0, 0, 0, 0, 0, 0, 0, 0, 0, 0, 0, 0, 0, 0, 0, 0, 0, 0, 0, 0, 0, 0, 0, 0, 0, 0, 0, 0, 0, 0, 0, 0, 0, 0, 0, 0, 0, 0, 0, 0, 0, 0, 0, 0, 0, 0, 0, 0, 0, 0, 0, 0, 0, 0, 0, 0, 0, 0, 0, 0, 0, 0, 0, 0, 0, 0, 0, 0, 0, 0, 0, 0, 0, 0, 0, 0, 0, 0, 0, 0, 0, 0, 0, 0, 0, 0, 0, 0, 0, 0, 0, 0, 0, 0, 0, 0, 0, 0, 0, 0, 0, 0, 0, 0, 0, 0, 0, 0, 0, 0, 0, 0, 0, 0, 0, 0, 0, 0, 0, 0, 0, 0, 0, 0, 0, 0, 0, 0, 0, 0, 0, 0, 0, 0, 0, 0, 0, 0, 0, 0, 0, 0, 0, 0, 0, 0, 0, 0, 0, 0, 0, 0, 0, 0, 0, 0, 0, 0, 0, 0, 0, 0, 0, 0, 0, 0, 0, 0, 0, 0, 0, 0, 0, 0, 0, 0, 0, 0, 0, 0, 0, 0, 0, 0, 0, 0, 0, 0, 0, 0, 0, 0, 0, 0, 0, 0, 0, 0, 0, 0, 0, 0, 0, 0, 0, 0, 0, 0, 0, 0, 0, 0, 0, 0, 0, 0, 0, 0, 0, 0, 0, 0, 0, 0, 0, 0, 0, 0, 0, 0, 0, 0, 0, 0, 0, 0, 0, 0, 0, 0, 0, 0, 0, 0, 0, 0, 0, 0, 0, 0, 0, 0, 0, 0, 0, 0, 0, 0, 0, 0, 0, 0, 0, 0, 0, 0, 0, 0, 0, 0, 0, 0, 0, 0, 0, 0, 0, 0, 0, 0, 0, 0, 0, 0, 0, 0, 0, 0, 0, 0, 0, 0, 0, 0, 0, 0, 0, 0, 0, 0, 0, 0, 0, 0, 0, 0, 0, 0, 0, 0, 0, 0, 0, 0, 0, 0, 0, 0, 0, 0, 0, 0, 0, 0, 0, 0, 0, 0, 0, 0, 0, 0, 0, 0, 0, 0, 0, 0, 0, 0, 0, 0, 0, 0, 0, 0, 0, 0, 0, 0, 0, 0, 0, 0, 0, 0, 0, 0, 0, 0, 0, 0, 0, 0, 0, 0, 0, 0, 0, 0, 0, 0, 0, 0, 0, 0, 0, 0, 0, 0, 0, 0, 0, 0, 0, 0, 0, 0, 0, 0, 0, 0, 0, 0, 0, 0, 0, 0, 0, 0, 0, 0, 0, 0, 0, 0, 0, 0, 0, 0, 0, 0, 0, 0, 0, 0, 0, 0, 0, 0, 0, 0, 0, 0, 0, 0, 0, 0, 0, 0, 0, 0, 0, 0, 0, 0, 0, 0, 0, 0, 0, 0, 0, 0, 0, 0, 0, 0, 0, 0, 0, 0, 0, 0, 0, 0, 0, 0, 0, 0, 0, 0, 0, 0, 0, 0, 0, 0, 0, 0, 0, 0, 0, 0, 0, 0, 0, 0, 0, 0, 0, 0, 0, 0, 0, 0, 0, 0, 0, 0, 0, 0, 0, 0, 0, 0, 0, 0, 0, 0, 0, 0, 0, 0, 0, 0, 0, 0, 0, 0, 0, 0, 0, 0, 0, 0, 0, 0, 0, 0, 0, 0, 0, 0, 0, 0, 0, 0, 0, 0, 0, 0, 0, 0, 0, 0, 0, 0, 0, 0, 0, 0, 0, 0, 0, 0, 0, 0, 0, 0, 0, 0, 0, 0, 0, 0, 0, 0, 0, 0, 0, 0, 0, 0, 0, 0, 0, 0, 0, 0, 0, 0, 0, 0, 0, 0, 0, 0, 0, 0, 0, 0, 0, 0, 0, 0, 0, 0, 0, 0, 0, 0, 0, 0, 0, 0, 0, 0, 0, 0, 0, 0, 0, 0, 0, 0, 0, 0, 0, 0, 0, 0, 0, 0, 0, 0, 0, 0, 0, 0, 0, 0, 0, 1, 0, 0, 0, 0, 0, 0, 0, 0, 0, 0, 0, 0, 0, 0, 0, 0, 0, 0, 0, 0, 0, 0, 0, 0, 0, 0, 0, 0, 0, 0, 0, 0, 0, 0, 0, 0, 0, 0, 0, 0, 0, 0, 0, 0, 0, 0, 0, 0, 0, 0, 0, 0, 0, 0, 0, 0, 0, 0, 0, 0, 0, 0, 0, 0, 0, 0, 0, 0, 0, 0, 0, 0, 0, 0, 0, 0, 0, 0, 0, 0, 0, 0, 0, 0, 0, 0, 0, 0, 0, 0, 0, 0, 0, 0, 0, 0, 0, 0, 0, 0, 0, 0, 0, 0, 0, 0, 0, 1, 0, 0, 0, 0, 0, 0, 0, 0, 0, 0, 0, 0, 0, 0, 0, 0, 0, 0, 0, 0, 0, 0, 0, 0, 0, 0, 0, 0, 0, 0, 0, 0, 0, 0, 0, 0, 0, 0, 0, 0, 0, 0, 0, 0, 0, 0, 0, 0, 0, 0, 0, 0, 0, 0, 0, 0, 0, 0, 0, 0, 0, 0, 0, 0, 0, 0, 0, 0, 0, 0, 0, 0, 0, 0, 0, 0, 0, 0, 0, 0, 0, 0, 0, 0, 0, 0, 0, 0, 0, 0, 0, 0, 0, 0, 0, 0, 0, 0, 0, 0, 0, 0, 0, 0, 0, 0, 0, 0, 0, 0, 0, 0, 0, 0, 0, 0, 0, 0, 0, 0, 0, 0, 0, 0, 0, 0, 0, 0, 0, 0, 0, 0, 0, 0, 0, 0, 0, 0, 0, 0, 0, 0, 0, 0, 0, 0, 0, 0, 0, 0, 0, 0, 0, 0, 0, 0, 0, 0, 0, 0, 0, 0, 0, 0, 0, 0, 0, 0, 0, 0, 0, 0, 0, 0, 0, 0, 0, 0, 0, 0, 0, 0, 0, 0, 0, 0, 0, 0, 0, 0, 0, 0, 0, 0, 0, 0, 0, 0, 0, 0, 0, 0, 0, 0, 0, 0, 0, 0, 0, 0, 0, 0, 0, 0, 0, 0, 0, 0, 0, 0, 0, 0, 0, 0, 0, 0, 0, 0, 0, 0, 0, 0, 0, 0, 0, 0, 0, 0, 0, 0, 0, 0, 0, 0, 0, 0, 0, 0, 0, 0, 0, 0, 0, 0, 0, 0, 0, 0, 0, 0, 0, 0, 0, 0, 0, 0, 0, 0, 0, 0, 0, 0, 0, 0, 0, 0, 0, 0, 0, 0, 0, 0, 0, 0, 0, 0, 0, 0, 0, 0, 0, 0, 0, 0, 0, 0, 0, 0, 0, 0, 0, 0, 0, 0, 0, 0, 0, 0, 0, 0, 0, 0, 0, 0, 0, 0, 0, 0, 0, 0, 0, 0, 0, 0, 0, 0, 0, 0, 0, 0, 0, 0, 0, 0, 0, 0, 0, 0, 0, 0, 0, 0, 0, 0, 0, 0, 0, 0, 0, 0, 0, 0, 0, 0, 0, 0, 0, 0, 0, 0, 0, 0, 0, 0, 0, 0, 0, 0, 0, 0, 0, 0, 0, 0, 0, 0, 0, 0, 0, 0, 0, 0, 0, 0, 0, 0, 0, 0, 0, 0, 0, 0, 0, 0, 0, 0, 0, 0, 0, 0, 0, 0, 0, 0, 0, 0, 0, 0, 0, 0, 0, 0, 0, 0, 0, 0, 0, 0, 0, 0, 0, 0, 0, 0, 0, 0, 0, 0, 0, 0, 0, 0, 0, 0, 0, 0, 0, 0, 0, 0, 0, 0, 0, 0, 0, 0, 0, 0, 0, 0, 0, 0, 0, 0, 0, 0, 0, 0, 0, 0, 0, 0, 0, 2, 0, 1, 0], type: <class 'list'>, valid types: <class 'bytes'>, <class 'bytearray'>, file-like object",
     "output_type": "error",
     "traceback": [
      "\u001b[0;31m---------------------------------------------------------------------------\u001b[0m",
      "\u001b[0;31mParamValidationError\u001b[0m                      Traceback (most recent call last)",
      "\u001b[0;32m<ipython-input-46-c9ab54ae3a48>\u001b[0m in \u001b[0;36m<module>\u001b[0;34m\u001b[0m\n\u001b[1;32m      1\u001b[0m response = runtime.invoke_endpoint(EndpointName = xgb_predictor.endpoint, # The name of the endpoint we created\n\u001b[1;32m      2\u001b[0m                                        \u001b[0mContentType\u001b[0m \u001b[0;34m=\u001b[0m \u001b[0;34m'text/csv'\u001b[0m\u001b[0;34m,\u001b[0m                     \u001b[0;31m# The data format that is expected\u001b[0m\u001b[0;34m\u001b[0m\u001b[0;34m\u001b[0m\u001b[0m\n\u001b[0;32m----> 3\u001b[0;31m                                        Body = test_bow)\n\u001b[0m",
      "\u001b[0;32m~/anaconda3/envs/pytorch_p36/lib/python3.6/site-packages/botocore/client.py\u001b[0m in \u001b[0;36m_api_call\u001b[0;34m(self, *args, **kwargs)\u001b[0m\n\u001b[1;32m    355\u001b[0m                     \"%s() only accepts keyword arguments.\" % py_operation_name)\n\u001b[1;32m    356\u001b[0m             \u001b[0;31m# The \"self\" in this scope is referring to the BaseClient.\u001b[0m\u001b[0;34m\u001b[0m\u001b[0;34m\u001b[0m\u001b[0;34m\u001b[0m\u001b[0m\n\u001b[0;32m--> 357\u001b[0;31m             \u001b[0;32mreturn\u001b[0m \u001b[0mself\u001b[0m\u001b[0;34m.\u001b[0m\u001b[0m_make_api_call\u001b[0m\u001b[0;34m(\u001b[0m\u001b[0moperation_name\u001b[0m\u001b[0;34m,\u001b[0m \u001b[0mkwargs\u001b[0m\u001b[0;34m)\u001b[0m\u001b[0;34m\u001b[0m\u001b[0;34m\u001b[0m\u001b[0m\n\u001b[0m\u001b[1;32m    358\u001b[0m \u001b[0;34m\u001b[0m\u001b[0m\n\u001b[1;32m    359\u001b[0m         \u001b[0m_api_call\u001b[0m\u001b[0;34m.\u001b[0m\u001b[0m__name__\u001b[0m \u001b[0;34m=\u001b[0m \u001b[0mstr\u001b[0m\u001b[0;34m(\u001b[0m\u001b[0mpy_operation_name\u001b[0m\u001b[0;34m)\u001b[0m\u001b[0;34m\u001b[0m\u001b[0;34m\u001b[0m\u001b[0m\n",
      "\u001b[0;32m~/anaconda3/envs/pytorch_p36/lib/python3.6/site-packages/botocore/client.py\u001b[0m in \u001b[0;36m_make_api_call\u001b[0;34m(self, operation_name, api_params)\u001b[0m\n\u001b[1;32m    647\u001b[0m         }\n\u001b[1;32m    648\u001b[0m         request_dict = self._convert_to_request_dict(\n\u001b[0;32m--> 649\u001b[0;31m             api_params, operation_model, context=request_context)\n\u001b[0m\u001b[1;32m    650\u001b[0m \u001b[0;34m\u001b[0m\u001b[0m\n\u001b[1;32m    651\u001b[0m         \u001b[0mservice_id\u001b[0m \u001b[0;34m=\u001b[0m \u001b[0mself\u001b[0m\u001b[0;34m.\u001b[0m\u001b[0m_service_model\u001b[0m\u001b[0;34m.\u001b[0m\u001b[0mservice_id\u001b[0m\u001b[0;34m.\u001b[0m\u001b[0mhyphenize\u001b[0m\u001b[0;34m(\u001b[0m\u001b[0;34m)\u001b[0m\u001b[0;34m\u001b[0m\u001b[0;34m\u001b[0m\u001b[0m\n",
      "\u001b[0;32m~/anaconda3/envs/pytorch_p36/lib/python3.6/site-packages/botocore/client.py\u001b[0m in \u001b[0;36m_convert_to_request_dict\u001b[0;34m(self, api_params, operation_model, context)\u001b[0m\n\u001b[1;32m    695\u001b[0m             api_params, operation_model, context)\n\u001b[1;32m    696\u001b[0m         request_dict = self._serializer.serialize_to_request(\n\u001b[0;32m--> 697\u001b[0;31m             api_params, operation_model)\n\u001b[0m\u001b[1;32m    698\u001b[0m         \u001b[0;32mif\u001b[0m \u001b[0;32mnot\u001b[0m \u001b[0mself\u001b[0m\u001b[0;34m.\u001b[0m\u001b[0m_client_config\u001b[0m\u001b[0;34m.\u001b[0m\u001b[0minject_host_prefix\u001b[0m\u001b[0;34m:\u001b[0m\u001b[0;34m\u001b[0m\u001b[0;34m\u001b[0m\u001b[0m\n\u001b[1;32m    699\u001b[0m             \u001b[0mrequest_dict\u001b[0m\u001b[0;34m.\u001b[0m\u001b[0mpop\u001b[0m\u001b[0;34m(\u001b[0m\u001b[0;34m'host_prefix'\u001b[0m\u001b[0;34m,\u001b[0m \u001b[0;32mNone\u001b[0m\u001b[0;34m)\u001b[0m\u001b[0;34m\u001b[0m\u001b[0;34m\u001b[0m\u001b[0m\n",
      "\u001b[0;32m~/anaconda3/envs/pytorch_p36/lib/python3.6/site-packages/botocore/validate.py\u001b[0m in \u001b[0;36mserialize_to_request\u001b[0;34m(self, parameters, operation_model)\u001b[0m\n\u001b[1;32m    295\u001b[0m                                                     operation_model.input_shape)\n\u001b[1;32m    296\u001b[0m             \u001b[0;32mif\u001b[0m \u001b[0mreport\u001b[0m\u001b[0;34m.\u001b[0m\u001b[0mhas_errors\u001b[0m\u001b[0;34m(\u001b[0m\u001b[0;34m)\u001b[0m\u001b[0;34m:\u001b[0m\u001b[0;34m\u001b[0m\u001b[0;34m\u001b[0m\u001b[0m\n\u001b[0;32m--> 297\u001b[0;31m                 \u001b[0;32mraise\u001b[0m \u001b[0mParamValidationError\u001b[0m\u001b[0;34m(\u001b[0m\u001b[0mreport\u001b[0m\u001b[0;34m=\u001b[0m\u001b[0mreport\u001b[0m\u001b[0;34m.\u001b[0m\u001b[0mgenerate_report\u001b[0m\u001b[0;34m(\u001b[0m\u001b[0;34m)\u001b[0m\u001b[0;34m)\u001b[0m\u001b[0;34m\u001b[0m\u001b[0;34m\u001b[0m\u001b[0m\n\u001b[0m\u001b[1;32m    298\u001b[0m         return self._serializer.serialize_to_request(parameters,\n\u001b[1;32m    299\u001b[0m                                                      operation_model)\n",
      "\u001b[0;31mParamValidationError\u001b[0m: Parameter validation failed:\nInvalid type for parameter Body, value: [0, 0, 0, 0, 0, 0, 0, 0, 0, 0, 0, 0, 0, 0, 0, 0, 0, 0, 0, 0, 0, 0, 0, 0, 0, 0, 0, 0, 0, 0, 0, 0, 0, 0, 0, 0, 0, 0, 0, 0, 0, 0, 0, 0, 0, 0, 0, 0, 0, 0, 0, 0, 0, 0, 0, 0, 0, 0, 0, 0, 0, 0, 0, 0, 0, 0, 0, 0, 0, 0, 0, 0, 0, 0, 0, 0, 0, 0, 0, 0, 0, 0, 0, 0, 0, 0, 0, 0, 0, 0, 0, 0, 0, 0, 0, 0, 0, 0, 0, 0, 0, 0, 0, 0, 0, 0, 0, 0, 0, 0, 0, 0, 0, 0, 0, 0, 0, 0, 0, 0, 0, 0, 0, 0, 0, 0, 0, 0, 0, 0, 0, 0, 0, 0, 0, 0, 0, 0, 0, 0, 0, 0, 0, 0, 0, 0, 0, 0, 0, 0, 0, 0, 0, 0, 0, 0, 0, 0, 0, 0, 0, 0, 0, 0, 0, 0, 0, 0, 0, 0, 0, 0, 0, 0, 0, 0, 0, 0, 0, 0, 0, 0, 0, 0, 0, 0, 0, 0, 0, 0, 0, 0, 0, 0, 0, 0, 0, 0, 0, 0, 0, 0, 0, 0, 0, 0, 0, 0, 0, 0, 0, 0, 0, 0, 0, 0, 0, 0, 0, 0, 0, 0, 0, 0, 0, 0, 1, 0, 0, 0, 0, 0, 0, 0, 0, 0, 0, 0, 0, 0, 0, 0, 0, 0, 0, 0, 0, 0, 0, 0, 0, 0, 0, 0, 0, 0, 1, 0, 0, 0, 0, 0, 0, 0, 0, 0, 0, 0, 0, 0, 0, 0, 0, 0, 0, 0, 0, 0, 0, 0, 0, 0, 0, 0, 0, 0, 0, 0, 0, 0, 0, 0, 0, 0, 0, 0, 0, 0, 0, 0, 0, 0, 0, 0, 0, 0, 0, 0, 0, 0, 0, 0, 0, 0, 0, 0, 0, 0, 0, 0, 0, 0, 0, 0, 0, 0, 0, 0, 0, 0, 0, 0, 0, 0, 0, 0, 0, 0, 0, 0, 0, 0, 0, 0, 0, 0, 0, 0, 0, 0, 0, 0, 0, 0, 0, 0, 0, 0, 0, 0, 0, 0, 0, 0, 0, 0, 0, 0, 0, 0, 0, 0, 0, 0, 0, 0, 0, 0, 0, 0, 0, 0, 0, 0, 0, 0, 0, 0, 0, 0, 0, 0, 0, 0, 0, 0, 0, 0, 0, 0, 0, 0, 0, 0, 0, 0, 0, 0, 0, 0, 0, 0, 0, 0, 0, 0, 0, 0, 0, 0, 0, 0, 0, 0, 0, 0, 0, 0, 0, 0, 0, 0, 0, 0, 0, 0, 0, 0, 0, 0, 0, 0, 0, 0, 0, 0, 0, 0, 0, 0, 0, 0, 0, 0, 0, 0, 0, 0, 0, 0, 0, 0, 0, 0, 0, 0, 0, 0, 0, 0, 0, 0, 0, 0, 0, 0, 0, 0, 0, 0, 0, 0, 0, 0, 0, 0, 0, 0, 0, 0, 0, 0, 0, 0, 0, 0, 0, 0, 0, 0, 0, 0, 0, 0, 0, 0, 0, 0, 0, 0, 0, 0, 0, 0, 0, 0, 0, 0, 0, 0, 0, 0, 0, 0, 0, 0, 0, 0, 0, 0, 0, 0, 0, 0, 0, 0, 0, 0, 0, 0, 0, 0, 0, 0, 0, 0, 0, 0, 0, 0, 0, 0, 0, 0, 0, 0, 0, 0, 0, 0, 0, 0, 0, 0, 0, 0, 0, 0, 0, 0, 0, 0, 0, 0, 0, 0, 0, 0, 0, 0, 0, 0, 0, 0, 0, 0, 0, 0, 0, 0, 0, 0, 0, 0, 0, 0, 0, 0, 0, 0, 0, 0, 0, 0, 0, 0, 0, 0, 0, 0, 0, 0, 0, 0, 0, 0, 0, 0, 0, 0, 0, 0, 0, 0, 0, 0, 0, 0, 0, 0, 0, 0, 0, 0, 0, 0, 1, 0, 0, 0, 0, 0, 0, 0, 0, 0, 0, 0, 0, 0, 0, 0, 0, 0, 0, 0, 0, 0, 0, 0, 0, 0, 0, 0, 0, 0, 0, 0, 0, 0, 0, 0, 0, 0, 0, 0, 0, 0, 0, 0, 0, 0, 0, 0, 0, 0, 0, 0, 0, 0, 0, 0, 0, 0, 0, 0, 0, 0, 0, 0, 0, 0, 0, 0, 0, 0, 0, 0, 0, 0, 0, 0, 0, 0, 0, 0, 0, 0, 0, 0, 0, 0, 0, 0, 0, 0, 0, 0, 0, 0, 0, 0, 0, 0, 0, 0, 0, 0, 0, 0, 0, 0, 0, 0, 0, 0, 0, 0, 0, 0, 0, 0, 0, 0, 0, 0, 0, 0, 0, 0, 0, 0, 0, 0, 0, 0, 0, 0, 0, 0, 0, 0, 0, 0, 0, 0, 0, 0, 0, 0, 0, 0, 0, 0, 0, 0, 0, 0, 0, 0, 0, 0, 0, 0, 0, 0, 0, 0, 0, 0, 0, 0, 0, 0, 0, 0, 0, 0, 0, 0, 0, 0, 0, 0, 0, 0, 0, 0, 0, 0, 0, 0, 0, 0, 0, 0, 0, 0, 0, 0, 0, 0, 0, 0, 0, 0, 0, 0, 0, 0, 0, 0, 0, 0, 0, 0, 0, 0, 0, 0, 0, 0, 0, 0, 0, 0, 0, 0, 0, 0, 0, 0, 0, 0, 0, 0, 0, 0, 0, 0, 0, 0, 0, 0, 0, 0, 0, 0, 0, 0, 0, 0, 0, 0, 0, 0, 0, 0, 0, 0, 1, 0, 0, 0, 0, 0, 0, 0, 0, 0, 0, 0, 0, 0, 0, 0, 0, 0, 0, 0, 0, 0, 0, 0, 0, 0, 0, 0, 0, 0, 0, 0, 0, 0, 0, 0, 0, 0, 0, 0, 0, 0, 0, 0, 0, 0, 0, 0, 0, 0, 0, 0, 0, 0, 0, 0, 0, 0, 0, 0, 0, 0, 0, 0, 0, 0, 0, 0, 0, 0, 0, 0, 0, 0, 0, 0, 0, 0, 0, 0, 0, 0, 0, 0, 0, 0, 0, 1, 0, 0, 0, 0, 0, 0, 0, 0, 0, 0, 0, 0, 0, 0, 0, 0, 0, 0, 0, 0, 0, 0, 0, 0, 0, 0, 0, 0, 0, 0, 0, 0, 0, 0, 0, 0, 0, 0, 0, 0, 0, 0, 0, 0, 0, 0, 0, 0, 0, 0, 0, 0, 0, 0, 0, 0, 0, 0, 0, 0, 0, 0, 0, 0, 0, 0, 0, 0, 0, 0, 0, 0, 0, 0, 0, 0, 0, 0, 0, 0, 0, 0, 0, 0, 0, 0, 0, 0, 0, 0, 0, 0, 0, 0, 0, 0, 0, 0, 0, 0, 0, 0, 0, 0, 0, 0, 0, 0, 0, 0, 0, 0, 0, 0, 0, 0, 0, 0, 0, 0, 0, 0, 0, 0, 0, 0, 0, 0, 0, 0, 0, 0, 0, 0, 0, 0, 0, 0, 0, 0, 0, 0, 0, 0, 0, 0, 0, 0, 0, 0, 0, 0, 0, 0, 0, 0, 0, 0, 0, 0, 0, 0, 0, 0, 0, 0, 0, 0, 0, 0, 0, 0, 0, 0, 0, 0, 0, 0, 0, 0, 0, 0, 0, 0, 0, 0, 0, 0, 0, 0, 0, 0, 0, 0, 0, 0, 0, 0, 0, 0, 0, 0, 0, 0, 0, 0, 0, 0, 0, 0, 0, 0, 0, 0, 0, 0, 0, 0, 0, 0, 0, 0, 0, 0, 0, 0, 0, 0, 0, 0, 0, 0, 0, 0, 0, 0, 0, 0, 0, 0, 0, 0, 0, 0, 0, 0, 0, 0, 0, 0, 0, 0, 1, 0, 0, 0, 0, 0, 0, 0, 0, 0, 0, 0, 0, 0, 0, 0, 0, 0, 0, 0, 0, 0, 0, 0, 0, 0, 0, 0, 0, 0, 0, 0, 0, 0, 0, 0, 0, 0, 0, 0, 0, 0, 0, 0, 0, 0, 0, 0, 0, 0, 0, 0, 0, 0, 0, 0, 1, 0, 0, 0, 0, 0, 0, 0, 0, 0, 0, 0, 0, 0, 0, 0, 0, 0, 0, 0, 0, 0, 0, 0, 0, 0, 0, 0, 0, 0, 0, 0, 0, 0, 0, 0, 0, 0, 0, 0, 0, 0, 0, 0, 0, 0, 0, 0, 0, 0, 0, 0, 0, 0, 0, 0, 0, 0, 0, 0, 0, 0, 0, 0, 0, 0, 0, 0, 0, 0, 0, 0, 0, 0, 0, 0, 0, 0, 0, 0, 0, 0, 0, 0, 0, 0, 0, 0, 0, 0, 0, 0, 0, 0, 0, 0, 0, 0, 0, 0, 0, 0, 0, 0, 0, 0, 0, 0, 0, 0, 0, 0, 0, 0, 0, 0, 0, 0, 0, 0, 0, 0, 0, 0, 0, 0, 0, 0, 0, 0, 0, 0, 0, 0, 0, 0, 0, 0, 0, 0, 0, 0, 0, 0, 0, 0, 0, 0, 0, 0, 0, 0, 0, 0, 0, 0, 0, 0, 0, 0, 0, 0, 0, 0, 0, 0, 0, 0, 0, 0, 0, 0, 0, 0, 0, 0, 0, 0, 0, 0, 0, 0, 0, 0, 0, 0, 0, 0, 0, 0, 0, 0, 0, 0, 0, 0, 0, 0, 0, 0, 0, 0, 0, 0, 0, 0, 0, 0, 0, 0, 0, 0, 0, 0, 0, 0, 0, 0, 0, 0, 0, 0, 0, 0, 0, 0, 0, 0, 0, 0, 0, 0, 0, 0, 0, 0, 0, 0, 0, 0, 0, 0, 0, 0, 0, 0, 0, 0, 0, 0, 0, 0, 0, 0, 0, 0, 0, 0, 0, 0, 0, 0, 0, 0, 0, 0, 0, 0, 0, 0, 0, 0, 0, 0, 0, 0, 0, 0, 0, 0, 0, 0, 0, 0, 0, 0, 0, 0, 0, 0, 0, 0, 0, 0, 0, 0, 0, 0, 0, 0, 0, 0, 0, 0, 0, 0, 0, 0, 0, 0, 0, 0, 0, 0, 0, 0, 0, 0, 0, 0, 0, 0, 0, 0, 0, 0, 0, 0, 0, 0, 0, 0, 0, 0, 0, 0, 0, 0, 0, 0, 0, 0, 0, 0, 0, 0, 0, 0, 0, 0, 0, 0, 0, 0, 0, 0, 0, 0, 0, 0, 0, 0, 0, 0, 0, 0, 0, 0, 0, 0, 0, 0, 0, 0, 0, 0, 0, 0, 0, 0, 0, 0, 0, 0, 0, 0, 0, 0, 0, 0, 0, 0, 0, 0, 0, 0, 0, 0, 0, 0, 0, 0, 0, 0, 0, 0, 0, 0, 0, 0, 0, 0, 0, 0, 0, 0, 0, 0, 0, 0, 0, 0, 0, 0, 0, 0, 0, 0, 0, 0, 0, 0, 0, 0, 0, 0, 0, 0, 0, 0, 0, 0, 0, 0, 0, 0, 0, 0, 0, 0, 0, 0, 0, 0, 0, 0, 0, 0, 0, 0, 0, 0, 0, 0, 0, 0, 0, 0, 0, 0, 0, 0, 0, 0, 0, 0, 0, 0, 0, 0, 0, 0, 0, 0, 0, 0, 0, 0, 0, 0, 0, 0, 0, 0, 0, 0, 0, 0, 0, 0, 0, 0, 0, 0, 0, 0, 0, 0, 0, 0, 0, 0, 0, 0, 0, 0, 0, 0, 0, 0, 0, 0, 0, 0, 0, 0, 0, 0, 0, 0, 0, 0, 0, 0, 0, 0, 0, 0, 0, 0, 0, 0, 0, 0, 0, 0, 0, 0, 0, 0, 0, 0, 0, 0, 0, 0, 0, 0, 0, 0, 0, 0, 0, 0, 0, 0, 0, 0, 0, 0, 0, 0, 0, 0, 0, 0, 0, 0, 0, 0, 0, 0, 0, 0, 0, 0, 0, 0, 0, 0, 0, 0, 0, 0, 0, 0, 0, 0, 0, 0, 0, 0, 0, 0, 0, 0, 0, 0, 0, 0, 0, 0, 0, 0, 0, 0, 0, 0, 0, 0, 0, 0, 0, 0, 0, 0, 0, 0, 0, 0, 0, 0, 0, 0, 0, 0, 0, 0, 0, 0, 0, 0, 0, 0, 0, 0, 0, 0, 0, 0, 0, 0, 0, 0, 0, 0, 0, 0, 0, 0, 0, 0, 0, 0, 0, 0, 0, 0, 0, 0, 0, 0, 0, 0, 0, 0, 0, 0, 0, 0, 0, 0, 1, 0, 0, 0, 0, 0, 0, 0, 0, 0, 0, 0, 0, 0, 0, 0, 0, 0, 0, 0, 0, 0, 0, 0, 0, 0, 0, 0, 0, 0, 0, 0, 0, 0, 0, 0, 0, 0, 0, 0, 0, 0, 0, 0, 0, 0, 0, 0, 0, 0, 0, 0, 0, 0, 0, 0, 0, 0, 0, 0, 0, 0, 0, 0, 0, 0, 0, 0, 0, 0, 0, 0, 0, 0, 0, 1, 0, 0, 0, 0, 0, 0, 0, 0, 0, 0, 0, 0, 0, 0, 0, 0, 0, 0, 0, 0, 1, 0, 0, 1, 0, 0, 0, 0, 0, 0, 0, 0, 0, 0, 0, 0, 0, 0, 0, 0, 0, 0, 0, 0, 0, 0, 0, 0, 0, 0, 0, 0, 0, 0, 0, 0, 0, 0, 0, 0, 0, 0, 0, 0, 0, 0, 0, 0, 0, 0, 0, 0, 0, 0, 0, 0, 0, 0, 0, 0, 0, 0, 0, 0, 0, 0, 0, 0, 0, 0, 0, 0, 0, 0, 0, 0, 0, 0, 0, 0, 0, 0, 0, 0, 0, 0, 0, 0, 0, 0, 0, 0, 0, 0, 0, 0, 0, 0, 0, 0, 0, 0, 0, 0, 0, 0, 0, 0, 0, 0, 0, 0, 0, 0, 0, 0, 0, 0, 0, 0, 0, 0, 0, 0, 0, 0, 0, 0, 0, 0, 0, 0, 0, 0, 0, 0, 0, 0, 0, 0, 0, 0, 0, 0, 0, 0, 0, 0, 0, 0, 0, 0, 0, 0, 0, 0, 0, 0, 0, 0, 0, 0, 0, 0, 0, 0, 0, 0, 0, 0, 0, 0, 0, 0, 0, 0, 0, 0, 0, 0, 0, 0, 0, 0, 0, 0, 0, 0, 0, 0, 0, 0, 0, 0, 0, 0, 0, 0, 0, 0, 0, 0, 0, 0, 0, 0, 0, 0, 0, 0, 0, 0, 0, 0, 0, 0, 0, 0, 0, 0, 0, 0, 0, 0, 0, 0, 0, 0, 0, 0, 0, 0, 0, 0, 0, 0, 0, 0, 0, 0, 0, 0, 0, 0, 0, 0, 0, 0, 0, 0, 0, 0, 0, 0, 0, 0, 0, 0, 0, 0, 0, 0, 0, 0, 0, 0, 0, 0, 0, 0, 0, 0, 0, 0, 0, 0, 0, 0, 0, 0, 0, 0, 0, 0, 0, 0, 0, 0, 0, 0, 0, 0, 0, 0, 0, 0, 0, 0, 0, 0, 0, 0, 0, 0, 0, 0, 0, 0, 0, 0, 0, 0, 0, 0, 0, 0, 0, 0, 0, 0, 0, 0, 0, 0, 0, 0, 0, 0, 0, 0, 0, 0, 0, 0, 0, 0, 0, 0, 0, 0, 0, 0, 0, 0, 0, 0, 0, 0, 0, 0, 0, 0, 0, 0, 0, 0, 0, 0, 0, 0, 0, 0, 0, 0, 0, 0, 0, 0, 0, 0, 0, 0, 0, 0, 0, 0, 0, 0, 0, 0, 0, 0, 0, 0, 0, 0, 0, 0, 0, 0, 0, 0, 0, 0, 0, 0, 0, 0, 0, 0, 0, 0, 0, 0, 0, 0, 0, 0, 0, 0, 0, 0, 0, 0, 0, 0, 0, 0, 0, 0, 0, 0, 0, 0, 0, 0, 0, 0, 0, 0, 0, 0, 0, 0, 0, 0, 0, 0, 0, 0, 0, 0, 0, 0, 0, 0, 0, 0, 0, 0, 0, 0, 0, 0, 0, 0, 0, 0, 0, 0, 0, 0, 0, 0, 0, 0, 0, 0, 0, 0, 1, 0, 0, 0, 0, 0, 0, 0, 0, 0, 0, 0, 0, 0, 0, 0, 0, 0, 0, 0, 0, 0, 0, 0, 0, 0, 0, 0, 0, 0, 0, 0, 0, 0, 0, 0, 0, 0, 0, 0, 0, 0, 0, 0, 0, 0, 0, 0, 0, 0, 0, 0, 0, 0, 0, 0, 0, 0, 0, 0, 0, 0, 0, 0, 0, 0, 0, 0, 0, 0, 0, 0, 0, 0, 0, 0, 0, 0, 0, 0, 0, 0, 0, 0, 0, 0, 0, 0, 0, 0, 0, 0, 0, 0, 0, 0, 0, 0, 0, 0, 0, 0, 0, 0, 0, 0, 0, 0, 0, 0, 0, 0, 0, 0, 0, 0, 0, 0, 0, 0, 0, 0, 0, 0, 0, 0, 0, 0, 0, 0, 0, 0, 0, 0, 0, 0, 0, 0, 0, 0, 0, 0, 0, 0, 0, 0, 0, 0, 0, 0, 0, 0, 0, 0, 0, 0, 0, 0, 0, 0, 0, 0, 0, 0, 0, 0, 0, 0, 0, 0, 0, 0, 0, 0, 0, 0, 0, 0, 0, 0, 0, 0, 0, 0, 0, 0, 0, 0, 0, 0, 0, 0, 0, 0, 0, 0, 0, 0, 0, 0, 0, 0, 0, 0, 0, 0, 0, 0, 0, 0, 0, 0, 0, 0, 0, 0, 0, 0, 0, 0, 0, 0, 0, 0, 0, 0, 0, 0, 0, 0, 0, 0, 0, 0, 0, 0, 0, 0, 0, 0, 0, 0, 0, 0, 0, 0, 0, 0, 0, 0, 0, 0, 0, 0, 0, 0, 0, 0, 0, 0, 0, 0, 0, 0, 0, 0, 0, 0, 0, 0, 0, 0, 0, 0, 0, 0, 0, 0, 0, 0, 0, 0, 0, 0, 0, 0, 0, 0, 0, 0, 0, 0, 0, 0, 0, 0, 0, 0, 0, 0, 0, 0, 0, 0, 0, 0, 0, 0, 0, 0, 0, 0, 0, 0, 0, 0, 0, 0, 0, 0, 0, 0, 0, 0, 0, 0, 0, 0, 0, 0, 0, 0, 0, 0, 0, 0, 0, 0, 0, 0, 0, 0, 0, 0, 0, 0, 0, 0, 0, 0, 0, 0, 0, 0, 0, 0, 0, 0, 0, 0, 0, 0, 0, 0, 0, 0, 0, 0, 0, 0, 0, 0, 0, 0, 0, 0, 0, 0, 0, 0, 0, 0, 0, 0, 0, 0, 0, 0, 0, 0, 0, 0, 0, 0, 0, 0, 0, 0, 0, 0, 0, 0, 0, 0, 0, 0, 0, 0, 0, 0, 0, 0, 0, 0, 0, 0, 0, 0, 0, 0, 0, 0, 0, 0, 0, 0, 0, 0, 0, 0, 0, 0, 0, 0, 0, 0, 0, 0, 0, 0, 0, 0, 0, 0, 0, 0, 0, 0, 0, 0, 0, 0, 0, 0, 0, 0, 0, 0, 0, 0, 0, 0, 0, 0, 0, 0, 0, 0, 0, 0, 0, 0, 0, 0, 0, 0, 0, 0, 0, 0, 0, 0, 0, 0, 0, 0, 0, 0, 0, 0, 0, 0, 0, 0, 0, 0, 0, 0, 0, 0, 0, 0, 0, 0, 0, 0, 0, 0, 0, 0, 0, 0, 0, 1, 0, 0, 0, 0, 0, 0, 0, 0, 0, 0, 0, 0, 0, 0, 0, 0, 0, 0, 0, 0, 0, 0, 0, 0, 0, 0, 0, 0, 0, 0, 0, 0, 0, 0, 0, 2, 0, 0, 0, 0, 0, 0, 0, 0, 0, 0, 0, 0, 0, 0, 0, 0, 0, 0, 0, 0, 0, 0, 0, 0, 0, 0, 0, 0, 0, 0, 0, 0, 0, 0, 0, 0, 0, 0, 0, 0, 1, 0, 0, 0, 0, 0, 0, 0, 0, 0, 0, 0, 0, 0, 0, 0, 0, 0, 0, 0, 0, 0, 0, 0, 0, 0, 0, 0, 0, 0, 0, 0, 0, 0, 0, 0, 0, 0, 0, 0, 0, 0, 0, 0, 0, 0, 0, 0, 0, 0, 0, 0, 0, 0, 0, 0, 0, 0, 0, 0, 0, 0, 0, 0, 0, 0, 0, 0, 0, 0, 0, 0, 0, 0, 0, 0, 0, 0, 0, 0, 0, 0, 0, 0, 0, 0, 0, 0, 0, 0, 0, 0, 0, 0, 0, 0, 0, 0, 0, 0, 0, 0, 0, 0, 0, 0, 0, 0, 0, 0, 0, 0, 0, 0, 0, 0, 0, 0, 0, 0, 0, 0, 0, 0, 0, 0, 0, 0, 0, 0, 0, 0, 0, 0, 0, 0, 0, 0, 0, 0, 0, 0, 0, 0, 0, 0, 0, 0, 0, 0, 0, 0, 0, 0, 0, 0, 0, 0, 0, 0, 0, 0, 0, 0, 0, 0, 0, 0, 0, 0, 0, 0, 0, 0, 0, 0, 0, 0, 0, 0, 0, 0, 0, 0, 0, 0, 0, 0, 0, 0, 0, 0, 0, 0, 0, 0, 0, 0, 0, 0, 0, 0, 0, 0, 0, 0, 0, 0, 0, 0, 0, 0, 0, 0, 0, 0, 0, 0, 0, 0, 0, 0, 0, 0, 0, 0, 0, 0, 0, 0, 0, 0, 0, 0, 0, 0, 0, 0, 0, 0, 0, 0, 0, 0, 0, 0, 0, 0, 0, 0, 0, 0, 0, 0, 0, 0, 0, 0, 0, 0, 0, 0, 0, 0, 0, 0, 0, 0, 0, 0, 0, 0, 0, 0, 0, 0, 0, 0, 0, 0, 0, 0, 0, 0, 0, 0, 0, 0, 0, 0, 0, 0, 0, 0, 0, 0, 0, 0, 0, 0, 0, 0, 0, 0, 0, 0, 0, 0, 0, 0, 0, 0, 0, 0, 0, 0, 0, 0, 0, 0, 0, 0, 0, 0, 0, 0, 0, 0, 0, 0, 0, 0, 0, 0, 0, 0, 0, 0, 0, 0, 0, 0, 0, 0, 0, 0, 0, 0, 0, 0, 0, 0, 0, 0, 0, 0, 0, 0, 0, 0, 0, 0, 0, 0, 0, 0, 0, 0, 0, 0, 0, 0, 0, 0, 0, 0, 0, 0, 0, 0, 0, 0, 0, 0, 0, 0, 0, 0, 0, 0, 0, 0, 0, 0, 0, 0, 0, 0, 0, 0, 0, 0, 0, 0, 0, 0, 0, 0, 0, 0, 0, 0, 0, 0, 0, 0, 0, 0, 0, 0, 0, 0, 0, 0, 0, 0, 0, 0, 0, 0, 0, 0, 0, 0, 0, 0, 0, 0, 0, 0, 0, 0, 0, 0, 0, 0, 0, 0, 0, 0, 0, 0, 0, 0, 0, 0, 0, 0, 0, 0, 0, 0, 0, 0, 0, 0, 0, 0, 0, 0, 0, 0, 0, 0, 0, 0, 0, 0, 0, 0, 0, 0, 0, 0, 0, 0, 0, 0, 0, 0, 0, 0, 0, 0, 0, 0, 0, 0, 1, 0, 0, 0, 0, 0, 0, 0, 0, 0, 0, 0, 0, 0, 0, 0, 0, 0, 0, 0, 0, 0, 0, 0, 0, 0, 0, 0, 0, 0, 0, 0, 0, 0, 0, 0, 0, 0, 0, 0, 0, 0, 0, 0, 0, 0, 0, 0, 0, 0, 0, 0, 0, 0, 0, 0, 0, 0, 0, 0, 0, 0, 0, 0, 0, 0, 0, 0, 0, 0, 0, 0, 0, 0, 0, 0, 0, 0, 0, 0, 0, 0, 0, 0, 0, 0, 0, 0, 0, 0, 0, 0, 0, 0, 0, 0, 0, 0, 0, 0, 0, 0, 0, 0, 0, 0, 0, 0, 0, 0, 0, 2, 0, 0, 0, 0, 0, 0, 0, 0, 0, 0, 0, 0, 0, 0, 0, 0, 0, 0, 0, 0, 0, 0, 0, 0, 0, 0, 0, 0, 0, 0, 0, 0, 0, 0, 0, 0, 0, 0, 0, 0, 0, 0, 0, 0, 0, 0, 0, 0, 0, 0, 0, 0, 0, 0, 0, 0, 0, 0, 0, 0, 0, 0, 0, 0, 0, 0, 0, 0, 0, 0, 0, 0, 0, 0, 0, 0, 0, 0, 0, 0, 0, 0, 0, 0, 0, 0, 0, 0, 0, 0, 0, 0, 0, 0, 0, 0, 0, 0, 0, 0, 0, 0, 0, 0, 0, 0, 0, 0, 0, 0, 0, 0, 0, 0, 0, 0, 0, 0, 0, 0, 0, 0, 0, 0, 0, 0, 0, 0, 0, 0, 0, 0, 0, 0, 0, 0, 0, 0, 0, 0, 0, 0, 0, 0, 0, 0, 0, 0, 0, 0, 0, 0, 0, 0, 0, 0, 0, 0, 0, 0, 0, 0, 0, 0, 0, 0, 0, 0, 0, 0, 0, 0, 0, 0, 0, 0, 0, 0, 0, 0, 0, 0, 0, 0, 0, 0, 0, 0, 0, 0, 0, 0, 0, 0, 0, 0, 0, 0, 0, 0, 0, 0, 0, 0, 0, 0, 0, 0, 0, 0, 0, 0, 0, 0, 0, 0, 0, 0, 0, 0, 0, 0, 0, 0, 0, 0, 0, 0, 0, 0, 0, 0, 0, 0, 0, 0, 0, 0, 0, 0, 0, 0, 0, 0, 0, 0, 0, 0, 0, 0, 0, 0, 0, 0, 0, 0, 0, 0, 0, 0, 0, 0, 0, 0, 0, 0, 0, 0, 0, 0, 0, 0, 0, 0, 0, 0, 0, 0, 0, 0, 0, 0, 0, 0, 0, 0, 0, 0, 0, 0, 0, 0, 0, 0, 0, 0, 0, 0, 0, 0, 0, 0, 0, 0, 0, 0, 0, 0, 0, 0, 0, 0, 0, 0, 0, 0, 0, 0, 0, 0, 0, 0, 0, 0, 0, 0, 0, 0, 0, 0, 0, 0, 0, 0, 0, 0, 0, 0, 0, 0, 0, 0, 0, 0, 0, 0, 0, 0, 0, 0, 0, 0, 0, 0, 0, 0, 0, 0, 0, 0, 0, 0, 0, 0, 0, 0, 0, 0, 0, 0, 0, 0, 0, 0, 0, 0, 0, 0, 0, 0, 0, 0, 0, 0, 0, 0, 0, 0, 0, 0, 0, 0, 0, 0, 0, 0, 0, 0, 0, 0, 0, 0, 0, 0, 0, 0, 0, 0, 0, 0, 0, 0, 0, 0, 0, 0, 0, 0, 0, 0, 0, 0, 0, 0, 0, 0, 0, 0, 0, 0, 0, 0, 0, 0, 0, 0, 0, 0, 0, 0, 0, 0, 0, 0, 0, 0, 0, 0, 0, 0, 0, 0, 0, 0, 0, 0, 0, 0, 0, 0, 0, 0, 0, 0, 0, 0, 0, 0, 0, 0, 0, 0, 0, 0, 0, 0, 0, 0, 0, 0, 0, 0, 0, 0, 0, 0, 0, 0, 0, 0, 0, 0, 0, 0, 0, 0, 0, 0, 0, 0, 0, 0, 0, 0, 0, 0, 0, 0, 0, 0, 0, 0, 0, 0, 0, 0, 0, 0, 0, 0, 0, 0, 0, 0, 0, 0, 0, 0, 0, 0, 0, 0, 0, 0, 0, 0, 0, 0, 0, 0, 0, 0, 0, 0, 0, 0, 0, 0, 0, 0, 0, 0, 0, 0, 0, 0, 0, 0, 0, 0, 0, 0, 0, 0, 0, 0, 0, 0, 0, 0, 0, 0, 0, 0, 0, 0, 0, 0, 0, 0, 0, 0, 0, 0, 0, 0, 0, 0, 0, 0, 0, 0, 0, 0, 0, 0, 0, 0, 0, 0, 0, 0, 0, 0, 0, 0, 0, 0, 0, 0, 0, 0, 0, 0, 0, 0, 0, 0, 0, 0, 0, 0, 0, 0, 0, 0, 0, 0, 0, 0, 0, 0, 0, 0, 0, 0, 0, 0, 0, 0, 0, 0, 0, 0, 0, 0, 0, 0, 0, 0, 0, 0, 0, 0, 0, 0, 0, 0, 0, 0, 0, 0, 0, 0, 0, 0, 0, 0, 0, 0, 0, 0, 0, 0, 0, 0, 0, 0, 0, 0, 0, 0, 0, 0, 0, 0, 0, 0, 0, 0, 1, 0, 0, 0, 0, 0, 0, 0, 0, 0, 0, 0, 0, 0, 0, 0, 0, 0, 0, 0, 0, 0, 0, 0, 0, 0, 0, 0, 0, 0, 0, 0, 0, 0, 0, 0, 0, 0, 0, 0, 0, 0, 0, 0, 0, 0, 0, 0, 0, 0, 0, 0, 0, 0, 0, 0, 0, 0, 0, 0, 0, 0, 0, 0, 0, 0, 0, 0, 0, 0, 0, 0, 0, 0, 0, 0, 0, 0, 0, 0, 0, 0, 0, 0, 0, 0, 0, 0, 0, 0, 0, 0, 0, 0, 0, 0, 0, 0, 0, 0, 0, 0, 0, 0, 0, 0, 0, 0, 1, 0, 0, 0, 0, 0, 0, 0, 0, 0, 0, 0, 0, 0, 0, 0, 0, 0, 0, 0, 0, 0, 0, 0, 0, 0, 0, 0, 0, 0, 0, 0, 0, 0, 0, 0, 0, 0, 0, 0, 0, 0, 0, 0, 0, 0, 0, 0, 0, 0, 0, 0, 0, 0, 0, 0, 0, 0, 0, 0, 0, 0, 0, 0, 0, 0, 0, 0, 0, 0, 0, 0, 0, 0, 0, 0, 0, 0, 0, 0, 0, 0, 0, 0, 0, 0, 0, 0, 0, 0, 0, 0, 0, 0, 0, 0, 0, 0, 0, 0, 0, 0, 0, 0, 0, 0, 0, 0, 0, 0, 0, 0, 0, 0, 0, 0, 0, 0, 0, 0, 0, 0, 0, 0, 0, 0, 0, 0, 0, 0, 0, 0, 0, 0, 0, 0, 0, 0, 0, 0, 0, 0, 0, 0, 0, 0, 0, 0, 0, 0, 0, 0, 0, 0, 0, 0, 0, 0, 0, 0, 0, 0, 0, 0, 0, 0, 0, 0, 0, 0, 0, 0, 0, 0, 0, 0, 0, 0, 0, 0, 0, 0, 0, 0, 0, 0, 0, 0, 0, 0, 0, 0, 0, 0, 0, 0, 0, 0, 0, 0, 0, 0, 0, 0, 0, 0, 0, 0, 0, 0, 0, 0, 0, 0, 0, 0, 0, 0, 0, 0, 0, 0, 0, 0, 0, 0, 0, 0, 0, 0, 0, 0, 0, 0, 0, 0, 0, 0, 0, 0, 0, 0, 0, 0, 0, 0, 0, 0, 0, 0, 0, 0, 0, 0, 0, 0, 0, 0, 0, 0, 0, 0, 0, 0, 0, 0, 0, 0, 0, 0, 0, 0, 0, 0, 0, 0, 0, 0, 0, 0, 0, 0, 0, 0, 0, 0, 0, 0, 0, 0, 0, 0, 0, 0, 0, 0, 0, 0, 0, 0, 0, 0, 0, 0, 0, 0, 0, 0, 0, 0, 0, 0, 0, 0, 0, 0, 0, 0, 0, 0, 0, 0, 0, 0, 0, 0, 0, 0, 0, 0, 0, 0, 0, 0, 0, 0, 0, 0, 0, 0, 0, 0, 0, 0, 0, 0, 0, 0, 0, 0, 0, 0, 0, 0, 0, 0, 0, 0, 0, 0, 0, 0, 0, 0, 0, 0, 0, 0, 0, 0, 0, 0, 0, 0, 0, 0, 0, 0, 0, 0, 0, 0, 0, 0, 0, 0, 0, 0, 0, 0, 0, 0, 0, 0, 0, 0, 0, 0, 0, 0, 0, 0, 0, 0, 0, 0, 0, 0, 0, 0, 0, 0, 0, 0, 0, 0, 0, 0, 0, 0, 0, 0, 0, 0, 0, 0, 0, 0, 0, 0, 0, 0, 0, 0, 0, 0, 0, 0, 0, 0, 0, 0, 0, 0, 0, 0, 0, 0, 0, 0, 0, 0, 0, 0, 0, 0, 0, 0, 0, 0, 0, 0, 0, 0, 2, 0, 1, 0], type: <class 'list'>, valid types: <class 'bytes'>, <class 'bytearray'>, file-like object"
     ]
    }
   ],
   "source": [
    "response = runtime.invoke_endpoint(EndpointName = xgb_predictor.endpoint, # The name of the endpoint we created\n",
    "                                       ContentType = 'text/csv',                     # The data format that is expected\n",
    "                                       Body = test_bow)"
   ]
  },
  {
   "cell_type": "markdown",
   "metadata": {},
   "source": [
    "So why did we get an error?\n",
    "\n",
    "Because we tried to send the endpoint a list of integers but it expected us to send data of type `text/csv`. So, we need to convert it."
   ]
  },
  {
   "cell_type": "code",
   "execution_count": 47,
   "metadata": {},
   "outputs": [],
   "source": [
    "response = runtime.invoke_endpoint(EndpointName = xgb_predictor.endpoint, # The name of the endpoint we created\n",
    "                                       ContentType = 'text/csv',                     # The data format that is expected\n",
    "                                       Body = ','.join([str(val) for val in test_bow]).encode('utf-8'))"
   ]
  },
  {
   "cell_type": "code",
   "execution_count": 48,
   "metadata": {},
   "outputs": [
    {
     "name": "stdout",
     "output_type": "stream",
     "text": [
      "{'ResponseMetadata': {'RequestId': '010e1785-b5d3-48ff-9b3e-485c8e28b692', 'HTTPStatusCode': 200, 'HTTPHeaders': {'x-amzn-requestid': '010e1785-b5d3-48ff-9b3e-485c8e28b692', 'x-amzn-invoked-production-variant': 'AllTraffic', 'date': 'Tue, 19 Jan 2021 04:05:47 GMT', 'content-type': 'text/csv; charset=utf-8', 'content-length': '11'}, 'RetryAttempts': 0}, 'ContentType': 'text/csv; charset=utf-8', 'InvokedProductionVariant': 'AllTraffic', 'Body': <botocore.response.StreamingBody object at 0x7f292823e5f8>}\n"
     ]
    }
   ],
   "source": [
    "print(response)"
   ]
  },
  {
   "cell_type": "markdown",
   "metadata": {},
   "source": [
    "As we can see, the response from our model is a somewhat complicated looking dict that contains a bunch of information. The bit that we are most interested in is `'Body'` object which is a streaming object that we need to `read` in order to make use of."
   ]
  },
  {
   "cell_type": "code",
   "execution_count": 49,
   "metadata": {},
   "outputs": [
    {
     "name": "stdout",
     "output_type": "stream",
     "text": [
      "0.439781636\n"
     ]
    }
   ],
   "source": [
    "response = response['Body'].read().decode('utf-8')\n",
    "print(response)"
   ]
  },
  {
   "cell_type": "markdown",
   "metadata": {},
   "source": [
    "Now that we know how to process the incoming user data we can start setting up the infrastructure to make our simple web app work. To do this we will make use of two different services. Amazon's Lambda and API Gateway services.\n",
    "\n",
    "Lambda is a service which allows someone to write some relatively simple code and have it executed whenever a chosen trigger occurs. For example, you may want to update a database whenever new data is uploaded to a folder stored on S3.\n",
    "\n",
    "API Gateway is a service that allows you to create HTTP endpoints (url addresses) which are connected to other AWS services. One of the benefits to this is that you get to decide what credentials, if any, are required to access these endpoints.\n",
    "\n",
    "In our case we are going to set up an HTTP endpoint through API Gateway which is open to the public. Then, whenever anyone sends data to our public endpoint we will trigger a Lambda function which will send the input (in our case a review) to our model's endpoint and then return the result."
   ]
  },
  {
   "cell_type": "markdown",
   "metadata": {},
   "source": [
    "### Setting up a Lambda function\n",
    "\n",
    "The first thing we are going to do is set up a Lambda function. This Lambda function will be executed whenever our public API has data sent to it. When it is executed it will receive the data, perform any sort of processing that is required, send the data (the review) to the SageMaker endpoint we've created and then return the result.\n",
    "\n",
    "#### Part A: Create an IAM Role for the Lambda function\n",
    "\n",
    "Since we want the Lambda function to call a SageMaker endpoint, we need to make sure that it has permission to do so. To do this, we will construct a role that we can later give the Lambda function.\n",
    "\n",
    "Using the AWS Console, navigate to the **IAM** page and click on **Roles**. Then, click on **Create role**. Make sure that the **AWS service** is the type of trusted entity selected and choose **Lambda** as the service that will use this role, then click **Next: Permissions**.\n",
    "\n",
    "In the search box type `sagemaker` and select the check box next to the **AmazonSageMakerFullAccess** policy. Then, click on **Next: Review**.\n",
    "\n",
    "Lastly, give this role a name. Make sure you use a name that you will remember later on, for example `LambdaSageMakerRole`. Then, click on **Create role**."
   ]
  },
  {
   "cell_type": "markdown",
   "metadata": {},
   "source": [
    "#### Part B: Create a Lambda function\n",
    "\n",
    "Now it is time to actually create the Lambda function. Remember from earlier that in order to process the user provided input and send it to our endpoint we need to gather two pieces of information:\n",
    "\n",
    " - The name of the endpoint, and\n",
    " - the vocabulary object.\n",
    "\n",
    "We will copy these pieces of information to our Lambda function after we create it.\n",
    "\n",
    "To start, using the AWS Console, navigate to the AWS Lambda page and click on **Create a function**. When you get to the next page, make sure that **Author from scratch** is selected. Now, name your Lambda function, using a name that you will remember later on, for example `sentiment_analysis_xgboost_func`. Make sure that the **Python 3.6** runtime is selected and then choose the role that you created in the previous part. Then, click on **Create Function**.\n",
    "\n",
    "On the next page you will see some information about the Lambda function you've just created. If you scroll down you should see an editor in which you can write the code that will be executed when your Lambda function is triggered. Collecting the code we wrote above to process a single review and adding it to the provided example `lambda_handler` we arrive at the following.\n",
    "\n",
    "```python\n",
    "# We need to use the low-level library to interact with SageMaker since the SageMaker API\n",
    "# is not available natively through Lambda.\n",
    "import boto3\n",
    "\n",
    "# And we need the regular expression library to do some of the data processing\n",
    "import re\n",
    "\n",
    "REPLACE_NO_SPACE = re.compile(\"(\\.)|(\\;)|(\\:)|(\\!)|(\\')|(\\?)|(\\,)|(\\\")|(\\()|(\\))|(\\[)|(\\])\")\n",
    "REPLACE_WITH_SPACE = re.compile(\"(<br\\s*/><br\\s*/>)|(\\-)|(\\/)\")\n",
    "\n",
    "def review_to_words(review):\n",
    "    words = REPLACE_NO_SPACE.sub(\"\", review.lower())\n",
    "    words = REPLACE_WITH_SPACE.sub(\" \", words)\n",
    "    return words\n",
    "    \n",
    "def bow_encoding(words, vocabulary):\n",
    "    bow = [0] * len(vocabulary) # Start by setting the count for each word in the vocabulary to zero.\n",
    "    for word in words.split():  # For each word in the string\n",
    "        if word in vocabulary:  # If the word is one that occurs in the vocabulary, increase its count.\n",
    "            bow[vocabulary[word]] += 1\n",
    "    return bow\n",
    "\n",
    "\n",
    "def lambda_handler(event, context):\n",
    "    \n",
    "    vocab = \"*** ACTUAL VOCABULARY GOES HERE ***\"\n",
    "    \n",
    "    words = review_to_words(event['body'])\n",
    "    bow = bow_encoding(words, vocab)\n",
    "\n",
    "    # The SageMaker runtime is what allows us to invoke the endpoint that we've created.\n",
    "    runtime = boto3.Session().client('sagemaker-runtime')\n",
    "\n",
    "    # Now we use the SageMaker runtime to invoke our endpoint, sending the review we were given\n",
    "    response = runtime.invoke_endpoint(EndpointName = '***ENDPOINT NAME HERE***',# The name of the endpoint we created\n",
    "                                       ContentType = 'text/csv',                 # The data format that is expected\n",
    "                                       Body = ','.join([str(val) for val in bow]).encode('utf-8')) # The actual review\n",
    "\n",
    "    # The response is an HTTP response whose body contains the result of our inference\n",
    "    result = response['Body'].read().decode('utf-8')\n",
    "    \n",
    "    # Round the result so that our web app only gets '1' or '0' as a response.\n",
    "    result = round(float(result))\n",
    "\n",
    "    return {\n",
    "        'statusCode' : 200,\n",
    "        'headers' : { 'Content-Type' : 'text/plain', 'Access-Control-Allow-Origin' : '*' },\n",
    "        'body' : str(result)\n",
    "    }\n",
    "```"
   ]
  },
  {
   "cell_type": "markdown",
   "metadata": {},
   "source": [
    "Once you have copy and pasted the code above into the Lambda code editor, replace the `**ENDPOINT NAME HERE**` portion with the name of the endpoint that we deployed earlier. You can determine the name of the endpoint using the code cell below."
   ]
  },
  {
   "cell_type": "code",
   "execution_count": 7,
   "metadata": {},
   "outputs": [
    {
     "ename": "NameError",
     "evalue": "name 'xgb_predictor' is not defined",
     "output_type": "error",
     "traceback": [
      "\u001b[0;31m---------------------------------------------------------------------------\u001b[0m",
      "\u001b[0;31mNameError\u001b[0m                                 Traceback (most recent call last)",
      "\u001b[0;32m<ipython-input-7-94428851143c>\u001b[0m in \u001b[0;36m<module>\u001b[0;34m\u001b[0m\n\u001b[0;32m----> 1\u001b[0;31m \u001b[0mxgb_predictor\u001b[0m\u001b[0;34m.\u001b[0m\u001b[0mendpoint\u001b[0m\u001b[0;34m\u001b[0m\u001b[0;34m\u001b[0m\u001b[0m\n\u001b[0m",
      "\u001b[0;31mNameError\u001b[0m: name 'xgb_predictor' is not defined"
     ]
    }
   ],
   "source": [
    "xgb_predictor.endpoint"
   ]
  },
  {
   "cell_type": "markdown",
   "metadata": {},
   "source": [
    "In addition, you will need to copy the vocabulary dict to the appropriate place in the code at the beginning of the `lambda_handler` method. The cell below prints out the vocabulary dict in a way that is easy to copy and paste."
   ]
  },
  {
   "cell_type": "code",
   "execution_count": 53,
   "metadata": {},
   "outputs": [
    {
     "name": "stdout",
     "output_type": "stream",
     "text": [
      "{'those': 4460, 'of': 3083, 'the': 4426, 'instant': 2305, 'era': 1513, 'horror': 2168, 'films': 1721, 'will': 4886, 'no': 3020, 'doubt': 1332, 'complain': 919, 'about': 67, 'this': 4457, 'pace': 3161, 'and': 226, 'lack': 2502, 'gratuitous': 1961, 'effects': 1431, 'body': 527, 'count': 1010, 'fact': 1621, 'is': 2360, 'empty': 1465, 'good': 1937, 'example': 1553, 'how': 2181, 'independent': 2272, 'should': 3951, 'be': 418, 'done': 1322, 'if': 2222, 'you': 4986, 'avoid': 363, 'indie': 2276, 'because': 432, 'are': 285, 'tired': 4501, 'annoying': 249, 'teens': 4392, 'or': 3124, 'twenty': 4612, 'getting': 1901, 'killed': 2469, 'by': 642, 'some': 4061, 'whose': 4877, 'back': 378, 'story': 4207, 'could': 1007, 'have': 2052, 'come': 886, 'off': 3084, 'box': 555, 'movie': 2926, 'for': 1784, 'set': 3898, 'in': 2257, 'rural': 3758, 'american': 213, 'dream': 1354, 'tale': 4353, 'young': 4989, 'couple': 1016, 'struggling': 4236, 'with': 4911, 'their': 4431, 'six': 4010, 'month': 2896, 'old': 3100, 'baby': 376, 'as': 311, 'couples': 1017, 'weak': 4824, 'relationship': 3597, 'falls': 1640, 'apart': 264, 'larger': 2519, 'plays': 3301, 'out': 3141, 'background': 380, 'at': 331, 'night': 3013, 'dark': 1115, 'mass': 2753, 'from': 1840, 'sun': 4292, 'on': 3105, 'farm': 1656, 'seemingly': 3863, 'anything': 260, 'its': 2370, 'path': 3209, 'leaving': 2557, 'sign': 3970, 'that': 4424, 'it': 2366, 'was': 4805, 'ever': 1538, 'there': 4438, 'film': 1716, 'loaded': 2632, 'characters': 760, 'visual': 4757, 'clues': 865, 'to': 4507, 'what': 4858, 'happening': 2028, 'ends': 1474, 'well': 4843, 'executed': 1565, 'ending': 1471, 'just': 2437, 'enough': 1491, 'left': 2561, 'over': 3148, 'questions': 3489, 'writer': 4968, 'directors': 1266, 'faith': 1633, 'an': 223, 'intellectual': 2312, 'audience': 352, 'seems': 3864, 'sub': 4252, 'text': 4419, 'concerning': 933, 'death': 1141, 'but': 636, 'would': 4957, 'hardly': 2036, 'call': 651, 'riveting': 3708, 'acted': 98, 'technically': 4382, 'fantastic': 1651, 'little': 2624, 'thinking': 4453, 'fans': 1650, 'love': 2669, 'major': 2711, 'league': 2549, 'franchise': 1817, 'live': 2625, 'even': 1533, 'cant': 671, 'believe': 454, 'they': 4442, 'yes': 4982, 'realize': 3552, 'time': 4495, 'real': 3547, 'indians': 2275, 'were': 4848, 'pretty': 3384, 'twins': 4616, 'had': 2003, 'taken': 4350, 'spot': 4131, 'bottom': 551, 'still': 4188, 'consistent': 953, 'anyway': 261, 'loved': 2670, 'first': 1736, 'liked': 2600, 'second': 3846, 'always': 203, 'looked': 2647, 'forward': 1808, 'third': 4455, 'when': 4862, 'finally': 1724, 'go': 1924, 'all': 187, 'way': 4820, 'series': 3890, 'tell': 4395, 'me': 2778, 'wasnt': 4807, 'plan': 3287, 'after': 143, 'happened': 2027, 'anyways': 262, 'your': 4991, 'true': 4596, 'fan': 1648, 'original': 3129, 'do': 1302, 'yourself': 4993, 'favor': 1670, 'dont': 1324, 'watch': 4811, 'junk': 2436, 'okay': 3099, 'rules': 3754, 'without': 4913, 'question': 3487, 'one': 3107, 'most': 2909, 'inept': 2281, 'pieces': 3273, 'cinema': 816, 'made': 2697, 'absolutely': 72, 'terrible': 4407, 'gotta': 1946, 'see': 3855, 'rent': 3626, 'buddies': 608, 'up': 4683, 'drinking': 1362, 'game': 1864, 'fun': 1848, 'hilarious': 2106, 'behind': 447, 'scenes': 3811, 'proves': 3447, 'can': 665, 'paper': 3183, 'finger': 1731, 'paint': 3173, 'awesome': 371, 'scene': 3809, 'two': 4620, 'actually': 109, 'walking': 4779, 'place': 3282, 'minutes': 2859, 'shot': 3949, 'director': 1264, 'commentary': 899, 'says': 3801, 'yeah': 4977, 'so': 4046, 'smooth': 4041, 'looks': 2649, 'like': 2599, 'theyre': 4445, 'right': 3696, 'man': 2721, 'totally': 4532, 'funny': 1852, 'based': 404, 'tom': 4514, 'novel': 3052, 'not': 3040, 'read': 3543, 'yet': 4984, 'hanks': 2025, 'stars': 4155, 'wall': 4781, 'who': 4871, 'accidentally': 85, 'kills': 2474, 'black': 493, 'boy': 557, 'while': 4868, 'lost': 2660, 'bad': 382, 'part': 3193, 'nyc': 3065, 'willis': 4890, 'reporter': 3636, 'starts': 4159, 'his': 2118, 'very': 4723, 'thin': 4449, 'empathy': 1462, 'anyone': 259, 'comedy': 890, 'satire': 3788, 'arent': 288, 'lot': 2661, 'laughs': 2534, 'her': 2085, 'breasts': 572, 'during': 1387, 'filming': 1718, 'thing': 4450, 'change': 749, 'size': 4012, 'different': 1248, 'parts': 3199, 'keep': 2449, 'mind': 2849, 'other': 3135, 'things': 4451, 'script': 3834, 'humor': 2192, 'scale': 3802, 'viewing': 4740, 'show': 3953, 'may': 2775, 'start': 4156, 'wondering': 4930, 'alternate': 200, 'reality': 3551, 'colorful': 878, 'imaginative': 2237, 'entertaining': 1499, 'dialogue': 1234, 'plots': 3310, 'seem': 3861, 'depth': 1190, 'them': 4432, 'creating': 1039, 'suspense': 4330, 'drama': 1346, 'times': 4497, 'mean': 2779, 'childrens': 793, 'same': 3778, 'has': 2043, 'brought': 600, 'kids': 2467, 'such': 4268, 'pokemon': 3320, 'ann': 244, 'mighty': 2836, 'power': 3359, 'rangers': 3517, 'please': 3304, 'note': 3044, 'three': 4469, 'titles': 4506, 'mentioned': 2811, 'above': 68, 'japanese': 2382, 'fox': 1814, 'network': 3000, 'entertainment': 1500, 'worry': 4950, 'quality': 3484, 'fare': 1655, 'available': 361, 'late': 2523, '1980s': 21, 'early': 1400, '1990s': 25, 'examples': 1554, 'period': 3236, 'friends': 1837, 'captain': 674, 'cops': 993, 'cartoon': 704, 'confused': 941, 'action': 100, 'besides': 468, 'these': 4441, 'prime': 3395, 'disney': 1289, 'also': 199, 'returned': 3666, 'coming': 896, 'called': 652, 'afternoon': 144, 'aside': 315, 'down': 1335, 'bears': 421, 'shows': 3960, 'tales': 4357, 'rescue': 3643, 'gave': 1875, 'animation': 242, 'turning': 4608, 'theatrical': 4430, 'classics': 837, 'beauty': 430, 'beast': 422, 'under': 4639, 'great': 1964, 'mouse': 2919, 'detective': 1220, 'wonders': 4931, 'shines': 3932, 'hour': 2176, 'thrill': 4471, 'ride': 3692, 'won': 4925, 'much': 2934, 'my': 2951, 'delight': 1167, 'rest': 3657, 'episodes': 1508, 'par': 3184, 'promise': 3430, 'enjoy': 1484, 'guess': 1989, 'greatest': 1966, 'attraction': 350, 'theres': 4440, 'female': 1693, 'full': 1846, 'pre': 3365, 'teen': 4388, 'support': 4303, 'frank': 1821, 'since': 3990, 'star': 4150, 'trek': 4578, 'molly': 2884, 'cute': 1090, 'witty': 4917, 'child': 789, 'course': 1019, 'middle': 2833, 'whom': 4875, 'describe': 1194, 'version': 4720, 'james': 2378, 'bond': 532, 'whenever': 4863, 'trouble': 4592, 'saves': 3796, 'day': 1129, 'than': 4420, 'sea': 3838, 'martin': 2748, 'every': 1539, 'villains': 4745, 'doesnt': 1309, 'disappoint': 1272, 'here': 2086, 'either': 1438, 'failing': 1627, 'air': 164, 'don': 1320, 'soviet': 4089, 'music': 2946, 'appropriate': 283, 'finest': 1730, 'offer': 3087, 'whole': 4873, 'family': 1645, 'disappointment': 1275, 'direction': 1261, 'plot': 3309, 'dealt': 1138, 'subject': 4253, 'painting': 3175, 'slow': 4031, 'moving': 2928, 'episode': 1507, 'wonder': 4926, 'years': 4979, 'appalling': 268, 'though': 4461, 'fails': 1628, 'deliver': 1169, 'message': 2819, 'convincing': 985, 'manner': 2729, 'approach': 282, 'limited': 2606, 'vague': 4705, 'terms': 4406, 'according': 88, 'makers': 2715, 'only': 3110, 'experienced': 1581, 'bob': 524, 'style': 4249, 'landscape': 2513, 'art': 304, 'achieved': 93, 'basic': 406, 'primary': 3394, 'school': 3813, 'level': 2584, 'color': 877, 'theory': 4437, 'lots': 2662, 'eg': 1434, 'point': 3316, 'stated': 4161, 'rather': 3528, 'dancing': 1107, 'mentally': 2809, 'people': 3221, 'capable': 672, 'having': 2054, 'emotions': 1461, 'through': 4477, 'works': 4945, 'definition': 1163, 'being': 448, 'worthless': 4954, 'quote': 3496, 'understand': 4643, 'get': 1899, 'high': 2100, 'rating': 3529, 'then': 4436, 'again': 146, 'far': 1653, 'many': 2732, 'rated': 3527, 'chose': 804, 'low': 2676, 'welcome': 4842, 'slight': 4027, 'difference': 1246, 'sheriff': 3929, 'really': 3556, 'satan': 3787, 'spoiler': 4123, 'wouldnt': 4958, 'figure': 1711, '10': 0, 'oh': 3096, 'thats': 4425, 'turns': 4609, 'son': 4070, 'named': 2961, 'trying': 4601, 'him': 2110, 'battle': 414, 'buck': 605, 'knows': 2493, 'likes': 2602, 'spend': 4105, 'teaching': 4377, 'ways': 4822, 'darkness': 1117, 'subtle': 4260, 'he': 2056, 'evil': 1548, 'hes': 2093, 'hero': 2088, 'everyone': 1542, 'big': 478, 'often': 3095, 'sets': 3899, 'think': 4452, 'someone': 4064, 'take': 4349, 'comes': 891, 'nowhere': 3056, 'favorite': 1671, 'lucas': 2680, 'woods': 4935, 'cabin': 643, 'guys': 2001, 'guns': 1998, 'decided': 1149, 'rob': 3710, 'used': 4693, 'excuse': 1564, 'teach': 4374, 'lesson': 2577, 'ted': 4386, 'shoot': 3942, 'told': 4513, 'half': 2007, 'now': 3054, 'never': 3001, 'become': 433, 'criminal': 1057, 'started': 4157, 'calling': 653, 'criminals': 1058, 'stayed': 4167, 'steps': 4177, 'ahead': 159, 'complete': 921, 'control': 977, 'excellent': 1555, 'twilight': 4614, 'zone': 4999, 'circle': 821, 'fear': 1676, 'gothic': 1945, 'supernatural': 4302, 'company': 910, 'pleasantly': 3303, 'surprised': 4313, 'lets': 2580, 'face': 1616, 'premise': 3370, 'sound': 4081, 'particularly': 3195, 'appealing': 272, 'hand': 2015, 'money': 2888, 'nights': 3016, 'flick': 1754, 'nature': 2975, 'wins': 4899, 'moments': 2887, 'found': 1811, 'any': 256, 'ill': 2228, 'remember': 3616, 'next': 3007, 'fail': 1625, 'nice': 3008, 'watching': 4815, 'chinese': 796, 'girlfriend': 1910, 'bring': 585, 'london': 2641, 'satisfying': 3791, 'going': 1931, 'camera': 659, 'which': 4867, 'id': 2212, 'been': 438, 'expecting': 1578, 'reading': 3544, 'number': 3060, 'comments': 901, 'exception': 1557, 'however': 2183, 'intended': 2315, 'everything': 1544, 'said': 3774, 'feature': 1678, 'friendship': 1838, 'wanting': 4790, 'fit': 1740, 'sexual': 3908, 'feelings': 1686, 'more': 2904, 'swimming': 4338, 'girls': 1911, 'try': 4600, 'find': 1726, 'express': 1600, 'personality': 3242, 'less': 2575, 'violent': 4748, 'understanding': 4645, 'teenage': 4389, 'compared': 912, 'say': 3799, 'worthwhile': 4955, 'trip': 4588, 'nonetheless': 3029, 'must': 2950, 'leave': 2555, 'door': 1328, 'soundtrack': 4085, 'thought': 4462, 'videos': 4734, 'corporate': 998, 'tedious': 4387, 'went': 4847, 'fast': 1661, 'somewhat': 4068, 'cheesy': 781, 'turned': 4606, 'into': 2332, 'endless': 1473, 'waste': 4808, 'cars': 702, 'picture': 3269, 'pool': 3327, 'needs': 2990, 'answer': 251, 'phone': 3255, 'matrix': 2767, 'doing': 1312, 'job': 2405, 'sitting': 4007, 'yellow': 4981, 'room': 3735, 'something': 4066, 'exciting': 1563, 'happen': 2026, 'hopes': 2159, 'best': 469, 'famous': 1647, 'tv': 4610, 'personalities': 3241, 'composed': 926, 'large': 2517, 'close': 853, 'given': 1913, 'gets': 1900, 'able': 66, 'finish': 1732, 'cure': 1081, 'didnt': 1242, 'costs': 1004, 'total': 4531, 'disaster': 1276, 'interesting': 2325, 'stylish': 4251, 'touches': 4535, 'alert': 178, 'comic': 893, 'bit': 488, 'delivers': 1172, 'handled': 2019, 'nicely': 3009, 'especially': 1520, 'demon': 1177, 'glad': 1916, 'got': 1944, 'dvd': 1391, 'cheap': 774, 'store': 4204, 'business': 633, 'awful': 372, 'bought': 552, 'soul': 4079, 'survivors': 4325, 'both': 547, 'movies': 2927, 'similarly': 3980, 'constant': 957, 'where': 4864, 'nothing': 3047, 'make': 2713, 'sense': 3877, 'least': 2554, 'notes': 3046, 'nightmares': 3015, 'happens': 2029, 'between': 475, 'creative': 1041, 'gore': 1941, 'unbearable': 4633, 'showing': 3958, 'jesus': 2399, 'tortured': 4530, 'laughed': 2532, 'played': 3297, 'serious': 3891, 'necessary': 2984, 'kind': 2476, 'attracted': 349, 'usually': 4700, 'hollywood': 2137, 'took': 4523, 'attempting': 342, 'fill': 1714, 'impossible': 2249, 'might': 2835, 'argue': 290, 'explained': 1587, 'against': 147, 'portrayed': 3342, 'main': 2707, 'driver': 1366, 'jewish': 2401, 'idea': 2213, 'seemed': 3862, 'comment': 898, 'mark': 2739, 'believed': 455, 'john': 2409, 'garden': 1872, 'pulled': 3462, 'ran': 3513, 'away': 369, 'naked': 2959, 'feeling': 1685, 'tried': 4584, 'accurate': 90, 'spirit': 4113, 'possible': 3350, 'robert': 3713, 'taylor': 4372, 'definitely': 1162, 'showed': 3956, 'himself': 2111, 'fine': 1729, 'dramatic': 1348, 'actor': 103, 'role': 3726, 'gun': 1996, 'hunter': 2199, 'western': 4853, 'few': 1700, 'play': 3296, 'heavy': 2070, 'shortly': 3947, 'television': 4394, 'successful': 4266, 'british': 589, 'accent': 78, 'performance': 3228, 'partner': 3198, 'hatred': 2049, 'another': 250, 'veteran': 4724, 'lloyd': 2630, 'aged': 149, 'joined': 2413, 'hunt': 2198, 'walter': 4784, 'oscar': 3133, 'winning': 4898, 'treasure': 4571, 'appearance': 274, 'following': 1774, 'year': 4978, 'join': 2412, 'writing': 4971, 'stiff': 4187, 'end': 1468, 'elements': 1443, 'did': 1241, 'jimmy': 2403, 'stewart': 4184, 'anthony': 253, 'mann': 2728, 'westerns': 4854, 'spectacular': 4101, 'canadian': 667, 'serve': 3893, 'backdrop': 379, 'cinematography': 820, 'history': 2121, 'five': 1743, 'together': 4511, 'supporting': 4304, 'roles': 3727, 'perfectly': 3226, 'cast': 710, 'lines': 2612, 'cynical': 1093, 'hard': 2033, 'friend': 1835, 'sidekick': 3966, 'hands': 2020, 'makes': 2716, 'want': 4788, 'free': 1827, 'gold': 1932, 'process': 3412, 'head': 2057, 'villain': 4744, 'piece': 3272, 'appreciated': 280, 'vast': 4716, 'range': 3516, 'delightful': 1168, 'authority': 360, 'figures': 1713, 'case': 707, 'nasty': 2968, 'worst': 4952, 'actors': 104, 'seen': 3865, 'character': 758, 'supposed': 4306, 'hip': 2114, 'village': 4743, 'martial': 2747, 'arts': 310, 'proud': 3444, 'mysterious': 2955, 'why': 4878, 'plain': 3286, 'horrible': 2163, 'know': 2489, 'before': 440, 'misses': 2868, 'target': 4366, 'lame': 2510, 'jokes': 2415, 'already': 197, 'gross': 1978, 'toilet': 4512, 'pie': 3271, 'list': 2617, 'goes': 1930, 'sequence': 3887, 'eric': 1514, 'none': 3028, '30': 42, 'seconds': 3848, 'later': 2525, 'editing': 1421, 'worth': 4953, 'wasted': 4809, 'shots': 3950, 'four': 1812, 'male': 2719, 'tight': 4492, 'group': 1980, 'world': 4946, 'laugh': 2529, 'bathroom': 412, 'means': 2783, 'solid': 4057, 'around': 297, 'romantic': 3733, 'steve': 4181, 'thinks': 4454, 'portrayal': 3341, 'dating': 1120, 'cannot': 670, 'agree': 155, 'grew': 1972, 're': 3535, 'runs': 3757, 'hate': 2046, 'feel': 1684, 'gang': 1867, 'sad': 3767, 'scooby': 3820, 'doo': 1325, 'mystery': 2956, 'anime': 243, 'whats': 4860, 'new': 3003, 'give': 1912, 'danger': 1109, 'lose': 2654, 'sex': 3907, 'drug': 1373, 'generation': 1883, 'clue': 864, 'flat': 1748, 'crap': 1031, 'name': 2960, 'attached': 336, 'punk': 3468, 'theme': 4433, 'song': 4071, 'im': 2232, 'gonna': 1936, 'eyes': 1613, 'princess': 3397, 'finds': 1728, 'working': 4944, 'girl': 1909, 'small': 4033, 'kingdom': 2480, 'lies': 2591, 'france': 1816, 'italy': 2368, 'meet': 2793, 'europe': 1529, 'country': 1014, 'due': 1382, 'multi': 2935, 'dies': 1245, 'title': 4504, 'estate': 1525, 'america': 212, 'enter': 1494, 'learn': 2550, 'cheese': 780, 'industry': 2280, 'road': 3709, 'problems': 3409, 'financial': 1725, 'does': 1308, 'work': 4940, 'heres': 2087, 'hint': 2112, 'lover': 2672, 'jack': 2373, 'gotten': 1947, 'hold': 2129, 'secret': 3849, 'busy': 635, 'rock': 3720, 'hudson': 2184, 'advertising': 132, 'blend': 504, 'farce': 1654, 'once': 3106, 'side': 3965, 'beginning': 443, 'career': 686, 'heart': 2064, 'acting': 99, 'sadly': 3769, 'shown': 3959, 'morning': 2906, 'reason': 3557, 'too': 4522, 'intrigued': 2334, 'disappointed': 1273, 'foreign': 1790, 'looking': 2648, 'making': 2718, 'row': 3744, 'spanish': 4092, 'speaking': 4095, 'felt': 1692, 'necessarily': 2983, 'need': 2987, 'somehow': 4063, 'entertain': 1497, 'albeit': 173, 'extremely': 1610, 'ensemble': 1492, 'sure': 4308, 'easily': 1406, 'enjoyed': 1486, 'surprise': 4312, 'reputation': 3640, 'pure': 3471, 'perspective': 3245, 'absolute': 71, 'treat': 4572, 'analysis': 224, 'typical': 4623, 'particular': 3194, 'philosophical': 3253, 'themes': 4434, 'existence': 1571, 'whilst': 4869, 'psychological': 3458, 'pride': 3391, 'desire': 1205, 'ideas': 2215, 'accept': 80, 'person': 3238, 'changing': 752, 'outside': 3146, 'create': 1036, 'provoking': 3452, 'incredibly': 2270, '25': 40, 'faults': 1669, 'mainly': 2708, 'lay': 2542, 'shoes': 3941, 'ironically': 2356, 'unconvincing': 4638, 'throughout': 4478, 'memorable': 2802, 'shame': 3918, 'considering': 952, 'written': 4972, 'furthermore': 1854, 'sometimes': 4067, 'stand': 4143, 'probably': 3407, 'explains': 1589, 'accepted': 82, 'poor': 3328, 'performances': 3229, 'thankfully': 4422, 'spots': 4132, 'helping': 2081, 'previously': 3388, 'youre': 4992, 'classic': 835, 'science': 3816, 'fiction': 1702, 'shouldnt': 3952, 'addition': 118, 'features': 1680, 'photography': 3260, 'nearly': 2981, 'decent': 1147, 'design': 1202, 'overall': 3150, 'certainly': 738, 'talent': 4354, 'involved': 2346, 'talented': 4355, 'writers': 4969, 'unfortunately': 4654, 'couldnt': 1008, 'issues': 2365, 'segments': 3868, 'tone': 4517, 'others': 3136, 'secondly': 3847, 'several': 3905, 'stories': 4205, 'talking': 4360, 'happy': 2032, 'endings': 1472, 'development': 1225, 'draw': 1349, 'last': 2521, 'york': 4985, 'properly': 3437, 'short': 3946, 'interest': 2323, 'average': 362, 'viewer': 4738, 'steel': 4173, 'worker': 4942, 'father': 1666, '20th': 38, 'century': 736, 'twin': 4615, 'familys': 1646, 'mill': 2845, 'union': 4661, 'numbers': 3061, 'recently': 3567, 'plant': 3293, 'shut': 3961, 'doors': 1329, 'single': 3996, 'security': 3854, 'guard': 1988, 'newly': 3004, 'hanging': 2023, 'town': 4541, 'bar': 396, 'listening': 2620, 'sink': 3999, 'themselves': 4435, 'selling': 3873, 'personal': 3240, 'struggle': 4234, 'put': 3480, 'food': 1778, 'table': 4346, 'dedicated': 1153, 'lived': 2626, 'own': 3158, '35': 45, 'meanwhile': 2785, 'men': 2805, 'jobs': 2406, 'hop': 2154, 'desperate': 1208, 'search': 3841, 'changed': 750, 'wont': 4932, 'open': 3112, 'asks': 319, 'wrong': 4973, 'lifetime': 2594, 'church': 813, 'turn': 4605, 'hits': 2125, 'drunken': 1376, 'rage': 3505, 'sons': 4073, 'wife': 4884, 'floor': 1759, 'home': 2142, 'justify': 2439, 'workers': 4943, 'break': 569, 'fire': 1734, 'harder': 2035, 'lives': 2628, 'producing': 3417, 'top': 4525, 'manager': 2724, 'suddenly': 4273, 'tremendous': 4579, 'came': 656, 'days': 1130, 'realizing': 3555, 'production': 3419, 'forced': 1787, 'prove': 3445, 'decades': 1145, 'honesty': 2148, 'meaning': 2780, 'produce': 3413, 'we': 4823, 'eye': 1611, 'takes': 4351, 'look': 2646, 'south': 4087, 'promising': 3433, 'powerful': 3360, 'honest': 2146, 'treatment': 4574, 'plight': 3308, 'competition': 918, 'gives': 1914, 'realistic': 3550, 'view': 4736, 'bear': 420, 'greedy': 1969, 'peter': 3247, 'gary': 1873, 'cole': 873, 'college': 875, 'brother': 598, 'pamela': 3179, 'reed': 3580, 'sympathetic': 4342, 'dying': 1393, 'reasons': 3560, 'extreme': 1609, 'amount': 219, 'spent': 4108, 'pleasure': 3306, 'chance': 747, 'loose': 2650, 'kill': 2468, 'video': 4733, 'shop': 3945, 'assistant': 326, 'laughing': 2533, 'ask': 316, 'prepared': 3371, 'wooden': 4934, 'oliver': 3102, 'grand': 1953, 'playing': 3300, 'drunk': 1375, 'wait': 4770, 'forgot': 1796, 'chest': 784, 'bill': 481, 'aliens': 184, 'near': 2979, 'fame': 1642, 'surprises': 4314, 'debut': 1143, 'involves': 2348, 'fbi': 1675, 'agent': 150, 'powers': 3361, 'otherwise': 3137, 'chilling': 794, 'thriller': 4472, 'dad': 1095, 'allowing': 191, 'sort': 4077, 'vision': 4754, 'sent': 3880, 'god': 1926, 'telling': 4396, 'adam': 111, 'jeremy': 2394, 'demons': 1178, 'normal': 3033, 'gods': 1928, 'reflect': 3584, 'points': 3319, 'adds': 119, 'confusion': 943, 'flashback': 1746, 'grown': 1984, 'matthew': 2772, 'everyday': 1541, 'office': 3091, 'killer': 2470, 'twists': 4619, 'directs': 1267, 'keeping': 2450, 'us': 4690, 'guessing': 1991, 'losing': 2658, 'incredible': 2269, 'leads': 2548, 'murder': 2939, 'involving': 2349, 'isnt': 2362, 'documentary': 1307, 'roger': 3724, 'rich': 3685, 'factory': 1623, 'china': 795, 'sold': 4052, 'claims': 830, 'opportunities': 3120, 'provides': 3450, 'interviews': 2330, 'quite': 3495, 'bleak': 503, 'contrast': 975, 'bizarre': 492, 'itself': 2371, 'filmmaker': 1719, 'david': 1124, 'rare': 3523, 'footage': 1782, 'life': 2592, 'inside': 2297, 'landing': 2512, 'revealing': 3672, 'interview': 2329, 'clearly': 840, 'serves': 3895, 'purpose': 3474, 'window': 4894, 'co': 867, 'wrote': 4974, 'adult': 125, 'situations': 4009, 'line': 2610, 'mess': 2818, 'impressive': 2253, 'featured': 1679, 'moore': 2901, 'nelson': 2997, 'andrew': 228, 'notable': 3041, 'obnoxious': 3067, 'age': 148, 'damn': 1100, 'easy': 1410, 'knew': 2486, 'brothers': 599, 'teacher': 4375, 'enemies': 1476, 'each': 1395, 'artists': 309, 'important': 2247, 'better': 472, 'contains': 964, 'add': 115, 'wish': 4904, 'mention': 2810, 'lighting': 2596, 'storm': 4206, 'crazy': 1035, 'hell': 2077, 'killing': 2472, '15': 7, 'guy': 2000, 'dry': 1377, 'recommend': 3571, 'throwing': 4480, 'creature': 1045, 'basement': 405, 'wow': 4962, 'judy': 2426, 'shes': 3930, 'she': 3923, 'naturally': 2974, 'rough': 3741, 'victor': 4731, 'desperately': 1209, 'hitting': 2126, 'seeing': 3857, 'raising': 3509, 'saw': 3798, 'long': 2644, 'refreshing': 3586, 'filmed': 1717, 'simple': 3983, 'paced': 3162, 'urban': 4688, 'maybe': 2776, 'kevin': 2457, 'smith': 4038, 'youll': 4988, 'statement': 4162, 'joseph': 2419, 'stood': 4199, 'believes': 456, 'current': 1084, 'media': 2789, 'certain': 737, 'warren': 4801, 'associated': 327, 'groups': 1981, 'asked': 317, 'ironic': 2355, 'leader': 2546, 'obvious': 3071, 'differences': 1247, 'humanity': 2189, 'views': 4742, 'opinions': 3119, 'greatly': 1967, 'devils': 1229, 'children': 792, 'horse': 2170, 'african': 142, 'former': 1800, 'slave': 4022, 'buy': 640, 'freedom': 1828, 'emma': 1457, 'member': 2800, 'until': 4680, 'tells': 4397, 'chooses': 800, 'stay': 4166, 'husband': 2204, 'help': 2079, 'wives': 4918, 'front': 1841, 'class': 833, 'students': 4239, 'painfully': 3172, 'till': 4493, 'law': 2538, 'aid': 160, 'government': 1948, 'thumbs': 4485, 'nose': 3037, 'act': 97, 'christ': 807, 'marriage': 2743, 'our': 3139, 'portray': 3340, 'covered': 1023, 'mere': 2814, 'producers': 3416, 'season': 3843, 'sell': 3871, 'loyal': 2679, 'waited': 4771, 'return': 3665, 'tape': 4365, 'thank': 4421, 'broken': 594, 'developing': 1224, 'steven': 4182, 'campbell': 663, 'scott': 3824, 'am': 204, 'sorry': 4076, 'excited': 1561, '2005': 35, 'mini': 2854, 'directed': 1259, 'watched': 4813, 'mixed': 2877, 'bag': 384, 'learning': 2552, 'figured': 1712, 'shock': 3938, 'cat': 713, 'starring': 4154, 'jeffrey': 2391, 'loss': 2659, 'sounds': 4084, 'hope': 2155, 'holding': 2130, 'breath': 573, 'held': 2074, 'presumably': 3380, 'effect': 1428, 'exaggerated': 1552, 'motion': 2913, 'meant': 2784, 'expect': 1575, 'cinematographer': 819, 'distracting': 1297, 'considered': 951, 'unwatchable': 4682, 'torture': 4529, 'hadnt': 2004, 'suggest': 4280, 'giving': 1915, 'miss': 2866, 'unless': 4669, 'rid': 3690, 'eaten': 1412, 'response': 3654, 'genre': 1888, 'masterpiece': 2759, 'jaws': 2385, 'species': 4098, 'shark': 3921, 'bull': 619, 'white': 4870, 'known': 2492, 'areas': 287, 'humans': 2190, 'onto': 3111, 'granted': 1957, 'repeatedly': 3632, 'pointed': 3317, 'behavior': 446, 'odds': 3082, 'whale': 4857, 'destroying': 1215, 'human': 2188, 'dozen': 1338, 'thick': 4447, 'north': 3036, 'knowing': 2490, 'aforementioned': 139, 'water': 4816, 'reach': 3536, 'laughable': 2530, 'knock': 2488, 'frequently': 1832, 'below': 462, 'boat': 523, 'blatant': 502, 'rip': 3700, 'lousy': 2667, 'ridiculous': 3693, 'masters': 2761, 'university': 4667, 'stupid': 4247, 'weeks': 4839, 'sucks': 4271, 'abc': 63, 'ones': 3108, 'ratings': 3530, 'truly': 4597, 'relate': 3593, 'delivered': 1170, 'trust': 4598, 'entire': 1502, 'everyones': 1543, 'wanted': 4789, 'laura': 2536, 'else': 1448, 'cinemas': 817, 'suffered': 4276, 'cable': 644, 'myself': 2953, 'wasting': 4810, 'ticket': 4487, 'kenneth': 2455, 'branagh': 564, 'producer': 3415, 'alone': 194, 'travesty': 4570, 'longer': 2645, 'michael': 2829, 'caine': 647, 'lead': 2545, 'marvelous': 2750, '1972': 18, 'intent': 2318, 'olivier': 3103, 'nominated': 3025, 'oscars': 3134, 'brando': 566, 'godfather': 1927, 'displays': 1293, 'butler': 637, 'guest': 1992, 'atrocious': 335, 'remake': 3612, 'carter': 703, 'ii': 2226, 'king': 2479, 'inane': 2258, 'adaptation': 113, 'frequent': 1831, 'added': 116, 'angle': 236, 'absence': 70, 'relies': 3606, 'rate': 3526, 'neither': 2996, 'shadows': 3913, 'nor': 3032, 'ups': 4686, 'overcome': 3151, 'dull': 1384, 'screen': 3829, 'persona': 3239, 'result': 3660, 'failure': 1629, 'straight': 4210, 'almost': 193, 'forget': 1793, 'stage': 4139, 'regard': 3588, 'enterprise': 1495, 'mr': 2929, 'screenplay': 3831, 'grave': 1962, 'wishing': 4907, 'aired': 165, 'yesterday': 4983, 'check': 777, 'bruce': 602, 'paul': 3214, 'projects': 3428, 'related': 3594, 'batman': 413, 'animated': 241, 'jeff': 2390, 'along': 195, 'imagined': 2239, 'centers': 734, 'feels': 1687, 'stop': 4201, 'methods': 2825, 'secretly': 3851, 'troubles': 4594, 'revealed': 3671, 'weapons': 4829, 'solve': 4060, 'latest': 2526, 'operation': 3117, 'fairly': 1631, 'complex': 923, 'plus': 3311, 'sophisticated': 4075, 'mob': 2879, 'boss': 546, 'comics': 895, 'unlike': 4670, 'previous': 3387, 'designs': 1204, 'borrowed': 545, 'tim': 4494, 'burton': 630, 'rat': 3525, 'freak': 1824, 'subplot': 4255, 'carried': 698, 'forever': 1792, 'voice': 4761, 'standard': 4144, 'direct': 1258, 'mask': 2752, 'wayne': 4821, 'despite': 1211, 'running': 3756, '80': 58, 'manages': 2725, 'storyline': 4208, 'minor': 2857, 'loads': 2633, 'barbara': 397, 'gordon': 1940, 'robin': 3715, 'post': 3352, 'adventures': 131, 'kinda': 2477, 'fat': 1663, 'built': 618, 'model': 2880, 'awkward': 374, 'blue': 518, 'clark': 832, 'alike': 185, 'explanation': 1590, 'deal': 1135, 'safe': 3771, 'cut': 1089, 'hang': 2022, 'hurt': 2202, 'rental': 3627, 'drugs': 1374, 'crude': 1069, 'youve': 4995, 'cool': 989, 'wonderful': 4928, 'trash': 4565, 'acts': 107, 'belongs': 460, 'street': 4216, 'corner': 996, 'paid': 3169, 'ready': 3546, 'instead': 2307, 'worse': 4951, 'minute': 2858, 'taste': 4369, 'mouth': 2920, 'cause': 723, 'hours': 2177, 'dreadful': 1353, 'scientific': 3817, 'staff': 4138, 'dirty': 1268, 'spirited': 4114, 'living': 2629, 'folks': 1771, 'complicated': 925, 'survive': 4321, 'cgi': 740, 'dragon': 1344, 'spoilers': 4124, 'extra': 1606, 'scientist': 3818, 'skill': 4013, 'sinister': 3998, 'lab': 2501, 'scientists': 3819, 'shocked': 3939, 'apparently': 270, 'experiments': 1584, 'caught': 722, 'pants': 3182, 'ten': 4399, 'escape': 1517, 'defeat': 1157, 'gray': 1963, 'popular': 3333, 'special': 4097, 'difficult': 1249, 'details': 1219, 'blob': 507, 'bunch': 623, 'easier': 1405, 'various': 4715, 'attempts': 343, 'hide': 2097, 'etc': 1527, 'dean': 1139, 'unknown': 4668, 'dumb': 1385, 'amateurish': 207, 'originally': 3131, 'reviewer': 3677, 'bugs': 613, 'visuals': 4759, 'ignore': 2224, 'completely': 922, 'nuts': 3064, 'hiding': 2099, 'begin': 442, 'appreciate': 279, 'humour': 2194, 'wrapped': 4964, 'frame': 1815, 'visually': 4758, 'heck': 2071, 'intentions': 2321, 'indeed': 2271, 'book': 535, 'beautiful': 428, 'candy': 668, 'blade': 495, 'tree': 4576, 'rain': 3506, 'technology': 4385, 'amazing': 209, 'lips': 2615, 'explosion': 1596, 'movement': 2923, 'wise': 4903, 'brain': 562, 'theatre': 4429, 'crew': 1053, 'touching': 4536, 'intriguing': 2335, 'generally': 1881, 'general': 1880, 'hit': 2122, 'words': 4938, 'exactly': 1551, 'subtlety': 4261, 'mostly': 2910, 'mistake': 2871, 'crush': 1072, 'fallen': 1638, 'frustrated': 1842, 'listen': 2619, 'care': 684, 'social': 4049, 'moment': 2886, 'responsibility': 3655, 'crowd': 1067, 'success': 4265, 'final': 1722, 'pan': 3180, 'toy': 4542, 'likely': 2601, 'multiple': 2936, 'missing': 2869, 'detail': 1217, 'considerable': 950, 'pretend': 3381, 'seed': 3856, 'represented': 3638, 'commercial': 902, '1980': 20, 'strong': 4229, 'suspenseful': 4331, 'mafia': 2700, 'score': 3822, 'war': 4792, 'battles': 415, 'saturday': 3792, 'worked': 4941, 'oddly': 3081, 'taking': 4352, 'rooms': 3736, 'chase': 769, 'violence': 4747, 'basis': 408, 'underground': 4640, 'creepy': 1052, 'deeper': 1155, 'rats': 3531, 'source': 4086, 'seventies': 3904, 'aka': 168, 'raw': 3532, 'meat': 2787, 'featuring': 1681, 'werewolf': 4850, 'pleased': 3305, 'atmosphere': 333, 'recent': 3566, 'uk': 4626, 'creep': 1051, 'highly': 2105, 'effective': 1429, 'credit': 1049, 'genuinely': 1892, 'followed': 1773, 'streets': 4217, 'downhill': 1336, 'opening': 3114, 'impression': 2252, 'herself': 2092, 'monster': 2892, 'remotely': 3623, 'scary': 3807, 'reveals': 3673, 'craig': 1030, 'type': 4621, 'reminds': 3620, 'infamous': 2284, 'graphic': 1958, 'disturbing': 1300, 'unnecessary': 4672, 'merely': 2815, 'value': 4709, 'horrific': 2166, 'halfway': 2008, 'redeeming': 3577, 'ken': 2453, 'favourite': 1673, 'occasional': 3074, 'casting': 711, 'inspector': 2299, 'genius': 1887, 'evident': 1547, 'japan': 2381, '16': 8, 'begins': 444, 'parents': 3188, 'died': 1244, 'situation': 4008, 'aunt': 355, 'arrival': 299, 'discovers': 1281, 'older': 3101, 'humble': 2191, 'circumstances': 822, 'despair': 1207, 'soon': 4074, 'strength': 4219, 'events': 1536, 'thousands': 4466, 'asian': 314, 'woman': 4921, 'married': 2744, 'location': 2635, 'breathtaking': 574, 'narrator': 2967, 'silent': 3975, 'insight': 2298, 'culture': 1079, 'across': 96, 'ocean': 3079, 'castle': 712, 'blood': 512, 'although': 201, 'reviewers': 3678, 'odd': 3080, 'theaters': 4428, 'ago': 154, 'web': 4833, 'spider': 4109, 'del': 1165, 'starred': 4153, 'perhaps': 3235, 'wished': 4905, 'audiences': 353, 'italian': 2367, 'la': 2500, 'edgar': 1417, 'allen': 188, 'appears': 278, 'lord': 2652, 'owner': 3159, 'haunted': 2050, 'bet': 470, 'alan': 171, 'foster': 1809, 'george': 1893, 'souls': 4080, 'witness': 4914, 'murders': 2943, 'committed': 905, 'ghosts': 1903, 'doomed': 1327, 'crimes': 1056, 'needed': 2988, 'fall': 1637, 'romance': 3732, 'tragedy': 4551, 'atmospheric': 334, 'standards': 4145, 'opinion': 3118, 'anybody': 257, 'greater': 1965, 'modern': 2882, 'enters': 1496, 'treated': 4573, 'building': 615, 'ghost': 1902, 'thoroughly': 4459, 'dance': 1103, 'similar': 3978, 'viewers': 4739, 'hear': 2061, 'copy': 994, 'purchased': 3470, 'anywhere': 263, 'persons': 3244, 'interested': 2324, 'expected': 1577, 'glory': 1922, 'pictures': 3270, 'occurred': 3077, 'trade': 4547, 'september': 3884, '11': 2, '2001': 31, 'french': 1830, 'filmmakers': 1720, 'ranks': 3519, 'remind': 3618, 'regular': 3592, 'loses': 2657, 'edge': 1418, 'suspect': 4327, 'gas': 1874, 'plane': 3288, 'fly': 1763, 'reveal': 3670, 'jet': 2400, 'importance': 2246, 'stays': 4169, 'possibly': 3351, 'allow': 189, 'follow': 1772, 'follows': 1775, 'reactions': 3542, 'silence': 3974, 'hearing': 2063, 'buildings': 616, 'captures': 678, 'event': 1535, 'simply': 3986, 'deserves': 1201, 'genuine': 1891, 'brings': 587, 'wave': 4818, 'concern': 931, 'politics': 3326, 'religion': 3607, 'matter': 2769, 'ive': 2372, 'born': 544, 'grade': 1951, 'snl': 4044, 'die': 1243, 'painful': 3171, 'clips': 852, 'games': 1865, 'cover': 1022, 'ears': 1402, 'heard': 2062, 'nervous': 2999, 'quirky': 3493, 'academy': 77, 'award': 366, 'stretch': 4221, 'light': 2595, 'women': 4923, 'drew': 1360, 'chemistry': 782, 'past': 3207, 'ed': 1415, 'burns': 628, 'positive': 3346, 'goodness': 1938, 'taxi': 4371, 'fever': 1699, 'pitch': 3279, 'critical': 1062, 'ability': 65, 'starting': 4158, 'imagine': 2238, 'russell': 3761, 'australian': 357, 'soap': 4047, 'utterly': 4702, 'self': 3869, 'anti': 254, 'ideal': 2214, 'poorly': 3329, 'scripted': 3835, 'tiresome': 4502, 'presents': 3377, 'simplistic': 3985, 'adults': 126, 'teachers': 4376, 'doctors': 1305, 'bumbling': 622, 'monsters': 2893, 'horrors': 2169, 'plenty': 3307, 'screaming': 3827, 'literally': 2622, 'cave': 727, 'space': 4090, 'form': 1798, 'party': 3200, 'harris': 2038, 'outstanding': 3147, 'expressions': 1603, 'attitude': 346, 'local': 2634, 'whether': 4866, 'silly': 3976, 'songs': 4072, 'worthy': 4956, 'status': 4165, 'summary': 4290, 'fancy': 1649, 'moves': 2925, 'believable': 453, 'companion': 909, 'mood': 2898, 'eager': 1396, 'experience': 1580, 'emotionally': 1460, 'noticed': 3049, 'reviews': 3679, 'places': 3284, 'imdb': 2240, 'whatsoever': 4861, 'amateur': 206, 'comedies': 889, 'wanna': 4786, 'legend': 2564, 'budget': 610, 'mike': 2838, 'sexually': 3910, 'individual': 2277, 'moral': 2902, 'towards': 4540, 'sexuality': 3909, 'problem': 3408, 'dancers': 1105, 'innocence': 2293, 'hills': 2109, 'distance': 1294, 'ultimately': 4628, 'shooting': 3943, 'dead': 1132, 'scope': 3821, 'bound': 553, 'happily': 2030, 'nudity': 3059, 'ladies': 2506, 'awfully': 373, 'clothes': 860, 'fair': 1630, 'factor': 1622, 'pulling': 3463, 'degree': 1164, 'includes': 2263, 'lesbian': 2573, 'react': 3540, 'unfolds': 4651, 'amusing': 221, 'twist': 4617, 'twisted': 4618, 'focus': 1766, 'wit': 4908, 'alfred': 181, 'patrick': 3213, 'unusual': 4681, 'duo': 1386, 'stock': 4193, 'types': 4622, 'developed': 1223, 'subtitles': 4259, 'dialog': 1232, 'use': 4692, 'underrated': 4642, 'judging': 2425, 'members': 2801, 'slick': 4026, 'higher': 2101, 'scores': 3823, 'suicide': 4283, 'ruin': 3750, 'brains': 563, 'biggest': 480, 'mistakes': 2873, 'christian': 808, '45': 50, 'cost': 1003, 'system': 4345, 'zero': 4996, 'jean': 2389, 'dislike': 1288, 'dan': 1102, 'sat': 3786, 'led': 2558, 'uncomfortable': 4637, 'embarrassed': 1453, 'contrived': 976, 'pass': 3201, 'theater': 4427, 'texas': 4418, 'massacre': 2754, 'halloween': 2010, 'hammer': 2014, 'scared': 3805, '60s': 54, '70s': 56, 'rented': 3628, 'childhood': 790, 'slasher': 4020, 'zombies': 4998, '80s': 59, 'gone': 1935, 'eerie': 1427, 'stellar': 4174, 'brilliant': 583, 'fashioned': 1660, 'thrills': 4475, 'haunting': 2051, 'images': 2235, 'house': 2178, 'spooky': 4128, 'pacing': 3163, 'theyve': 4446, 'clichés': 846, 'weakest': 4825, 'scares': 3806, 'thoughts': 4464, 'lights': 2597, 'fooled': 1780, 'dvds': 1392, 'cats': 721, 'eventually': 1537, 'luck': 2681, 'scenery': 3810, 'sucked': 4270, 'kid': 2464, 'suppose': 4305, 'run': 3755, 'threatening': 4468, 'kicking': 2462, 'stick': 4185, 'survival': 4320, 'suffering': 4277, 'thru': 4483, 'divorce': 1301, 'eat': 1411, 'guilty': 1995, 'equally': 1510, 'individuals': 2278, 'predictable': 3367, 'unoriginal': 4673, '20': 29, 'served': 3894, 'citizen': 824, 'kane': 2442, 'bat': 410, 'walks': 4780, 'walk': 4775, 'superhero': 4299, 'outfit': 3144, 'daddy': 1096, 'grow': 1982, 'parent': 3187, 'loves': 2674, 'willing': 4889, 'provide': 3448, 'portraying': 3343, 'shed': 3924, 'tear': 4379, 'experiences': 1582, 'families': 1644, 'props': 3439, 'moody': 2899, 'develop': 1222, 'narrative': 2966, 'recommended': 3572, 'admittedly': 123, 'baseball': 403, 'sport': 4129, 'enjoying': 1487, 'relationships': 3598, 'emotional': 1459, 'date': 1118, 'ben': 463, 'red': 3576, 'team': 4378, 'devoted': 1231, 'florida': 1761, 'spring': 4134, 'training': 4558, 'square': 4136, 'apartment': 265, 'field': 1704, 'meets': 2795, 'endearing': 1469, 'initially': 2291, 'immediately': 2242, 'potential': 3355, 'severe': 3906, 'sticks': 4186, 'nurse': 3063, 'dogs': 1311, 'teeth': 4393, 'passed': 3202, 'bed': 436, 'asleep': 320, 'falling': 1639, 'choice': 797, 'beloved': 461, 'uncle': 4636, 'missed': 2867, 'winter': 4900, 'wants': 4791, 'holiday': 2134, 'boys': 559, 'summer': 4291, 'order': 3126, 'sports': 4130, 'buddy': 609, 'blond': 510, 'sarah': 3785, 'virtually': 4751, 'driven': 1365, 'terrific': 4409, 'challenge': 743, 'charming': 768, 'struggles': 4235, 'sight': 3969, 'inspired': 2301, 'comedic': 888, 'territory': 4411, 'park': 3190, 'proceedings': 3410, 'fully': 1847, 'connect': 944, 'leonard': 2572, 'clever': 841, 'nevertheless': 3002, 'reminded': 3619, 'city': 825, 'prison': 3401, 'cell': 730, 'let': 2579, 'further': 1853, 'blockbuster': 509, 'dinosaur': 1255, 'travel': 4567, 'rex': 3683, 'louis': 2665, 'clown': 862, 'dinosaurs': 1256, 'fed': 1682, 'friendly': 1836, 'plans': 3292, 'pleasant': 3302, 'station': 4164, 'kept': 2456, 'friday': 1834, 'fitting': 1742, 'specific': 4099, 'catching': 716, 'numerous': 3062, 'offered': 3088, 'print': 3399, 'pack': 3165, 'double': 1331, 'alien': 183, 'worlds': 4947, 'public': 3460, 'havent': 2053, 'restored': 3659, '90': 60, 'correct': 1000, 'dubbed': 1379, 'english': 1483, 'language': 2516, 'common': 906, 'practice': 3363, 'save': 3794, 'dub': 1378, 'confusing': 942, 'native': 2972, 'fits': 1741, 'earlier': 1399, 'consists': 955, 'emotion': 1458, 'cruise': 1071, 'enthusiasm': 1501, 'progresses': 3426, 'lifestyle': 2593, 'state': 4160, 'depression': 1189, 'imagination': 2236, 'beyond': 476, 'expectations': 1576, 'hooked': 2153, 'gadget': 1860, 'twelve': 4611, 'obviously': 3072, 'obsessed': 3069, 'focusing': 1769, 'negative': 2991, 'childish': 791, 'sue': 4274, 'ie': 2221, 'hat': 2045, 'credits': 1050, 'strange': 4211, 'aimed': 162, 'younger': 4990, 'bother': 548, 'basically': 407, 'saved': 3795, 'car': 680, 'natural': 2973, 'weird': 4841, 'chief': 788, 'downright': 1337, 'centered': 733, 'admit': 122, 'description': 1197, '1968': 16, 'realized': 3553, 'entirely': 1503, 'erotic': 1515, 'discovery': 1282, 'sudden': 4272, 'unexpected': 4650, 'received': 3564, 'anna': 245, 'intense': 2316, 'ok': 3098, 'mid': 2832, 'teenagers': 4391, 'effectively': 1430, 'explore': 1594, 'managed': 2723, 'poetic': 3313, 'identify': 2216, 'pile': 3275, 'garbage': 1870, 'fashion': 1659, 'kidnapped': 2466, 'jungle': 2434, 'idiots': 2220, 'hired': 2117, 'returns': 3668, 'significant': 3972, 'helicopter': 2076, 'pilot': 3276, 'dubbing': 1380, 'cry': 1073, 'stealing': 4171, 'nearby': 2980, 'cannibal': 669, 'cult': 1077, 'kong': 2494, 'fellow': 1691, 'makeup': 2717, 'balls': 390, 'banned': 395, 'attacks': 339, 'pulls': 3464, 'guts': 1999, 'franco': 1820, 'usual': 4699, 'lengthy': 2570, 'exploitation': 1592, 'notion': 3050, 'lasted': 2522, 'personally': 3243, 'base': 402, 'pretentious': 3383, 'titled': 4505, 'repeated': 3631, 'viewings': 4741, 'dick': 1239, 'van': 4713, 'lucy': 2684, 'honor': 2150, 'upon': 4684, 'speaks': 4096, 'minds': 2852, 'conclusion': 936, 'card': 681, 'manhattan': 2726, 'wake': 4774, 'coffee': 870, 'manage': 2722, 'amongst': 218, 'move': 2921, 'exist': 1569, 'magic': 2703, 'prisoners': 3403, 'prisoner': 3402, 'superb': 4296, 'surprising': 4315, 'boring': 543, 'tradition': 4549, 'cube': 1076, 'trapped': 4564, 'sympathy': 4343, 'touch': 4533, 'altogether': 202, 'included': 2262, 'clear': 839, 'actress': 105, 'empire': 1464, 'sitcom': 4004, 'ball': 388, 'rachel': 3500, 'transformation': 4560, 'davis': 1126, 'likable': 2598, 'timing': 4498, 'daniel': 1111, 'charismatic': 763, 'charm': 767, 'overly': 3155, 'william': 4887, 'suited': 4286, 'accents': 79, 'structure': 4233, 'historical': 2119, 'radio': 3504, 'began': 441, 'depicted': 1183, 'creator': 1043, 'depicts': 1186, 'replaced': 3634, 'kitchen': 2485, 'slightly': 4029, 'except': 1556, 'sides': 3967, 'buying': 641, 'scare': 3803, 'incident': 2260, 'market': 2740, 'changes': 751, 'facts': 1624, 'respect': 3652, 'captured': 677, 'giant': 1905, 'familiar': 1643, 'practically': 3362, 'decision': 1151, 'attempt': 340, 'directly': 1263, 'bits': 490, 'proved': 3446, 'fault': 1668, 'portrait': 3339, 'errors': 1516, 'overlooked': 3154, 'nancy': 2964, 'supposedly': 4307, 'whos': 4876, 'murdered': 2940, 'internet': 2327, 'protagonist': 3441, 'maria': 2736, 'albert': 174, 'successfully': 4267, 'beings': 449, 'grim': 1974, 'expression': 1602, 'presence': 3373, 'growing': 1983, 'flashbacks': 1747, 'progress': 3425, 'depressed': 1187, 'massive': 2756, 'amounts': 220, 'pain': 3170, 'boot': 538, 'sees': 3866, 'mother': 2911, 'unpleasant': 4674, 'area': 286, 'glass': 1917, 'pays': 3218, 'visit': 4755, 'ties': 4490, 'strikes': 4225, 'club': 863, 'beating': 425, 'receives': 3565, 'fate': 1665, 'forces': 1788, 'dog': 1310, 'relative': 3599, 'future': 1856, 'ended': 1470, 'victims': 4730, 'abuse': 74, 'domestic': 1318, 'responsible': 3656, 'dimensional': 1253, 'sensitive': 3879, 'matters': 2770, 'defined': 1160, 'lie': 2590, 'becomes': 434, 'exercise': 1568, 'soft': 4051, 'generic': 1885, 'fantasy': 1652, 'word': 4937, 'neil': 2995, 'loving': 2675, 'bride': 577, 'comfortable': 892, 'lovers': 2673, 'stuff': 4243, 'gain': 1863, 'adventure': 130, 'witches': 4910, 'murderous': 2942, 'attractive': 351, 'warm': 4794, 'hearted': 2065, 'gay': 1876, 'excessive': 1560, 'surprisingly': 4316, 'thus': 4486, 'joke': 2414, 'surrounding': 4319, 'forms': 1801, 'hasnt': 2044, 'unique': 4662, 'image': 2233, 'brazil': 568, 'saying': 3800, 'offers': 3090, 'afterwards': 145, 'holds': 2131, 'attention': 345, 'helped': 2080, 'international': 2326, 'drive': 1363, 'goofy': 1939, 'sincere': 3991, 'quick': 3490, 'essentially': 1523, 'bobby': 525, 'hamilton': 2012, 'object': 3066, 'definite': 1161, 'lisa': 2616, 'marie': 2737, 'likewise': 2603, 'blonde': 511, 'babe': 375, 'wonderfully': 4929, 'danny': 1112, 'andy': 230, 'wears': 4832, 'ugly': 4625, 'loud': 2664, 'suffers': 4278, 'thugs': 4484, 'brutally': 604, 'beat': 423, 'arms': 294, 'catchy': 717, 'week': 4837, 'sutherland': 4333, 'eva': 1531, 'revolves': 3682, 'service': 3896, 'planning': 3291, 'president': 3378, 'investigation': 2343, 'douglas': 1334, 'truth': 4599, 'rule': 3753, 'sequel': 3885, 'match': 2762, 'compare': 911, 'un': 4630, 'professional': 3421, 'gradually': 1952, 'speed': 4103, 'reaches': 3538, '14': 6, 'pathetic': 3210, 'porn': 3336, 'bullet': 620, 'aspect': 321, 'prevent': 3385, 'bigger': 479, 'quickly': 3491, 'wars': 4804, 'saga': 3773, 'neo': 2998, 'impact': 2244, 'reduced': 3579, 'carrie': 697, 'chick': 786, 'thrown': 4481, 'unlikely': 4671, 'report': 3635, 'burt': 629, 'kennedy': 2454, 'youd': 4987, 'superior': 4300, 'command': 897, 'contemporary': 965, 'incompetent': 2266, 'student': 4238, 'ham': 2011, 'julia': 2427, 'stole': 4194, 'skip': 4016, 'cold': 872, 'european': 1530, 'formula': 1802, 'critics': 1064, 'valuable': 4708, 'huge': 2185, 'americans': 214, 'regarding': 3589, 'duty': 1390, 'whereas': 4865, 'spain': 4091, 'unrealistic': 4677, 'slightest': 4028, 'ancient': 225, 'earth': 1403, 'hair': 2005, 'wore': 4939, 'convinced': 984, 'wealthy': 4827, 'domino': 1319, 'hed': 2072, 'attend': 344, 'sappy': 3784, 'joey': 2408, 'fathers': 1667, 'alcoholic': 177, 'resembles': 3646, 'sister': 4001, 'choose': 799, 'duke': 1383, 'dressed': 1358, 'costume': 1005, 'possessed': 3347, 'stolen': 4195, 'mental': 2808, 'illness': 2230, 'tea': 4373, 'shine': 3931, 'colors': 879, 'hole': 2132, 'send': 3875, 'bodies': 526, 'columbo': 881, 'ruth': 3763, 'mitchell': 2875, 'lovable': 2668, 'author': 359, 'accident': 84, 'police': 3322, 'abandoned': 62, 'somebody': 4062, 'smart': 4035, 'matches': 2764, 'falk': 1636, 'fighter': 1708, 'hey': 2095, 'kick': 2460, 'ass': 323, 'dreary': 1356, 'pointless': 3318, 'meaningless': 2782, 'edited': 1420, 'plague': 3285, 'rubbish': 3748, 'terror': 4412, 'tour': 4538, 'ridiculously': 3694, 'putting': 3482, 'concerns': 934, 'eddie': 1416, 'metal': 2823, 'tony': 4521, 'fields': 1705, 'recording': 3575, 'record': 3573, 'trick': 4582, 'neighbors': 2994, 'kiss': 2483, 'cameos': 658, 'priest': 3392, 'connection': 946, 'devil': 1228, 'whoever': 4872, 'overlook': 3153, 'lesser': 2576, 'ryan': 3765, 'trite': 4589, 'leading': 2547, 'fury': 1855, 'wedding': 4836, 'stranger': 4213, 'attorney': 348, 'strangers': 4214, 'claim': 828, 'prior': 3400, 'met': 2822, 'evidence': 1546, 'wed': 4835, 'intensity': 2317, 'kelly': 2452, 'step': 4175, 'pay': 3216, 'jump': 2429, 'raise': 3507, 'fight': 1707, 'cutting': 1092, 'sword': 4340, 'produced': 3414, 'train': 4556, 'ninja': 3018, 'tribute': 4581, 'armed': 293, 'influence': 2286, 'political': 3324, 'versions': 4721, 'speak': 4094, 'praise': 3364, 'material': 2766, 'translation': 4562, 'marketing': 2741, 'interpretation': 2328, 'legendary': 2565, 'encounter': 1466, 'techniques': 4384, 'cares': 690, 'among': 217, 'faster': 1662, 'fest': 1696, 'introduce': 2336, 'countries': 1013, 'lyrics': 2692, 'competent': 917, 'construction': 960, 'adapted': 114, 'damon': 1101, 'musicals': 2948, 'musical': 2947, 'flow': 1762, 'sinatra': 3989, 'cash': 709, 'floating': 1758, 'julie': 2428, 'chicago': 785, 'player': 3298, 'sky': 4017, 'presented': 3376, 'army': 295, 'mission': 2870, 'everybody': 1540, 'lady': 2507, 'include': 2261, 'johnny': 2410, 'silver': 3977, 'mary': 2751, 'simmons': 3981, 'brown': 601, 'broadway': 592, 'dolls': 1316, 'established': 1524, 'letter': 2581, 'directing': 1260, 'challenging': 744, 'section': 3853, 'created': 1037, 'pet': 3246, 'uneven': 4649, 'singing': 3995, 'instinct': 2308, 'tries': 4585, 'sings': 3997, 'closing': 859, 'triumph': 4590, 'instance': 2304, 'focuses': 1768, 'finding': 1727, 'fonda': 1777, 'de': 1131, 'niro': 3019, 'choices': 798, 'topless': 4527, 'sing': 3992, 'juvenile': 2441, 'gags': 1862, 'jim': 2402, 'crash': 1033, 'stupidity': 4248, 'lake': 2509, 'heat': 2067, 'causing': 726, 'alright': 198, 'gripping': 1976, 'filled': 1715, 'rubber': 3747, 'suit': 4284, 'discover': 1279, 'gem': 1877, 'released': 3603, 'strongly': 4231, 'earned': 1401, 'using': 4698, 'depiction': 1185, 'earl': 1398, 'jones': 2418, 'christopher': 811, 'energy': 1478, 'spite': 4117, 'physically': 3263, 'noted': 3045, 'destruction': 1216, 'corruption': 1002, 'therefore': 4439, 'tragic': 4552, 'wells': 4845, 'present': 3374, 'gifted': 1907, 'recognized': 3570, 'race': 3499, 'caused': 724, 'racism': 3502, 'including': 2264, 'shakespeare': 3915, 'productions': 3420, 'uses': 4697, 'artistic': 308, 'controversial': 978, 'sequels': 3886, 'values': 4710, 'outer': 3143, 'wood': 4933, 'religious': 3608, 'code': 869, 'thief': 4448, 'explain': 1586, 'east': 1407, 'frightening': 1839, '24': 39, 'mediocre': 2791, 'extras': 1608, 'chases': 771, 'hints': 2113, 'orders': 3127, 'sick': 3963, 'cuba': 1075, 'swim': 4337, 'festival': 1697, 'write': 4967, 'review': 3676, 'beautifully': 429, 'combined': 885, 'dialogs': 1233, 'inspiring': 2302, 'ordinary': 3128, 'extraordinary': 1607, 'imagery': 2234, 'captivating': 675, 'legs': 2566, 'brilliantly': 584, 'placed': 3283, 'dire': 1257, 'seriously': 3892, 'ha': 2002, 'swedish': 4335, 'calm': 655, 'arrives': 302, 'heroine': 2091, 'germany': 1898, 'planned': 3290, 'breaks': 571, 'traditional': 4550, 'content': 966, 'incoherent': 2265, 'idiotic': 2219, 'highlight': 2103, 'term': 4405, 'overacting': 3149, 'richard': 3686, 'psychic': 3456, 'combination': 883, 'stone': 4197, 'shoots': 3944, 'brutal': 603, 'craven': 1034, 'houses': 2180, 'blown': 516, 'faced': 1617, 'priceless': 3390, 'mountains': 2918, 'disgusting': 1286, 'gangster': 1868, 'conflict': 939, 'vs': 4767, 'da': 1094, 'rival': 3706, 'arrested': 298, 'honestly': 2147, 'pg': 3250, 'exists': 1573, 'pig': 3274, 'angels': 234, 'tooth': 4524, 'fairy': 1632, 'believing': 457, 'daughter': 1121, 'explosions': 1597, 'constantly': 958, 'ruthless': 3764, 'unfortunate': 4653, 'simon': 3982, 'styles': 4250, 'product': 3418, 'eighties': 1437, 'delivery': 1173, 'perfect': 3224, 'grant': 1956, 'winner': 4897, 'cultural': 1078, 'viewed': 4737, 'fix': 1744, 'discovered': 1280, 'dated': 1119, 'machine': 2693, 'study': 4242, 'covers': 1024, 'hal': 2006, 'talents': 4356, 'ah': 158, 'dr': 1340, 'appeared': 276, 'flicks': 1755, 'nick': 3012, 'stan': 4142, 'millions': 2848, 'giallo': 1904, 'queen': 3485, 'seven': 3903, 'gory': 1943, 'sequences': 3888, 'fabulous': 1615, 'golden': 1934, 'revenge': 3675, 'motives': 2916, 'grandfather': 1954, 'fighting': 1709, '100': 1, 'april': 284, 'inevitable': 2282, 'victim': 4729, 'moved': 2922, 'states': 4163, 'compelling': 916, 'fascinating': 1658, 'gentle': 1890, 'dragged': 1343, 'latter': 2528, 'gruesome': 1986, 'gorgeous': 1942, 'actresses': 106, 'forgotten': 1797, 'rolling': 3730, 'ground': 1979, 'offended': 3085, 'amanda': 205, 'cards': 683, 'masterful': 2758, 'comparison': 914, 'studio': 4240, 'kudos': 2497, 'effort': 1432, 'renting': 3629, 'chances': 748, 'favorites': 1672, 'hoping': 2160, 'entertained': 1498, '50': 51, 'decide': 1148, 'spare': 4093, 'cliché': 844, 'worn': 4948, 'blunt': 520, 'reasonably': 3559, 'walker': 4778, 'condition': 937, 'inner': 2292, 'normally': 3034, 'purple': 3473, 'flawless': 1751, 'remains': 3611, 'unsettling': 4679, 'appear': 273, 'widmark': 4882, 'locations': 2636, 'menace': 2806, 'key': 2458, 'health': 2060, 'officer': 3092, 'performer': 3231, 'pushed': 3478, 'hall': 2009, 'inspiration': 2300, 'staged': 4140, 'todays': 4509, 'foot': 1781, 'lewis': 2586, 'threw': 4470, 'stargate': 4151, 'spin': 4112, 'sorts': 4078, 'retired': 3664, 'jackson': 2375, 'intelligent': 2314, 'quiet': 3492, 'warrior': 4802, 'false': 1641, 'warriors': 4803, 'sam': 3777, 'instantly': 2306, 'device': 1227, 'understandable': 4644, 'emphasis': 1463, 'notch': 3043, 'bland': 500, 'rushed': 3760, 'displayed': 1292, 'price': 3389, 'insult': 2309, 'bare': 398, 'chorus': 803, 'sit': 4003, 'sweet': 4336, 'carl': 692, 'learned': 2551, 'steals': 4172, 'blows': 517, 'wing': 4896, 'cake': 648, 'memory': 2804, 'lane': 2515, 'ashamed': 312, 'discuss': 1283, 'wondered': 4927, 'fake': 1635, 'kicks': 2463, 'charlie': 765, 'hot': 2174, 'oil': 3097, 'amazingly': 210, 'mel': 2796, 'brooks': 596, 'issue': 2364, 'tied': 4489, 'seasons': 3844, 'useful': 4694, 'purposes': 3475, 'von': 4765, 'alexander': 180, 'revolution': 3680, 'enemy': 1477, 'powell': 3358, 'hire': 2116, 'occasionally': 3075, 'awe': 370, 'thoughtful': 4463, 'striking': 4226, 'sacrifice': 3766, 'military': 2844, 'heavily': 2069, 'prize': 3405, 'civilization': 827, 'argument': 291, 'society': 4050, 'identity': 2217, 'breaking': 570, 'books': 536, 'sellers': 3872, 'suck': 4269, 'sheer': 3925, 'kirk': 2482, 'cameron': 661, 'release': 3602, 'strictly': 4223, 'briefly': 580, 'pages': 3168, 'bible': 477, 'roll': 3728, 'million': 2847, 'island': 2361, 'closely': 855, 'holy': 2140, 'heaven': 2068, 'badly': 383, 'mans': 2730, 'build': 614, 'dentist': 1180, 'escapes': 1519, 'arrive': 300, 'narration': 2965, 'aware': 368, 'tension': 4404, 'hitchcock': 2123, 'focused': 1767, 'united': 4664, 'scenario': 3808, 'actions': 101, 'nation': 2969, 'environment': 1505, 'revelation': 3674, 'blake': 498, 'perry': 3237, 'element': 1442, 'vengeance': 4719, 'anger': 235, 'innocent': 2294, 'asking': 318, 'logic': 2638, 'capital': 673, 'crime': 1055, '1960s': 15, 'isolated': 2363, 'savage': 3793, 'wilson': 4891, 'efforts': 1433, 'demented': 1176, 'wound': 4960, 'counter': 1011, 'nations': 2971, 'introduces': 2338, 'remarkable': 3613, 'dorothy': 1330, 'parker': 3191, 'force': 1786, 'mummy': 2937, 'merit': 2816, 'sci': 3815, 'fi': 1701, 'angel': 231, 'jessica': 2398, 'today': 4508, 'enjoyable': 1485, 'greed': 1968, 'lust': 2689, 'stephen': 4176, 'fx': 1858, 'suitable': 4285, 'alice': 182, 'brady': 561, 'campy': 664, 'collection': 874, 'german': 1896, 'channel': 753, '12': 3, 'nowadays': 3055, 'raymond': 3534, 'opportunity': 3121, 'overwhelming': 3157, 'turkey': 4604, 'widely': 4881, 'connected': 945, 'laws': 2540, 'daughters': 1122, 'community': 908, 'michelle': 2830, 'tough': 4537, 'troubled': 4593, 'decides': 1150, 'portrays': 3344, 'tend': 4400, 'whatever': 4859, 'unfunny': 4655, 'carry': 700, 'harry': 2039, 'tune': 4602, 'lee': 2559, 'gift': 1906, 'goal': 1925, 'continue': 969, 'football': 1783, 'artist': 307, 'cup': 1080, 'memories': 2803, 'unbelievable': 4634, 'happiness': 2031, 'barely': 399, 'senseless': 3878, 'watches': 4814, 'intelligence': 2313, 'wind': 4893, 'charisma': 762, 'notably': 3042, 'essence': 1521, 'versus': 4722, 'miles': 2843, 'catch': 714, 'smaller': 4034, 'paris': 3189, 'werent': 4849, 'soldier': 4053, 'creators': 1044, 'mentioning': 2812, 'stuck': 4237, 'edition': 1422, 'wes': 4851, 'anderson': 227, 'length': 2569, 'random': 3514, 'jason': 2383, 'voices': 4763, 'engaging': 1481, 'closer': 856, 'track': 4544, 'sandler': 3781, 'hidden': 2096, 'weight': 4840, 'punch': 3466, 'johnson': 2411, 'conversation': 980, 'digital': 1251, 'backgrounds': 381, 'psychiatrist': 3455, 'pearl': 3220, 'jr': 2423, 'courage': 1018, 'broke': 593, 'opera': 3116, 'introduction': 2339, 'discussion': 1284, 'mario': 2738, 'vhs': 4725, 'brad': 560, 'fortune': 1806, 'pair': 3176, 'morgan': 2905, 'freeman': 1829, 'dropped': 1370, 'encounters': 1467, 'angry': 238, 'currently': 1085, 'sleeping': 4025, 'lazy': 2543, 'anne': 246, 'elsewhere': 1449, 'results': 3662, 'tender': 4401, 'vulnerable': 4768, 'conspiracy': 956, 'noir': 3023, 'heroes': 2089, 'bergman': 466, 'horrendous': 2162, 'nuclear': 3057, 'cities': 823, 'countryside': 1015, 'agreed': 156, 'fights': 1710, 'antics': 255, '1970s': 17, 'exotic': 1574, 'green': 1971, 'spy': 4135, 'hopefully': 2157, 'allowed': 190, 'information': 2288, 'costumes': 1006, 'mad': 2696, 'sharp': 3922, 'edward': 1426, 'ned': 2986, 'rush': 3759, 'seat': 3845, 'round': 3742, 'aspects': 322, 'petty': 3249, 'monkey': 2890, 'choreography': 802, 'nonsense': 3030, 'mtv': 2933, 'finale': 1723, 'insane': 2296, 'actual': 108, 'disappointing': 1274, 'drawn': 1351, 'expressed': 1601, 'horses': 2171, 'strangely': 4212, 'mothers': 2912, 'wild': 4885, 'officers': 3093, 'riding': 3695, 'realism': 3549, 'talk': 4358, 'spirits': 4115, 'adams': 112, 'tears': 4380, 'puts': 3481, 'lacks': 2505, '18': 10, 'sloppy': 4030, 'deaf': 1134, 'west': 4852, 'beaten': 424, 'ms': 2931, 'beats': 426, 'capture': 676, 'continuity': 972, '3d': 46, 'dress': 1357, 'novels': 3053, 'horribly': 2164, 'clumsy': 866, 'non': 3027, 'existent': 1572, 'rochester': 3719, 'highlights': 2104, 'jane': 2380, 'eyre': 1614, 'randomly': 3515, 'passion': 3205, '1983': 22, 'bbc': 417, 'timothy': 4499, 'dalton': 1098, 'ralph': 3510, 'bakshi': 386, 'influenced': 2287, 'disneys': 1290, 'philip': 3252, 'thomas': 4458, 'vice': 4727, 'shining': 3933, 'charles': 764, 'barry': 401, 'rabbit': 3498, 'annoyed': 248, 'forgive': 1795, 'attempted': 341, 'vicious': 4728, 'fred': 1825, 'astaire': 330, 'ginger': 1908, 'rogers': 3725, 'exceptionally': 1559, 'baker': 385, 'navy': 2976, 'uninteresting': 4660, 'exceptional': 1558, 'berlin': 467, 'band': 391, 'dances': 1106, 'solo': 4058, 'tap': 4364, 'win': 4892, 'contest': 967, 'routine': 3743, 'evening': 1534, 'within': 4912, 'reminiscent': 3621, 'rarely': 3524, 'em': 1452, 'opened': 3113, 'fired': 1735, 'leslie': 2574, 'wearing': 4831, 'itll': 2369, 'appeal': 271, 'blah': 496, '2002': 32, 'coherent': 871, 'picked': 3266, 'cinematic': 818, 'deeply': 1156, 'opens': 3115, 'civil': 826, 'seek': 3858, 'witnessed': 4915, 'patient': 3211, 'serving': 3897, 'climax': 849, 'logical': 2639, 'georges': 1894, 'anymore': 258, 'unable': 4631, 'weekend': 4838, 'businessman': 634, 'succeed': 4262, 'crisis': 1060, 'access': 83, 'warmth': 4796, 'helps': 2082, 'recognition': 3568, 'lying': 2690, 'destroyed': 1214, 'opposite': 3123, 'commit': 904, 'waiting': 4772, 'describes': 1196, 'surely': 4309, 'requires': 3642, 'parody': 3192, 'leaves': 2556, 'laughter': 2535, 'superbly': 4297, 'cross': 1066, 'protagonists': 3442, 'shy': 3962, 'flies': 1756, 'afraid': 140, 'epic': 1506, 'restaurant': 3658, 'outrageous': 3145, 'fascinated': 1657, 'jennifer': 2392, 'neat': 2982, 'africa': 141, 'spell': 4104, 'animals': 240, 'grace': 1950, 'hence': 2083, 'proceeds': 3411, 'population': 3335, 'california': 650, 'mst3k': 2932, 'relief': 3605, 'raised': 3508, 'planet': 3289, 'proof': 3434, 'iii': 2227, 'witch': 4909, 'context': 968, 'thirty': 4456, 'test': 4416, 'understood': 4647, 'contain': 962, 'generations': 1884, 'advance': 127, 'consequences': 947, 'airplane': 166, 'chaos': 755, 'boredom': 542, 'clichéd': 845, 'flying': 1764, 'trap': 4563, 'flight': 1757, 'explaining': 1588, 'canada': 666, 'safety': 3772, 'land': 2511, 'skin': 4015, 'feet': 1688, 'panic': 3181, 'airport': 167, 'heston': 2094, 'staring': 4152, 'moronic': 2907, 'wannabe': 4787, 'utter': 4701, 'lol': 2640, 'per': 3223, 'bored': 541, '70': 55, 'failed': 1626, 'miserably': 2864, 'dave': 1123, 'angela': 232, 'sexy': 3911, 'murphy': 2944, 'surrounded': 4318, 'politically': 3325, 'pop': 3330, 'pick': 3265, '50s': 52, 'gritty': 1977, 'wandering': 4785, 'gangsters': 1869, 'peters': 3248, 'communist': 907, 'ex': 1549, 'boyfriend': 558, 'psycho': 3457, 'unpredictable': 4675, 'lone': 2642, 'integrity': 2311, 'allows': 192, 'torn': 4528, 'fatal': 1664, 'fourth': 1813, 'rap': 3520, 'unbelievably': 4635, 'kissing': 2484, 'turner': 4607, 'meeting': 2794, 'beer': 439, 'hospital': 2172, 'ritter': 3705, 'nomination': 3026, 'stunning': 4244, 'movements': 2924, 'settings': 3901, 'angles': 237, 'bold': 528, 'finished': 1733, 'photo': 3257, 'magazine': 2701, 'secretary': 3850, 'sleep': 4024, 'continued': 970, 'performs': 3234, 'stiller': 4189, 'loser': 2655, 'nostalgic': 3039, 'consistently': 954, 'cox': 1026, 'agrees': 157, 'position': 3345, 'locked': 2637, 'implausible': 2245, '30s': 44, 'fish': 1738, 'robinson': 3716, 'hugh': 2186, 'characterization': 759, 'chased': 770, 'tiger': 4491, 'jazz': 2387, 'sake': 3775, 'scripts': 3836, 'stereotype': 4178, 'sum': 4289, 'snake': 4042, 'avoided': 364, 'ps': 3453, 'rape': 3521, 'explicit': 1591, 'defend': 1158, 'warning': 4800, 'warned': 4798, 'uwe': 4703, 'boll': 529, 'importantly': 2248, 'stress': 4220, 'seeking': 3859, 'mainstream': 2709, 'press': 3379, 'lower': 2677, 'dare': 1113, 'brave': 567, 'national': 2970, 'warner': 4799, 'jaw': 2384, 'dropping': 1371, 'stilted': 4190, 'tracy': 4546, 'rose': 3739, 'horrid': 2165, 'hyde': 2206, 'user': 4696, 'qualities': 3483, 'pal': 3177, 'abusive': 75, 'noble': 3021, 'robbery': 3711, 'knife': 2487, 'alive': 186, 'letting': 2583, 'slap': 4018, 'magical': 2704, 'saving': 3797, 'magnificent': 2705, 'profound': 3423, 'spoken': 4126, 'remembered': 3617, 'al': 170, 'fool': 1779, 'nude': 3058, 'dear': 1140, 'global': 1920, 'scream': 3826, 'deep': 1154, 'regardless': 3590, 'terribly': 4408, 'irritating': 2359, 'remote': 3622, 'eight': 1436, 'icon': 2211, 'daring': 1114, 'suffer': 4275, 'claire': 831, 'superficial': 4298, 'sixties': 4011, 'share': 3920, 'arm': 292, 'facial': 1619, 'mistaken': 2872, 'garbo': 1871, 'standing': 4146, 'meaningful': 2781, 'wear': 4830, 'obsession': 3070, 'becoming': 435, 'sits': 4006, 'ruined': 3751, 'ruins': 3752, 'christians': 809, 'muslim': 2949, 'format': 1799, 'invisible': 2344, 'bore': 540, 'dealing': 1136, 'chosen': 805, 'physical': 3262, 'performed': 3230, 'ourselves': 3140, 'steal': 4170, 'gag': 1861, 'shirt': 3937, 'talks': 4361, 'editor': 1423, 'mrs': 2930, 'ignored': 2225, 'england': 1482, 'offensive': 3086, 'racial': 3501, 'britain': 588, 'messages': 2820, 'cartoons': 705, 'keeps': 2451, 'pity': 3281, 'distant': 1295, 'shocking': 3940, 'demands': 1175, 'central': 735, 'beach': 419, 'tricks': 4583, 'camp': 662, 'splatter': 4118, 'killings': 2473, 'heads': 2059, 'comical': 894, 'provided': 3449, 'sole': 4055, 'cruel': 1070, 'entry': 1504, 'chasing': 772, 'tall': 4362, 'deceased': 1146, 'laid': 2508, 'comedian': 887, 'achievement': 94, 'semi': 3874, 'akshay': 169, 'suspicious': 4332, 'lacking': 2504, 'deserve': 1199, 'alex': 179, 'surreal': 4317, 'convey': 982, 'mundane': 2938, 'hoped': 2156, 'learns': 2553, 'continues': 971, 'frankly': 1823, 'ages': 152, 'typically': 4624, 'rick': 3689, 'roberts': 3714, 'motivation': 2914, 'apparent': 269, 'desired': 1206, 'category': 718, 'cared': 685, 'sunshine': 4294, 'korean': 2495, 'melodrama': 2797, 'shape': 3919, 'immensely': 2243, 'universe': 4666, '2007': 37, 'deserved': 1200, 'widow': 4883, 'balance': 387, 'subsequent': 4257, 'glorious': 1921, 'guilt': 1994, 'dramas': 1347, 'chan': 746, 'ho': 2127, 'complexity': 924, 'misery': 2865, 'solution': 4059, 'lees': 2560, 'involve': 2345, 'display': 1291, 'hardcore': 2034, 'stereotypes': 4179, 'colour': 880, 'deliberately': 1166, 'private': 3404, 'weve': 4856, 'upper': 4685, 'classes': 834, 'piano': 3264, 'birds': 485, 'aint': 163, 'watchable': 4812, 'vietnam': 4735, 'soldiers': 4054, 'horrifying': 2167, 'super': 4295, 'unit': 4663, 'funeral': 1849, 'nail': 2957, 'climactic': 848, 'winds': 4895, 'subplots': 4256, 'theyll': 4444, 'celluloid': 731, 'expert': 1585, 'resources': 3651, 'became': 431, 'signed': 3971, 'traveling': 4568, 'showdown': 3955, 'americas': 215, 'miller': 2846, 'shelley': 3928, 'winters': 4901, 'curtis': 1087, 'dutch': 1389, 'henry': 2084, 'passes': 3203, 'transfer': 4559, 'perfection': 3225, 'faces': 1618, 'ray': 3533, 'kim': 2475, 'poignant': 3315, 'iron': 2354, 'returning': 3667, 'redemption': 3578, 'surface': 4310, 'waters': 4817, 'presentation': 3375, 'animal': 239, 'mindless': 2851, 'miike': 2837, 'sadistic': 3768, 'behave': 445, 'slowly': 4032, 'consider': 949, 'illogical': 2231, 'grasp': 1960, 'resolution': 3649, 'drawing': 1350, 'reaction': 3541, 'stinks': 4192, 'joy': 2422, 'depressing': 1188, 'interaction': 2322, 'mine': 2853, 'marty': 2749, 'master': 2757, 'punishment': 3467, 'task': 4368, '60': 53, 'cage': 645, 'simpson': 3987, 'offering': 3089, 'unintentional': 4658, 'carpenter': 694, 'disc': 1278, 'holmes': 2139, 'quest': 3486, 'los': 2653, 'angeles': 233, 'linda': 2609, 'required': 3641, 'australia': 356, 'wet': 4855, 'recall': 3562, 'schools': 3814, 'spoil': 4121, 'channels': 754, 'somewhere': 4069, 'drag': 1342, 'nobody': 3022, 'largely': 2518, 'photographed': 3258, 'universal': 4665, 'indian': 2274, 'attack': 337, 'passing': 3204, 'melodramatic': 2798, '40s': 49, 'constructed': 959, 'center': 732, 'shelf': 3926, 'dust': 1388, 'touched': 4534, 'bucks': 606, 'swear': 4334, 'designed': 1203, 'cousin': 1021, 'lit': 2621, 'wrap': 4963, 'ron': 3734, 'howard': 2182, 'keaton': 2448, 'travels': 4569, 'murderer': 2941, 'dangerous': 1110, 'staying': 4168, 'chair': 742, 'apes': 267, 'corny': 997, 'cook': 988, 'matched': 2763, 'ice': 2210, 'hill': 2108, 'assault': 324, 'cuts': 1091, 'reflection': 3585, 'retarded': 3663, 'blow': 514, 'cringe': 1059, 'mix': 2876, 'crying': 1074, 'inappropriate': 2259, 'upset': 4687, 'maker': 2714, 'thanks': 4423, '1930s': 11, 'arthur': 305, 'risk': 3704, 'marry': 2745, 'susan': 4326, 'grandmother': 1955, 'waitress': 4773, 'tie': 4488, 'alcohol': 176, 'slapstick': 4019, 'spoiled': 4122, 'inevitably': 2283, 'photos': 3261, '13th': 5, 'royal': 3746, 'gene': 1879, 'clothing': 861, 'walls': 4783, 'jerry': 2396, 'blues': 519, 'repeat': 3630, 'proper': 3436, 'mgm': 2828, 'unseen': 4678, 'increasingly': 2268, 'concert': 935, 'brooklyn': 595, 'tag': 4348, 'lately': 2524, 'burning': 627, 'fictional': 1703, 'twice': 4613, 'minded': 2850, 'sisters': 4002, 'prostitute': 3440, 'russian': 3762, 'news': 3005, 'minimum': 2856, 'paying': 3217, 'carrying': 701, 'peoples': 3222, 'questionable': 3488, 'mile': 2842, 'throw': 4479, 'prince': 3396, 'morris': 2908, 'load': 2631, 'larry': 2520, 'board': 522, 'bothered': 549, 'walked': 4776, 'improve': 2254, 'hitler': 2124, 'propaganda': 3435, 'speech': 4102, 'cardboard': 682, 'mixture': 2878, 'chris': 806, 'donald': 1321, 'account': 89, 'max': 2774, 'needless': 2989, 'hbo': 2055, 'strip': 4228, 'sleazy': 4023, 'flash': 1745, 'performing': 3233, 'caring': 691, 'nazi': 2977, 'testament': 4417, 'originality': 3130, 'nightmare': 3014, 'amazed': 208, 'justice': 2438, '3rd': 47, 'intrigue': 2333, 'catholic': 720, 'flesh': 1753, 'tongue': 4518, 'cheek': 779, 'heroic': 2090, 'resort': 3650, 'louise': 2666, 'checking': 778, 'buffs': 612, 'bitter': 491, '2004': 34, 'sin': 3988, 'latin': 2527, 'shorts': 3948, 'simplicity': 3984, 'amy': 222, 'virgin': 4749, 'fell': 1690, 'losers': 2656, 'smile': 4036, 'june': 2433, 'wealth': 4826, 'screens': 3832, 'program': 3424, 'elderly': 1440, 'contained': 963, 'disjointed': 1287, 'investigate': 2342, 'drop': 1369, 'terrorist': 4413, 'bomb': 531, 'beliefs': 452, 'wallace': 4782, 'wicked': 4879, 'regret': 3591, 'represent': 3637, 'overdone': 3152, 'prefer': 3368, 'hideous': 2098, 'nostalgia': 3038, 'advise': 134, 'idiot': 2218, 'absurd': 73, 'described': 1195, 'eccentric': 1414, 'chess': 783, 'emily': 1456, 'respected': 3653, 'cliche': 843, 'liners': 2611, 'robot': 3717, 'hong': 2149, 'noise': 3024, 'insulting': 2310, 'setting': 3900, 'liking': 2604, 'introduced': 2337, 'destiny': 1212, 'crafted': 1029, '1999': 27, 'stanley': 4148, 'core': 995, 'occurs': 3078, 'irony': 2357, 'separate': 3883, 'cleverly': 842, 'host': 2173, 'innovative': 2295, 'bird': 484, 'drops': 1372, 'occur': 3076, 'doubts': 1333, 'decisions': 1152, 'resist': 3648, 'skills': 4014, 'females': 1694, 'foul': 1810, 'everywhere': 1545, 'clint': 850, 'eastwood': 1409, 'lawrence': 2539, 'heights': 2073, 'lawyer': 2541, 'dynamic': 1394, 'hotel': 2175, 'notorious': 3051, '1950s': 14, 'refuses': 3587, 'court': 1020, 'judge': 2424, 'determined': 1221, 'toward': 4539, 'richardson': 3688, 'suspects': 4328, 'affair': 135, 'jumps': 2432, 'realizes': 3554, 'splendid': 4119, 'mickey': 2831, 'warn': 4797, 'bin': 483, 'belief': 451, 'bloody': 513, 'brief': 579, 'couldve': 1009, 'potentially': 3356, 'montage': 2894, 'clean': 838, 'forgettable': 1794, 'sunday': 4293, 'medical': 2790, 'cia': 814, 'neck': 2985, 'bo': 521, 'derek': 1192, 'christmas': 810, 'initial': 2290, 'trees': 4577, 'joe': 2407, '1984': 23, 'nicholas': 3010, 'technique': 4383, 'tarzan': 4367, 'awards': 367, 'ape': 266, 'occasion': 3073, 'soccer': 4048, 'victoria': 4732, 'trademark': 4548, 'equivalent': 1512, 'bedroom': 437, 'cameo': 657, 'property': 3438, 'references': 3583, 'homage': 2141, 'womens': 4924, 'engage': 1479, 'contact': 961, 'greek': 1970, 'unintentionally': 4659, 'eating': 1413, 'hollywoods': 2138, 'disagree': 1269, 'celebrity': 729, 'ease': 1404, 'website': 4834, 'remarks': 3615, 'remain': 3609, 'bud': 607, 'landscapes': 2514, 'screenwriter': 3833, 'fisher': 1739, 'denzel': 1181, 'directorial': 1265, 'formulaic': 1803, 'luke': 2687, 'washington': 4806, 'jesse': 2397, 'hunting': 2201, 'succeeds': 4264, 'months': 2897, 'achieve': 92, 'develops': 1226, 'journey': 2421, 'cried': 1054, 'peace': 3219, 'symbolism': 4341, 'timeless': 4496, 'succeeded': 4263, 'essential': 1522, 'popularity': 3334, 'miracle': 2860, 'benefit': 465, 'topic': 4526, 'criticism': 1063, 'reaching': 3539, 'broad': 590, 'jumping': 2431, 'dreams': 1355, 'ship': 3934, 'cusack': 1088, 'dancer': 1104, 'equipment': 1511, 'ballet': 389, 'graphics': 1959, 'shallow': 3917, 'excitement': 1562, 'stronger': 4230, 'damage': 1099, 'project': 3427, 'choreographed': 801, 'equal': 1509, 'computer': 927, 'dollar': 1314, 'chaplin': 756, 'arrogant': 303, 'feminist': 1695, 'hated': 2047, 'jamie': 2379, 'measure': 2786, 'guarantee': 1987, 'embarrassing': 1454, 'destroy': 1213, 'davies': 1125, 'advice': 133, 'leo': 2571, 'doctor': 1304, 'hardy': 2037, 'expensive': 1579, 'engaged': 1480, 'carol': 693, 'listed': 2618, 'wizard': 4919, 'oz': 3160, 'flaws': 1752, 'mexico': 2827, 'brian': 576, 'santa': 3783, 'sullivan': 4288, 'pro': 3406, 'accused': 91, 'neighborhood': 2993, 'handsome': 2021, 'elegant': 1441, 'lacked': 2503, 'deals': 1137, 'killers': 2471, 'names': 2963, 'technical': 4381, 'amitabh': 216, 'dignity': 1252, 'bollywood': 530, 'khan': 2459, 'funniest': 1851, 'kurt': 2499, 'basketball': 409, 'eyed': 1612, 'underlying': 4641, 'affect': 136, 'purely': 3472, 'site': 4005, 'directions': 1262, 'lucky': 2683, 'ellen': 1446, 'escaped': 1518, 'husbands': 2205, 'corpse': 999, 'womans': 4922, 'closet': 858, 'adding': 117, 'cheating': 776, 'warming': 4795, 'fresh': 1833, 'vampires': 4712, 'bullets': 621, 'messed': 2821, 'recorded': 3574, 'sounded': 4082, 'demand': 1174, 'bay': 416, 'throws': 4482, 'chain': 741, 'bringing': 586, 'vampire': 4711, 'bone': 533, 'walken': 4777, 'overrated': 3156, 'resulting': 3661, 'bottle': 550, 'kidding': 2465, 'marks': 2742, 'faithful': 1634, 'unaware': 4632, 'relatively': 3600, 'forty': 1807, '90s': 61, 'affected': 137, '3000': 43, 'invasion': 2340, 'omen': 3104, 'levels': 2585, 'drivel': 1364, 'doll': 1313, 'adorable': 124, 'betty': 474, 'mirror': 2861, 'san': 3780, 'francisco': 1819, 'tunes': 4603, 'trio': 4587, 'singer': 3993, 'generated': 1882, 'trailer': 4554, 'arnold': 296, 'nazis': 2978, 'elm': 1447, 'trilogy': 4586, 'taught': 4370, 'draws': 1352, 'serial': 3889, 'plausible': 3295, 'tense': 4403, 'sean': 3840, 'inventive': 2341, 'pregnant': 3369, 'online': 3109, 'mild': 2839, 'hurts': 2203, 'brilliance': 582, 'experiment': 1583, 'hype': 2207, 'disturbed': 1299, 'suspend': 4329, 'disbelief': 1277, 'partly': 3197, 'witnesses': 4916, 'shell': 3927, 'namely': 2962, 'detailed': 1218, 'dude': 1381, 'cop': 991, '2000': 30, 'et': 1526, 'border': 539, 'enormous': 1490, 'limits': 2607, 'sends': 3876, 'wounded': 4961, 'pink': 3277, 'forbidden': 1785, 'concept': 930, 'brosnan': 597, 'smiling': 4037, 'reel': 3581, 'audio': 354, 'ad': 110, 'drink': 1361, 'confidence': 938, 'crappy': 1032, 'godzilla': 1929, 'contrary': 974, 'promises': 3432, 'ear': 1397, 'searching': 3842, 'chapter': 757, 'convince': 983, 'delivering': 1171, 'promised': 3431, 'lovely': 2671, 'jon': 2416, 'descent': 1193, 'che': 773, 'research': 3644, 'education': 1424, 'rings': 3699, 'cameras': 660, 'elaborate': 1439, 'deaths': 1142, 'jumped': 2430, 'fetched': 1698, 'roman': 3731, 'combat': 882, 'handed': 2016, 'championship': 745, 'players': 3299, 'stopped': 4202, 'donna': 1323, 'generous': 1886, 'ego': 1435, 'embarrassment': 1455, 'sir': 4000, 'yelling': 4980, 'mistress': 2874, 'laughably': 2531, 'relevant': 3604, 'futuristic': 1857, 'machines': 2694, 'performers': 3232, 'vehicle': 4718, 'struck': 4232, 'laurel': 2537, 'tiny': 4500, 'creates': 1038, 'craft': 1028, 'capturing': 679, 'acceptable': 81, 'conventional': 979, 'artificial': 306, 'ring': 3698, 'compelled': 915, 'woody': 4936, 'string': 4227, 'ethan': 1528, 'conversations': 981, 'subjects': 4254, 'builds': 617, 'ultimate': 4627, 'variety': 4714, 'bang': 393, 'todd': 4510, '2006': 36, 'remarkably': 3614, 'contract': 973, 'assigned': 325, 'hood': 2151, 'commercials': 903, 'racist': 3503, 'writes': 4970, 'trained': 4557, 'stunts': 4246, 'shadow': 3912, 'curious': 1083, 'worried': 4949, 'mountain': 2917, 'providing': 3451, 'polanski': 3321, 'stands': 4147, 'flaw': 1749, 'credible': 1048, 'selfish': 3870, 'shake': 3914, 'resemblance': 3645, 'stops': 4203, 'comparing': 913, 'genres': 1889, 'spoke': 4125, 'purchase': 3469, 'bette': 471, 'vaguely': 4706, 'library': 2589, 'eve': 1532, 'dinner': 1254, 'sadness': 3770, 'lonely': 2643, 'handle': 2018, 'naive': 2958, 'con': 928, 'hank': 2024, 'hollow': 2135, 'boom': 537, 'undoubtedly': 4648, 'convoluted': 987, 'majority': 2712, 'receive': 3563, 'jail': 2376, 'le': 2544, 'useless': 4695, 'ramones': 3512, 'household': 2179, 'rocky': 3723, 'album': 175, 'bands': 392, 'inducing': 2279, 'tons': 4520, 'creatures': 1046, 'williams': 4888, 'agents': 151, 'theyd': 4443, 'conservative': 948, 'perform': 3227, 'push': 3477, 'handful': 2017, 'monk': 2889, 'desert': 1198, 'concerned': 932, 'journalist': 2420, 'hearts': 2066, 'bank': 394, 'hundred': 2195, 'wishes': 4906, 'remaining': 3610, 'margaret': 2735, 'professor': 3422, 'spread': 4133, 'disease': 1285, 'rising': 3703, 'relatives': 3601, 'department': 1182, 'rank': 3518, 'blame': 499, 'justin': 2440, 'humorous': 2193, 'tracks': 4545, 'trailers': 4555, 'sally': 3776, 'impressed': 2251, 'revolutionary': 3681, 'wouldve': 4959, 'map': 2733, 'installment': 2303, 'segment': 3867, 'drags': 1345, 'recognize': 3569, 'intention': 2319, 'pull': 3461, 'copies': 992, '1940s': 13, 'dozens': 1339, 'kinds': 2478, 'depicting': 1184, 'wwii': 4975, 'ultra': 4629, 'rise': 3702, 'bacall': 377, 'devoid': 1230, 'blair': 497, 'zombie': 4997, 'burn': 625, 'careers': 687, 'vacation': 4704, 'synopsis': 4344, 'reference': 3582, 'page': 3167, 'pushing': 3479, 'fifteen': 1706, 'bright': 581, 'jonathan': 2417, 'blind': 506, 'junior': 2435, 'assume': 328, 'smoking': 4040, 'aids': 161, 'brenda': 575, 'curiosity': 1082, 'caliber': 649, 'facing': 1620, 'burned': 626, '1990': 24, 'voiced': 4762, 'unforgettable': 4652, 'deadly': 1133, 'lively': 2627, 'spends': 4107, 'chicks': 787, 'dig': 1250, 'suits': 4287, 'guessed': 1990, '17': 9, 'jackie': 2374, 'darker': 1116, 'midnight': 2834, 'studios': 4241, 'grab': 1949, 'throat': 4476, 'beatty': 427, 'imitation': 2241, 'miscast': 2862, '1st': 28, '2nd': 41, 'iraq': 2351, 'cinderella': 815, 'kings': 2481, 'jealous': 2388, 'macy': 2695, 'crack': 1027, 'cheated': 775, 'possibilities': 3348, 'sentence': 3881, 'attacked': 338, 'trial': 4580, 'charlotte': 766, 'reached': 3537, 'causes': 725, 'bridge': 578, 'river': 3707, 'gandhi': 1866, 'historically': 2120, 'india': 2273, 'masses': 2755, 'educational': 1425, 'link': 2613, 'seeks': 3860, 'kapoor': 2443, 'medium': 2792, 'poverty': 3357, 'poster': 3353, 'intentionally': 2320, 'quotes': 3497, 'singers': 3994, 'thrilling': 4474, 'substance': 4258, 'abilities': 64, 'satisfy': 3790, 'pretending': 3382, 'stanwyck': 4149, 'dawn': 1127, 'funnier': 1850, 'st': 4137, 'karen': 2444, 'grows': 1985, 'quit': 3494, 'hilariously': 2107, 'spoof': 4127, 'birth': 486, 'sounding': 4083, 'possibility': 3349, 'rotten': 3740, 'calls': 654, 'guide': 1993, 'claimed': 829, 'lynch': 2691, 'exposed': 1598, 'survived': 4322, 'shall': 3916, 'thousand': 4465, 'vincent': 4746, 'rolled': 3729, 'activities': 102, 'montana': 2895, 'irrelevant': 2358, 'attitudes': 347, 'helen': 2075, 'neighbor': 2992, 'billy': 482, 'adequate': 120, 'combine': 884, 'flop': 1760, 'notice': 3048, 'decade': 1144, 'jenny': 2393, 'mom': 2885, 'fears': 1677, 'youth': 4994, 'manipulative': 2727, 'corrupt': 1001, 'newspaper': 3006, 'precious': 3366, 'sneak': 4043, 'stinker': 4191, 'beneath': 464, 'credibility': 1047, 'critic': 1061, 'annie': 247, 'forest': 1791, 'cliff': 847, 'drives': 1367, 'hundreds': 2196, 'driving': 1368, 'scrooge': 3837, 'authentic': 358, 'understated': 4646, 'harsh': 2040, 'dickens': 1240, 'bell': 458, 'hopeless': 2158, 'kate': 2446, 'karloff': 2445, 'bela': 450, 'lugosi': 2686, 'felix': 1689, 'enjoys': 1489, 'appearances': 275, 'surfing': 4311, 'lessons': 2578, 'pat': 3208, 'mail': 2706, 'suffice': 4279, 'stones': 4198, 'wolf': 4920, 'ludicrous': 2685, 'rebel': 3561, 'fond': 1776, 'strike': 4224, 'suggests': 4282, 'crocodile': 1065, 'hunters': 2200, 'polished': 3323, 'specifically': 4100, 'ian': 2209, 'norman': 3035, 'streisand': 4218, '1973': 19, 'lincoln': 2608, 'ford': 1789, 'satisfied': 3789, 'threat': 4467, 'smoke': 4039, 'abysmal': 76, 'alas': 172, 'kung': 2498, 'fu': 1844, 'li': 2587, 'lion': 2614, 'kay': 2447, 'represents': 3639, 'carefully': 689, 'crucial': 1068, 'accomplished': 87, '2003': 33, 'minimal': 2855, 'scheme': 3812, 'primarily': 3393, 'ambitious': 211, 'superman': 4301, 'cowboy': 1025, 'preview': 3386, 'pseudo': 3454, 'improved': 2255, 'holes': 2133, 'careful': 688, 'executive': 1567, 'trashy': 4566, 'spielberg': 4110, 'creation': 1040, 'arguably': 289, 'forth': 1804, 'welles': 4844, 'titanic': 4503, 'wide': 4880, 'poetry': 3314, 'boxing': 556, 'broadcast': 591, 'stomach': 4196, 'philosophy': 3254, 'spiritual': 4116, 'leg': 2562, 'belong': 459, 'gender': 1878, 'blowing': 515, 'mate': 2765, 'liberal': 2588, 'exact': 1550, 'exposure': 1599, 'cases': 708, 'packed': 3166, 'exploration': 1593, 'stereotypical': 4180, 'nonsensical': 3031, 'explored': 1595, 'portion': 3338, 'block': 508, 'disappeared': 1271, 'surviving': 4323, 'spending': 4106, 'signs': 3973, 'obscure': 3068, 'mildly': 2840, 'matt': 2768, 'vote': 4766, 'extended': 1604, 'principal': 3398, 'sentimental': 3882, 'gerard': 1895, 'march': 2734, 'secrets': 3852, 'thrillers': 4473, 'unhappy': 4656, 'maggie': 2702, 'phantom': 3251, 'terrorists': 4414, 'bus': 631, 'admire': 121, 'pursuit': 3476, 'mall': 2720, 'talked': 4359, 'blacks': 494, 'homosexual': 2145, 'virginia': 4750, 'bonus': 534, 'reasonable': 3558, 'carries': 699, 'someones': 4065, 'closed': 854, 'hook': 2152, 'highest': 2102, 'answers': 252, 'mysteries': 2954, 'catherine': 719, 'screams': 3828, 'cary': 706, '75': 57, 'reynolds': 3684, 'loosely': 2651, 'pacino': 3164, 'madonna': 2699, 'glenn': 1918, 'hoffman': 2128, 'tommy': 4516, 'visits': 4756, 'glover': 1923, 'knowledge': 2491, 'goldberg': 1933, 'elizabeth': 1445, 'mars': 2746, 'museum': 2945, 'birthday': 487, 'closest': 857, 'masterpieces': 2760, 'doc': 1303, 'sid': 3964, 'settle': 3902, 'removed': 3624, 'bettie': 473, 'dressing': 1359, 'realise': 3548, 'raped': 3522, 'picking': 3267, 'endure': 1475, 'toys': 4543, 'enjoyment': 1488, 'opposed': 3122, 'richards': 3687, '1996': 26, 'passionate': 3206, 'picks': 3268, 'creativity': 1042, 'joan': 2404, 'rendition': 3625, 'advanced': 128, 'headed': 2058, 'trail': 4553, 'jay': 2386, 'southern': 4088, 'bargain': 400, 'sandra': 3782, 'pitt': 3280, 'photographer': 3259, 'split': 4120, 'ought': 3138, 'phony': 3256, 'painted': 3174, 'screening': 3830, 'melting': 2799, 'visible': 4753, 'jake': 2377, 'freddy': 1826, 'mature': 2773, 'dracula': 1341, 'frankenstein': 1822, 'daily': 1097, 'fortunately': 1805, 'harvey': 2042, 'moon': 2900, 'fulci': 1845, 'buff': 611, 'porno': 3337, 'button': 639, 'execution': 1566, 'advantage': 129, 'suggested': 4281, 'accompanied': 86, 'doom': 1326, 'hart': 2041, 'spike': 4111, 'lou': 2663, 'irish': 2353, 'orson': 3132, 'shower': 3957, 'awake': 365, 'luckily': 2682, 'showcase': 3954, 'grey': 1973, 'relations': 3596, 'ripped': 3701, 'motivations': 2915, 'prom': 3429, 'chuck': 812, 'seagal': 3839, 'reunion': 3669, 'ingredients': 2289, 'dollars': 1315, 'paranoia': 3186, 'elvis': 1451, 'conceived': 929, 'involvement': 2347, 'feed': 1683, 'cg': 739, 'folk': 1770, 'robbins': 3712, 'homer': 2144, 'ignorant': 2223, 'jerk': 2395, 'mildred': 2841, 'teenager': 4390, 'aging': 153, 'treats': 4575, 'charge': 761, 'mexican': 2826, '40': 48, 'patients': 3212, 'dolph': 1317, 'modesty': 2883, 'similarities': 3979, 'pit': 3278, 'official': 3094, 'via': 4726, 'butt': 638, 'wendy': 4846, 'ruby': 3749, 'dialogues': 1235, 'blank': 501, 'temple': 4398, 'coach': 868, 'parties': 3196, 'shirley': 3936, 'bath': 411, 'acid': 95, 'method': 2824, 'lowest': 2678, 'curse': 1086, 'stunt': 4245, 'relation': 3595, 'hippie': 2115, 'miserable': 2863, 'protect': 3443, 'menacing': 2807, 'terrifying': 4410, 'improvement': 2256, 'extent': 1605, 'defense': 1159, 'tends': 4402, 'ireland': 2352, 'impress': 2250, 'prequel': 3372, 'samurai': 3779, 'ya': 4976, 'francis': 1818, 'fay': 1674, 'ensues': 1493, 'alongside': 196, 'rocks': 3722, 'resident': 3647, 'weapon': 4828, 'catches': 715, 'abraham': 69, 'arrived': 301, 'streep': 4215, 'storytelling': 4209, 'inferior': 2285, 'glimpse': 1919, 'blew': 505, 'virus': 4752, 'wisdom': 4902, 'hysterical': 2208, 'complaint': 920, 'legal': 2563, 'switch': 4339, 'maintain': 2710, 'cooper': 990, 'survivor': 4324, 'ridden': 3691, 'convincingly': 986, 'repetitive': 3633, 'carradine': 695, 'tame': 4363, 'bush': 632, 'transition': 4561, 'documentaries': 1306, 'tonight': 4519, 'eastern': 1408, 'brand': 565, 'usa': 4691, 'unreal': 4676, 'distinct': 1296, 'mansion': 2731, 'existed': 1570, 'waves': 4819, 'clip': 851, 'valley': 4707, 'tomatoes': 4515, 'diane': 1238, 'mentions': 2813, 'parallel': 3185, 'reads': 3545, 'vivid': 4760, 'intimate': 2331, 'countless': 1012, 'gundam': 1997, 'pops': 3332, 'rights': 3697, 'iran': 2350, 'flynn': 1765, 'ward': 4793, 'illegal': 2229, 'urge': 4689, 'flawed': 1750, 'distribution': 1298, 'stooges': 4200, 'appearing': 277, 'solely': 4056, 'hamlet': 2013, 'ships': 3935, 'danes': 1108, 'merits': 2817, 'incomprehensible': 2267, 'sidney': 3968, 'myers': 2952, 'commented': 900, 'truck': 4595, 'monkeys': 2891, 'terry': 4415, 'vegas': 4717, 'snow': 4045, 'madness': 2698, '13': 4, 'hates': 2048, 'homeless': 2143, 'buried': 624, 'lumet': 2688, 'tad': 4347, 'stale': 4141, 'assumed': 329, 'popcorn': 3331, 'nine': 3017, 'dennis': 1179, 'psychotic': 3459, 'slaughter': 4021, 'outcome': 3142, 'hopper': 2161, 'nicholson': 3011, 'conflicts': 940, 'afford': 138, 'uninspired': 4657, 'poem': 3312, 'roots': 3738, 'frustration': 1843, 'voight': 4764, 'hung': 2197, 'carrey': 696, 'wreck': 4965, 'diamond': 1236, 'root': 3737, 'wholly': 4874, 'lemmon': 2567, 'pot': 3354, 'mechanical': 2788, '1933': 12, 'lena': 2568, 'roy': 3745, 'rocket': 3721, 'paulie': 3215, 'kicked': 2461, 'classical': 836, 'cd': 728, 'edie': 1419, 'letters': 2582, 'disappear': 1270, 'scottish': 3825, 'wacky': 4769, 'bite': 489, 'huh': 2187, 'ashley': 313, 'paltrow': 3178, 'firstly': 1737, 'orange': 3125, 'holly': 2136, 'kubrick': 2496, 'plastic': 3294, 'desperation': 1210, 'troops': 4591, 'colonel': 876, 'atlantis': 332, 'grinch': 1975, 'cagney': 646, 'appreciation': 281, 'wrestling': 4966, 'matthau': 2771, 'der': 1191, 'pulp': 3465, 'stevens': 4183, 'lily': 2605, 'dawson': 1128, 'gabriel': 1859, 'stretched': 4222, 'robots': 3718, 'diana': 1237, 'morality': 2903, 'andrews': 229, 'germans': 1897, 'bourne': 554, 'literature': 2623, 'scarecrow': 3804, 'models': 2881, 'rambo': 3511, 'mayor': 2777, 'elephant': 1444, 'hello': 2078, 'elvira': 1450}\n"
     ]
    }
   ],
   "source": [
    "print(str(vocabulary))"
   ]
  },
  {
   "cell_type": "markdown",
   "metadata": {},
   "source": [
    "Once you have added the endpoint name to the Lambda function, click on **Save**. Your Lambda function is now up and running. Next we need to create a way for our web app to execute the Lambda function."
   ]
  },
  {
   "cell_type": "markdown",
   "metadata": {},
   "source": [
    "### Setting up API Gateway\n",
    "\n",
    "Now that our Lambda function is set up, it is time to create a new API using API Gateway that will trigger the Lambda function we have just created.\n",
    "\n",
    "Using AWS Console, navigate to **Amazon API Gateway** and then click on **Get started**.\n",
    "\n",
    "On the next page, make sure that **New API** is selected and give the new api a name, for example, `sentiment_analysis_web_app`. Then, click on **Create API**.\n",
    "\n",
    "Now we have created an API, however it doesn't currently do anything. What we want it to do is to trigger the Lambda function that we created earlier.\n",
    "\n",
    "Select the **Actions** dropdown menu and click **Create Method**. A new blank method will be created, select its dropdown menu and select **POST**, then click on the check mark beside it.\n",
    "\n",
    "For the integration point, make sure that **Lambda Function** is selected and click on the **Use Lambda Proxy integration**. This option makes sure that the data that is sent to the API is then sent directly to the Lambda function with no processing. It also means that the return value must be a proper response object as it will also not be processed by API Gateway.\n",
    "\n",
    "Type the name of the Lambda function you created earlier into the **Lambda Function** text entry box and then click on **Save**. Click on **OK** in the pop-up box that then appears, giving permission to API Gateway to invoke the Lambda function you created.\n",
    "\n",
    "The last step in creating the API Gateway is to select the **Actions** dropdown and click on **Deploy API**. You will need to create a new Deployment stage and name it anything you like, for example `prod`.\n",
    "\n",
    "You have now successfully set up a public API to access your SageMaker model. Make sure to copy or write down the URL provided to invoke your newly created public API as this will be needed in the next step. This URL can be found at the top of the page, highlighted in blue next to the text **Invoke URL**."
   ]
  },
  {
   "cell_type": "markdown",
   "metadata": {},
   "source": [
    "## Step 7: Deploying our web app\n",
    "\n",
    "Now that we have a publicly available API, we can start using it in a web app. For our purposes, we have provided a simple static html file which can make use of the public api you created earlier.\n",
    "\n",
    "In the `website` folder there should be a file called `index.html`. Download the file to your computer and open that file up in a text editor of your choice. There should be a line which contains **\\*\\*REPLACE WITH PUBLIC API URL\\*\\***. Replace this string with the url that you wrote down in the last step and then save the file.\n",
    "\n",
    "Now, if you open `index.html` on your local computer, your browser will behave as a local web server and you can use the provided site to interact with your SageMaker model.\n",
    "\n",
    "If you'd like to go further, you can host this html file anywhere you'd like, for example using github or hosting a static site on Amazon's S3. Once you have done this you can share the link with anyone you'd like and have them play with it too!\n",
    "\n",
    "> **Important Note** In order for the web app to communicate with the SageMaker endpoint, the endpoint has to actually be deployed and running. This means that you are paying for it. Make sure that the endpoint is running when you want to use the web app but that you shut it down when you don't need it, otherwise you will end up with a surprisingly large AWS bill."
   ]
  },
  {
   "cell_type": "markdown",
   "metadata": {},
   "source": [
    "### Delete the endpoint\n",
    "\n",
    "Remember to always shut down your endpoint if you are no longer using it. You are charged for the length of time that the endpoint is running so if you forget and leave it on you could end up with an unexpectedly large bill."
   ]
  },
  {
   "cell_type": "code",
   "execution_count": 5,
   "metadata": {},
   "outputs": [
    {
     "ename": "NameError",
     "evalue": "name 'xgb_predictor' is not defined",
     "output_type": "error",
     "traceback": [
      "\u001b[0;31m---------------------------------------------------------------------------\u001b[0m",
      "\u001b[0;31mNameError\u001b[0m                                 Traceback (most recent call last)",
      "\u001b[0;32m<ipython-input-5-16a6b43a8b29>\u001b[0m in \u001b[0;36m<module>\u001b[0;34m\u001b[0m\n\u001b[0;32m----> 1\u001b[0;31m \u001b[0mxgb_predictor\u001b[0m\u001b[0;34m.\u001b[0m\u001b[0mdelete_endpoint\u001b[0m\u001b[0;34m(\u001b[0m\u001b[0;34m)\u001b[0m\u001b[0;34m\u001b[0m\u001b[0;34m\u001b[0m\u001b[0m\n\u001b[0m",
      "\u001b[0;31mNameError\u001b[0m: name 'xgb_predictor' is not defined"
     ]
    }
   ],
   "source": [
    "xgb_predictor.delete_endpoint()"
   ]
  },
  {
   "cell_type": "markdown",
   "metadata": {},
   "source": [
    "## Optional: Clean up\n",
    "\n",
    "The default notebook instance on SageMaker doesn't have a lot of excess disk space available. As you continue to complete and execute notebooks you will eventually fill up this disk space, leading to errors which can be difficult to diagnose. Once you are completely finished using a notebook it is a good idea to remove the files that you created along the way. Of course, you can do this from the terminal or from the notebook hub if you would like. The cell below contains some commands to clean up the created files from within the notebook."
   ]
  },
  {
   "cell_type": "code",
   "execution_count": 8,
   "metadata": {},
   "outputs": [
    {
     "name": "stdout",
     "output_type": "stream",
     "text": [
      "rm: cannot remove ‘/bin’: Is a directory\n",
      "rm: cannot remove ‘/boot’: Is a directory\n",
      "rm: cannot remove ‘/cgroup’: Is a directory\n",
      "rm: cannot remove ‘/dev’: Is a directory\n",
      "rm: cannot remove ‘/etc’: Is a directory\n",
      "rm: cannot remove ‘/home’: Is a directory\n",
      "rm: cannot remove ‘/lib’: Is a directory\n",
      "rm: cannot remove ‘/lib64’: Is a directory\n",
      "rm: cannot remove ‘/local’: Is a directory\n",
      "rm: cannot remove ‘/lost+found’: Is a directory\n",
      "rm: cannot remove ‘/media’: Is a directory\n",
      "rm: cannot remove ‘/mnt’: Is a directory\n",
      "rm: cannot remove ‘/opt’: Is a directory\n",
      "rm: cannot remove ‘/proc’: Is a directory\n",
      "rm: cannot remove ‘/root’: Is a directory\n",
      "rm: cannot remove ‘/run’: Is a directory\n",
      "rm: cannot remove ‘/sbin’: Is a directory\n",
      "rm: cannot remove ‘/selinux’: Is a directory\n",
      "rm: cannot remove ‘/srv’: Is a directory\n",
      "rm: cannot remove ‘/sys’: Is a directory\n",
      "rm: cannot remove ‘/tmp’: Is a directory\n",
      "rm: cannot remove ‘/usr’: Is a directory\n",
      "rm: cannot remove ‘/var’: Is a directory\n",
      "rmdir: missing operand\n",
      "Try 'rmdir --help' for more information.\n",
      "rm: cannot remove ‘/bin’: Is a directory\n",
      "rm: cannot remove ‘/boot’: Is a directory\n",
      "rm: cannot remove ‘/cgroup’: Is a directory\n",
      "rm: cannot remove ‘/dev’: Is a directory\n",
      "rm: cannot remove ‘/etc’: Is a directory\n",
      "rm: cannot remove ‘/home’: Is a directory\n",
      "rm: cannot remove ‘/lib’: Is a directory\n",
      "rm: cannot remove ‘/lib64’: Is a directory\n",
      "rm: cannot remove ‘/local’: Is a directory\n",
      "rm: cannot remove ‘/lost+found’: Is a directory\n",
      "rm: cannot remove ‘/media’: Is a directory\n",
      "rm: cannot remove ‘/mnt’: Is a directory\n",
      "rm: cannot remove ‘/opt’: Is a directory\n",
      "rm: cannot remove ‘/proc’: Is a directory\n",
      "rm: cannot remove ‘/root’: Is a directory\n",
      "rm: cannot remove ‘/run’: Is a directory\n",
      "rm: cannot remove ‘/sbin’: Is a directory\n",
      "rm: cannot remove ‘/selinux’: Is a directory\n",
      "rm: cannot remove ‘/srv’: Is a directory\n",
      "rm: cannot remove ‘/sys’: Is a directory\n",
      "rm: cannot remove ‘/tmp’: Is a directory\n",
      "rm: cannot remove ‘/usr’: Is a directory\n",
      "rm: cannot remove ‘/var’: Is a directory\n",
      "rmdir: missing operand\n",
      "Try 'rmdir --help' for more information.\n"
     ]
    }
   ],
   "source": [
    "# First we will remove all of the files contained in the data_dir directory\n",
    "!rm $data_dir/*\n",
    "\n",
    "# And then we delete the directory itself\n",
    "!rmdir $data_dir\n",
    "\n",
    "# Similarly we remove the files in the cache_dir directory and the directory itself\n",
    "!rm $cache_dir/*\n",
    "!rmdir $cache_dir"
   ]
  },
  {
   "cell_type": "code",
   "execution_count": null,
   "metadata": {},
   "outputs": [],
   "source": []
  },
  {
   "cell_type": "code",
   "execution_count": null,
   "metadata": {},
   "outputs": [],
   "source": []
  }
 ],
 "metadata": {
  "kernelspec": {
   "display_name": "conda_pytorch_p36",
   "language": "python",
   "name": "conda_pytorch_p36"
  },
  "language_info": {
   "codemirror_mode": {
    "name": "ipython",
    "version": 3
   },
   "file_extension": ".py",
   "mimetype": "text/x-python",
   "name": "python",
   "nbconvert_exporter": "python",
   "pygments_lexer": "ipython3",
   "version": "3.6.10"
  }
 },
 "nbformat": 4,
 "nbformat_minor": 2
}
